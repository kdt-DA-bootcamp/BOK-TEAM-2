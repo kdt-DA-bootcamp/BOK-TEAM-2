{
 "cells": [
  {
   "cell_type": "code",
   "execution_count": 6,
   "metadata": {},
   "outputs": [],
   "source": [
    "from PublicDataReader import Ecos\n",
    "from dotenv import load_dotenv\n",
    "import os\n",
    "\n",
    "# .env 파일 로드\n",
    "load_dotenv(\"config.env\")\n",
    "\n",
    "# API 키 가져오기\n",
    "api_key = os.getenv(\"API_KEY\")\n",
    "\n",
    "# ECOS API 인증키 (한국은행 Open API에서 발급받아야 함)\n",
    "service_key = \"AKW6AMU0TUCMLOE79Q43\"\n",
    "\n",
    "# ECOS 객체 생성\n",
    "api = Ecos(service_key)\n",
    "\n",
    "# 콜금리 데이터 조회 (통계표코드: 722Y001, 항목코드: 0101000)\n",
    "df = api.get_statistic_search(\n",
    "    통계표코드=\"722Y001\",       # 통계표 코드 (시장금리)\n",
    "    주기=\"D\",                  # 데이터 주기 (D: 일별, M: 월별 등)\n",
    "    검색시작일자=\"20080101\",    # 시작 날짜\n",
    "    검색종료일자=\"20250223\",    # 종료 날짜\n",
    "    통계항목코드1=\"0102000\"     # 항목 코드 (콜금리 익일물)\n",
    ")\n",
    "\n",
    "output_csv_path = \"call_rate.csv\"  # 저장할 파일 이름과 경로\n",
    "df.to_csv(output_csv_path, index=False, encoding='utf-8-sig')  # UTF-8 인코딩"
   ]
  },
  {
   "cell_type": "code",
   "execution_count": 2,
   "metadata": {},
   "outputs": [
    {
     "name": "stdout",
     "output_type": "stream",
     "text": [
      "Collecting PublicDataReader\n",
      "  Downloading PublicDataReader-1.1.1.post1-py3-none-any.whl.metadata (16 kB)\n",
      "Collecting pandas==2.2.3 (from PublicDataReader)\n",
      "  Using cached pandas-2.2.3-cp312-cp312-win_amd64.whl.metadata (19 kB)\n",
      "Requirement already satisfied: requests==2.32.3 in c:\\users\\yoons\\anaconda3\\lib\\site-packages (from PublicDataReader) (2.32.3)\n",
      "Collecting xmltodict==0.14.2 (from PublicDataReader)\n",
      "  Downloading xmltodict-0.14.2-py2.py3-none-any.whl.metadata (8.0 kB)\n",
      "Collecting beautifulsoup4==4.13.3 (from PublicDataReader)\n",
      "  Using cached beautifulsoup4-4.13.3-py3-none-any.whl.metadata (3.8 kB)\n",
      "Requirement already satisfied: soupsieve>1.2 in c:\\users\\yoons\\anaconda3\\lib\\site-packages (from beautifulsoup4==4.13.3->PublicDataReader) (2.5)\n",
      "Requirement already satisfied: typing-extensions>=4.0.0 in c:\\users\\yoons\\anaconda3\\lib\\site-packages (from beautifulsoup4==4.13.3->PublicDataReader) (4.11.0)\n",
      "Requirement already satisfied: numpy>=1.26.0 in c:\\users\\yoons\\anaconda3\\lib\\site-packages (from pandas==2.2.3->PublicDataReader) (1.26.4)\n",
      "Requirement already satisfied: python-dateutil>=2.8.2 in c:\\users\\yoons\\anaconda3\\lib\\site-packages (from pandas==2.2.3->PublicDataReader) (2.9.0.post0)\n",
      "Requirement already satisfied: pytz>=2020.1 in c:\\users\\yoons\\anaconda3\\lib\\site-packages (from pandas==2.2.3->PublicDataReader) (2024.1)\n",
      "Requirement already satisfied: tzdata>=2022.7 in c:\\users\\yoons\\anaconda3\\lib\\site-packages (from pandas==2.2.3->PublicDataReader) (2023.3)\n",
      "Requirement already satisfied: charset-normalizer<4,>=2 in c:\\users\\yoons\\anaconda3\\lib\\site-packages (from requests==2.32.3->PublicDataReader) (3.3.2)\n",
      "Requirement already satisfied: idna<4,>=2.5 in c:\\users\\yoons\\anaconda3\\lib\\site-packages (from requests==2.32.3->PublicDataReader) (3.7)\n",
      "Requirement already satisfied: urllib3<3,>=1.21.1 in c:\\users\\yoons\\anaconda3\\lib\\site-packages (from requests==2.32.3->PublicDataReader) (2.2.3)\n",
      "Requirement already satisfied: certifi>=2017.4.17 in c:\\users\\yoons\\anaconda3\\lib\\site-packages (from requests==2.32.3->PublicDataReader) (2024.12.14)\n",
      "Requirement already satisfied: six>=1.5 in c:\\users\\yoons\\anaconda3\\lib\\site-packages (from python-dateutil>=2.8.2->pandas==2.2.3->PublicDataReader) (1.16.0)\n",
      "Downloading PublicDataReader-1.1.1.post1-py3-none-any.whl (3.2 MB)\n",
      "   ---------------------------------------- 0.0/3.2 MB ? eta -:--:--\n",
      "   ---------------------------------------- 3.2/3.2 MB 23.7 MB/s eta 0:00:00\n",
      "Using cached beautifulsoup4-4.13.3-py3-none-any.whl (186 kB)\n",
      "Using cached pandas-2.2.3-cp312-cp312-win_amd64.whl (11.5 MB)\n",
      "Downloading xmltodict-0.14.2-py2.py3-none-any.whl (10.0 kB)\n",
      "Installing collected packages: xmltodict, beautifulsoup4, pandas, PublicDataReader\n",
      "  Attempting uninstall: beautifulsoup4\n",
      "    Found existing installation: beautifulsoup4 4.12.3\n",
      "    Uninstalling beautifulsoup4-4.12.3:\n",
      "      Successfully uninstalled beautifulsoup4-4.12.3\n",
      "  Attempting uninstall: pandas\n",
      "    Found existing installation: pandas 2.2.2\n",
      "    Uninstalling pandas-2.2.2:\n",
      "      Successfully uninstalled pandas-2.2.2\n",
      "Successfully installed PublicDataReader-1.1.1.post1 beautifulsoup4-4.13.3 pandas-2.2.3 xmltodict-0.14.2\n",
      "Note: you may need to restart the kernel to use updated packages.\n"
     ]
    },
    {
     "name": "stderr",
     "output_type": "stream",
     "text": [
      "\n",
      "[notice] A new release of pip is available: 24.3.1 -> 25.0.1\n",
      "[notice] To update, run: python.exe -m pip install --upgrade pip\n"
     ]
    }
   ],
   "source": [
    "%pip install PublicDataReader\n"
   ]
  },
  {
   "cell_type": "code",
   "execution_count": null,
   "metadata": {},
   "outputs": [],
   "source": []
  },
  {
   "cell_type": "code",
   "execution_count": null,
   "metadata": {},
   "outputs": [],
   "source": []
  },
  {
   "cell_type": "code",
   "execution_count": null,
   "metadata": {},
   "outputs": [],
   "source": []
  },
  {
   "cell_type": "code",
   "execution_count": null,
   "metadata": {},
   "outputs": [],
   "source": []
  },
  {
   "cell_type": "code",
   "execution_count": null,
   "metadata": {},
   "outputs": [],
   "source": []
  },
  {
   "cell_type": "code",
   "execution_count": null,
   "metadata": {},
   "outputs": [],
   "source": []
  },
  {
   "cell_type": "code",
   "execution_count": null,
   "metadata": {},
   "outputs": [],
   "source": []
  }
 ],
 "metadata": {
  "kernelspec": {
   "display_name": "base",
   "language": "python",
   "name": "python3"
  },
  "language_info": {
   "codemirror_mode": {
    "name": "ipython",
    "version": 3
   },
   "file_extension": ".py",
   "mimetype": "text/x-python",
   "name": "python",
   "nbconvert_exporter": "python",
   "pygments_lexer": "ipython3",
   "version": "3.12.7"
  }
 },
 "nbformat": 4,
 "nbformat_minor": 2
}
