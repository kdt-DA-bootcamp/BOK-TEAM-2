{
 "cells": [
  {
   "cell_type": "code",
   "execution_count": 2,
   "metadata": {},
   "outputs": [],
   "source": [
    "from PublicDataReader import Ecos\n",
    "from dotenv import load_dotenv\n",
    "import os\n",
    "\n",
    "# .env 파일 로드\n",
    "load_dotenv(\"config.env\")\n",
    "\n",
    "# API 키 가져오기\n",
    "api_key = os.getenv(\"API_KEY\")\n",
    "\n",
    "# ECOS API 인증키 (한국은행 Open API에서 발급받아야 함)\n",
    "service_key = \"AKW6AMU0TUCMLOE79Q43\"\n",
    "\n",
    "# ECOS 객체 생성\n",
    "api = Ecos(service_key)\n",
    "\n",
    "# 콜금리 데이터 조회 (통계표코드: 722Y001, 항목코드: 0101000)\n",
    "df = api.get_statistic_search(\n",
    "    통계표코드=\"722Y001\",       # 통계표 코드 (시장금리)\n",
    "    주기=\"D\",                  # 데이터 주기 (D: 일별, M: 월별 등)\n",
    "    검색시작일자=\"20080101\",    # 시작 날짜\n",
    "    검색종료일자=\"20250223\",    # 종료 날짜\n",
    "    통계항목코드1=\"0101000\"     # 항목 코드 (콜금리 익일물)\n",
    ")\n",
    "\n",
    "output_csv_path = \"call_rate_data.csv\"  # 저장할 파일 이름과 경로\n",
    "df.to_csv(output_csv_path, index=False, encoding='utf-8-sig')  # UTF-8 인코딩"
   ]
  },
  {
   "cell_type": "code",
   "execution_count": null,
   "metadata": {},
   "outputs": [],
   "source": []
  },
  {
   "cell_type": "code",
   "execution_count": null,
   "metadata": {},
   "outputs": [],
   "source": []
  },
  {
   "cell_type": "code",
   "execution_count": null,
   "metadata": {},
   "outputs": [],
   "source": []
  },
  {
   "cell_type": "code",
   "execution_count": null,
   "metadata": {},
   "outputs": [],
   "source": []
  }
 ],
 "metadata": {
  "kernelspec": {
   "display_name": "base",
   "language": "python",
   "name": "python3"
  },
  "language_info": {
   "codemirror_mode": {
    "name": "ipython",
    "version": 3
   },
   "file_extension": ".py",
   "mimetype": "text/x-python",
   "name": "python",
   "nbconvert_exporter": "python",
   "pygments_lexer": "ipython3",
   "version": "3.12.7"
  }
 },
 "nbformat": 4,
 "nbformat_minor": 2
}
