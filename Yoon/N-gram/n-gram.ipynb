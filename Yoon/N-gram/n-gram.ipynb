{
 "cells": [
  {
   "cell_type": "markdown",
   "metadata": {},
   "source": [
    "### 준비과정"
   ]
  },
  {
   "cell_type": "code",
   "execution_count": 10,
   "metadata": {},
   "outputs": [],
   "source": [
    "from sklearn.feature_extraction.text import CountVectorizer\n",
    "import pandas as pd\n",
    "from sklearn.naive_bayes import MultinomialNB\n",
    "from sklearn.model_selection import train_test_split\n",
    "from sklearn.metrics import accuracy_score\n",
    "\n",
    "import matplotlib.pyplot as plt\n",
    "import seaborn as sns"
   ]
  },
  {
   "cell_type": "code",
   "execution_count": null,
   "metadata": {},
   "outputs": [
    {
     "name": "stdout",
     "output_type": "stream",
     "text": [
      "               1                                                  2\n",
      "0           date                                             tagged\n",
      "1     2010-01-01  [('아이슬란드', 'NNG'), ('영국', 'NNG'), ('네덜란드', 'NN...\n",
      "2     2010-01-03  [('한국은행', 'NNG'), ('금융통화위원회', 'NNG'), ('기준금리',...\n",
      "3     2010-01-04  [('지난해', 'NNG'), ('가계', 'NNG'), ('대출', 'NNG'),...\n",
      "4     2010-01-05  [('시중', 'NNG'), ('금리', 'NNG'), ('슬금슬금', 'MAG')...\n",
      "...          ...                                                ...\n",
      "5337  2025-02-23  [('은행', 'NNG'), ('보험', 'NNG'), ('증권사', 'NNG'),...\n",
      "5338  2025-02-24  [('사진', 'NNG'), ('뱅크', 'NNG'), ('자금', 'NNG'), ...\n",
      "5339  2025-02-25  [('일비', 'NNG'), ('수도권', 'NNG'), ('최초', 'NNG'),...\n",
      "5340  2025-02-26  [('마켓', 'NNG'), ('오후', 'NNG'), ('금융투자업계', 'NNG...\n",
      "5341  2025-02-27  [('사진', 'NNG'), ('미국', 'NNG'), ('증시', 'NNG'), ...\n",
      "\n",
      "[5342 rows x 2 columns]\n"
     ]
    }
   ],
   "source": [
    "\n",
    "\n",
    "# CSV 파일 불러오기\n",
    "df = pd.read_csv(\"merged_tokens.csv\", header=None)\n",
    "\n",
    "df = df.drop(columns=[0, 3])\n",
    "\n",
    "print(df)\n",
    "\n",
    "df.to_csv(\"새로운파일.csv\", index=False, header=False)\n"
   ]
  },
  {
   "cell_type": "markdown",
   "metadata": {},
   "source": [
    "### n-그램 분석"
   ]
  },
  {
   "cell_type": "code",
   "execution_count": 4,
   "metadata": {},
   "outputs": [],
   "source": [
    "df= pd.read_csv(\"새로운파일.csv\", header=None)"
   ]
  },
  {
   "cell_type": "code",
   "execution_count": 9,
   "metadata": {},
   "outputs": [
    {
     "name": "stdout",
     "output_type": "stream",
     "text": [
      "벡터크기: (5342, 44595505)\n"
     ]
    }
   ],
   "source": [
    "vectorizer= CountVectorizer(ngram_range=(5,5))\n",
    "X=vectorizer.fit_transform(df[1])\n",
    "print(\"벡터크기:\", X.shape)"
   ]
  },
  {
   "cell_type": "markdown",
   "metadata": {},
   "source": [
    "### 시각화를 해볼까?\n"
   ]
  },
  {
   "cell_type": "code",
   "execution_count": 12,
   "metadata": {},
   "outputs": [],
   "source": [
    "#n-5그램 빈도계산\n",
    "gram=X.sum(axis=0)\n",
    "gram_feat=vectorizer.get_feature_names_out()"
   ]
  },
  {
   "cell_type": "code",
   "execution_count": 18,
   "metadata": {},
   "outputs": [],
   "source": [
    "gramfreq=pd.DataFrame(list(zip(gram_feat, gram)), columns=[\"ngram\", \"count\"])\n",
    "gramfreq=gramfreq.sort_values(by=\"count\",ascending=False).head(10)"
   ]
  },
  {
   "cell_type": "markdown",
   "metadata": {},
   "source": [
    "### 실패\n"
   ]
  },
  {
   "cell_type": "code",
   "execution_count": null,
   "metadata": {},
   "outputs": [],
   "source": []
  },
  {
   "cell_type": "code",
   "execution_count": null,
   "metadata": {},
   "outputs": [],
   "source": [
    "plt.figure(figsize=(10,6))\n",
    "sns.barplot(x=\"count\", y=\"ngram\", data=gramfreq, palette=\"viridis\")\n"
   ]
  }
 ],
 "metadata": {
  "kernelspec": {
   "display_name": "base",
   "language": "python",
   "name": "python3"
  },
  "language_info": {
   "codemirror_mode": {
    "name": "ipython",
    "version": 3
   },
   "file_extension": ".py",
   "mimetype": "text/x-python",
   "name": "python",
   "nbconvert_exporter": "python",
   "pygments_lexer": "ipython3",
   "version": "3.12.7"
  }
 },
 "nbformat": 4,
 "nbformat_minor": 2
}
