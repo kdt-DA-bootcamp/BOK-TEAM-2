{
 "cells": [
  {
   "cell_type": "markdown",
   "metadata": {},
   "source": [
    "### 파일병합"
   ]
  },
  {
   "cell_type": "code",
   "execution_count": null,
   "metadata": {},
   "outputs": [
    {
     "name": "stdout",
     "output_type": "stream",
     "text": [
      "병합 완료! 저장된 파일: merged_results.csv\n"
     ]
    }
   ],
   "source": [
    "import pandas as pd\n",
    "\n",
    "# 파일 경로 설정\n",
    "file1 = \"20.csv\"\n",
    "file2 = \"2016to2025_results.csv\"\n",
    "output_file = \"lab_results.csv\"\n",
    "\n",
    "# CSV 파일 불러오기\n",
    "df1 = pd.read_csv(file1)\n",
    "df2 = pd.read_csv(file2)\n",
    "\n",
    "# 데이터 병합\n",
    "merged_df = pd.concat([df1, df2], ignore_index=True)\n",
    "\n",
    "# 병합된 데이터 저장\n",
    "merged_df.to_csv(output_file, index=False, encoding=\"utf-8-sig\")\n",
    "\n",
    "print(f\"병합 완료! 저장된 파일: {output_file}\")\n"
   ]
  },
  {
   "cell_type": "markdown",
   "metadata": {},
   "source": [
    "### 파일병합 (중복기사 제거)"
   ]
  },
  {
   "cell_type": "code",
   "execution_count": 2,
   "metadata": {},
   "outputs": [
    {
     "name": "stdout",
     "output_type": "stream",
     "text": [
      "병합 완료! 저장된 파일: true_results.csv\n"
     ]
    }
   ],
   "source": [
    "import pandas as pd\n",
    "\n",
    "# 파일 경로 설정\n",
    "file1 = \"filtered_articles_fixed.csv\"\n",
    "file2 = \"real_results.csv\"\n",
    "output_file = \"true_results.csv\"\n",
    "\n",
    "# CSV 파일 불러오기\n",
    "df1 = pd.read_csv(file1)\n",
    "df2 = pd.read_csv(file2)\n",
    "\n",
    "# 데이터 병합\n",
    "merged_df = pd.concat([df1, df2], ignore_index=True)\n",
    "\n",
    "# 중복 기사 제거 (예: 'title' 컬럼을 기준으로 중복 제거)\n",
    "merged_df = merged_df.drop_duplicates(subset=['title'], keep='first')\n",
    "\n",
    "# 병합된 데이터 저장\n",
    "merged_df.to_csv(output_file, index=False, encoding=\"utf-8-sig\")\n",
    "\n",
    "print(f\"병합 완료! 저장된 파일: {output_file}\")\n"
   ]
  },
  {
   "cell_type": "markdown",
   "metadata": {},
   "source": [
    "### 키워드 제거"
   ]
  },
  {
   "cell_type": "code",
   "execution_count": null,
   "metadata": {},
   "outputs": [
    {
     "name": "stdout",
     "output_type": "stream",
     "text": [
      "✅ 원본 기사 개수: 78705개\n",
      "❌ 필터링된 기사 개수: 35410개\n",
      "📌 최종 저장된 기사 개수: 43295개\n",
      "💾 필터링 완료! 저장된 파일: real_results.csv\n"
     ]
    }
   ],
   "source": [
    "import pandas as pd\n",
    "\n",
    "# 병합된 파일 불러오기\n",
    "input_file = \"results.csv\"\n",
    "output_file = \"_results.csv\"\n",
    "\n",
    "# 데이터 불러오기\n",
    "df = pd.read_csv(input_file)\n",
    "\n",
    "# 금리 관련 키워드 리스트\n",
    "finance_keywords = [\"금리\", \"이자\", \"대출\", \"은행\", \"기준금리\", \"통화정책\", \"금융\", \"연준\", \"채권\", \"환율\"]\n",
    "\n",
    "# 연예·광고 관련 키워드 리스트\n",
    "exclude_keywords = [\"비키니\",\"홍진영\",\"잠실\",\"불법\",\"해운대\",\"자연재해\",\"가입\",\"귀농\",\"농사\",\"모범\",\"신생아\",\"자녀\",\"육아\",\"학생\",\"재테크\",\"카카오\",\"카카오뱅크\",\"ATM\",\"서비스\",\"편의점\",\"원전\",\"소동\",\"결항\",\"여행\",\"상품\",\"상담\",\"남편\",\"부부\",\"사랑\",\"김대중\",\"노무현\",\"문재인\",\"도전\",\"승리\",\"농구\",\"야구\",\"안타\",\"득점\",\"수강생\",\"모집\",\"범죄\",\"군대\",\"협박\",\"스포츠\",\"결승\",\"월드컵\",\"대표팀\",\"사고\",\"날씨\",\"희망복원\",\"이외수\",\"전시회\",\"미술관\",\"방송\",\"어린이집\",\"신혼부부\",\"청약\",\"CCTV\",\"교복\",\"원곡\",\"박나래\",\"양세찬\",\"개그맨\",\"공연\",\"앨범\",\"컴백\",\"싱글\",\"에이프릴\",\"에이핑크\",\"배우\",\"가수\",\"자우림\",\"연애\",\"연예\",\"여자친구\",\"테슬라\",\"침입\",\"LG\",\"KT\",\"크리스마스\",\"질환\",\"Mnet\",\"심사\",\"피부\",\"‘엠카운트다운’\",\"워크숍\",\"세미나\",\"아이렌\",\"K뱅크\",\"SK\",\"베이커리\",\"기부\",\"박재범\",\"`런닝맨`\",\"체조\",\"임신\",\"슈틸리케\",\"주결경\",\"스텔라\",\"포토\",\"전국체전\",\"‘NH x 카카오페이통장’\",\"카카오페이\",\"P2P\",\"마세라티\",\"러블리즈\",\"신지수\",\"신지\",\"장마철\",\"배우\", \"드라마\",\"엔터테인먼트\", \"아이돌\", \"영화\", \"예능\", \"광고\", \"쿠폰\", \"할인\", \"팬미팅\", \"뷰티\", \"패션\", \"쇼핑\",\"전화\",\"드라마, 시청률, 배우, 영화, 방송, 예능, 아이돌, 가수, 콘서트, 팬, 연예인, 열애, 결혼, 복귀, 데뷔, 컴백\",\"강정호\",\"타이어\"]\n",
    "\n",
    "# 기사 필터링 함수\n",
    "def filter_articles(text):\n",
    "    if pd.isna(text):  # 결측값 처리\n",
    "        return False\n",
    "    text = str(text)  # 문자열 변환\n",
    "\n",
    "    # 금융 관련 키워드 포함 여부\n",
    "    contains_finance = any(keyword in text for keyword in finance_keywords)\n",
    "\n",
    "    # 연예·광고 키워드 포함 여부\n",
    "    contains_exclude = any(keyword in text for keyword in exclude_keywords)\n",
    "\n",
    "    # 금융 키워드는 포함하고, 연예·광고 키워드는 포함하지 않은 기사만 남김\n",
    "    return contains_finance and not contains_exclude\n",
    "\n",
    "# 원본 데이터 개수\n",
    "original_count = len(df)\n",
    "\n",
    "# 기사 제목(title)과 본문(contents)을 기준으로 필터링\n",
    "filtered_df = df[df[\"title\"].apply(filter_articles) | df[\"contents\"].apply(filter_articles)]\n",
    "\n",
    "# 필터링된 데이터 개수\n",
    "filtered_count = original_count - len(filtered_df)\n",
    "\n",
    "# 필터링된 데이터 저장\n",
    "filtered_df.to_csv(output_file, index=False, encoding=\"utf-8-sig\")\n",
    "\n",
    "# 결과 출력\n",
    "print(f\"✅ 원본 기사 개수: {original_count}개\")\n",
    "print(f\"❌ 필터링된 기사 개수: {filtered_count}개\")\n",
    "print(f\"📌 최종 저장된 기사 개수: {len(filtered_df)}개\")\n",
    "print(f\"💾 필터링 완료! 저장된 파일: {output_file}\")\n"
   ]
  },
  {
   "cell_type": "code",
   "execution_count": 3,
   "metadata": {},
   "outputs": [
    {
     "name": "stdout",
     "output_type": "stream",
     "text": [
      "데이터프레임 컬럼 목록: Index(['title', 'contents', 'date'], dtype='object')\n"
     ]
    }
   ],
   "source": [
    "import pandas as pd\n",
    "\n",
    "# 병합된 파일 불러오기\n",
    "input_file = \"merged_results.csv\"\n",
    "\n",
    "# 데이터 불러오기\n",
    "df = pd.read_csv(input_file)\n",
    "\n",
    "# CSV 파일의 컬럼 확인\n",
    "print(\"데이터프레임 컬럼 목록:\", df.columns)\n"
   ]
  },
  {
   "cell_type": "code",
   "execution_count": null,
   "metadata": {},
   "outputs": [],
   "source": []
  }
 ],
 "metadata": {
  "kernelspec": {
   "display_name": "base",
   "language": "python",
   "name": "python3"
  },
  "language_info": {
   "codemirror_mode": {
    "name": "ipython",
    "version": 3
   },
   "file_extension": ".py",
   "mimetype": "text/x-python",
   "name": "python",
   "nbconvert_exporter": "python",
   "pygments_lexer": "ipython3",
   "version": "3.12.7"
  }
 },
 "nbformat": 4,
 "nbformat_minor": 2
}
