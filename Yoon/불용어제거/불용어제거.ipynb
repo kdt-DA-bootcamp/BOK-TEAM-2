{
 "cells": [
  {
   "cell_type": "code",
   "execution_count": null,
   "metadata": {},
   "outputs": [],
   "source": [
    "import pandas as pd\n",
    "\n",
    "# CSV 파일 읽기 (상위 5개 행만)\n",
    "df = pd.read_csv('real_data_results.csv', nrows=5)\n",
    "\n",
    "# 열 이름과 데이터 일부 출력\n",
    "print(\"열 이름:\", df.columns.tolist())\n",
    "print(\"데이터 미리보기:\")\n",
    "print(df.head())"
   ]
  },
  {
   "cell_type": "code",
   "execution_count": null,
   "metadata": {},
   "outputs": [],
   "source": [
    "import pandas as pd\n",
    "\n",
    "# CSV 파일 읽기 (테스트용으로 상위 5개 행만 사용했었지만, 실제로는 전체 데이터를 처리하려면 nrows 제거)\n",
    "df = pd.read_csv('real_data_results.csv')\n",
    "\n",
    "# 유지할 품사 리스트\n",
    "keep_pos = ['NNG', 'VA', 'VAX', 'MAG']\n",
    "\n",
    "# 'tagged' 열을 직접 수정: keep_pos에 있는 품사만 남김\n",
    "df['tagged'] = df['tagged'].apply(lambda x: str([(word, tag) for word, tag in eval(x) if tag in keep_pos]) if isinstance(x, str) else x)\n",
    "\n",
    "# 새로운 CSV 파일로 저장\n",
    "df.to_csv('filtered_real_data_results.csv', index=False)\n",
    "\n",
    "# 결과 확인 (선택 사항)\n",
    "print(\"필터링된 데이터가 'filtered_real_data_results.csv' 파일로 저장되었습니다.\")\n",
    "print(df[['title', 'contents', 'date', 'tagged']].head())"
   ]
  },
  {
   "cell_type": "code",
   "execution_count": null,
   "metadata": {},
   "outputs": [],
   "source": [
    "import pandas as pd\n",
    "import numpy as np\n",
    "import re\n",
    "edaily = pd.read_csv(r\"C:/Users/user/Desktop/sd/filtered_hankyung_data_results.csv\")\n"
   ]
  },
  {
   "cell_type": "code",
   "execution_count": null,
   "metadata": {},
   "outputs": [],
   "source": [
    "하, 되, 있, 이, 등, 것, 한, 보, 적, 및, 수, 관련부서, 들, 인, 부, 최근, 대한, 대해, 점, 해, 경우, 중, 임, 때, 따라, 이후, 향후, 있, 되, 한, 것, 원, 등, 년, 보, 억, 인, 수 , 만, 적, 해, 조, 다, 전, 대, 이날, 그, 낮, 내, 및, 경우, 개월, 개, 이번, 명, 점, 시, 데, 달, 화, 두, 미, 각각, 열, 연, 오, 엔, 성, 분, 총, 당, 후, 반면, 형, 계, 위, 약, 美, 하, 되, 년, 월, 자료, 있, 이, 한, 것, 적, 및, 일, 수, 보, 그림, 등, 억, 주, 원, 인, 들, 예상, 우, 대한, 당사, 별, 이후, 하나금융투자, 좌, 경우, 중, 해, 전, 미, 성, 인포맥스, 개,되, 있, 한, 보, 수, 말, 적, 인, 년물, 않, 나타나, 따르, 대한, 영향, 지난, 전, 이후, 만, 상황, 같, 전일, 올해, 시, 나오, 최근, 지표, 없, 더, 증, 기록, 이날, 현재, 위하, 다, 줄, 전망, 예상, 수준, 가능성, "
   ]
  },
  {
   "cell_type": "code",
   "execution_count": null,
   "metadata": {},
   "outputs": [],
   "source": [
    "import pandas as pd\n",
    "import ast\n",
    "\n",
    "# 불용어 리스트\n",
    "stopwords = {\"하\", \"되\", \"있\", \"이\", \"등\", \"것\", \"한\", \"보\", \"적\", \"및\", \"수\", \"관련부서\", \"들\", \"인\", \"부\", \"최근\", \"대한\", \"대해\", \"점\", \"해\", \"경우\", \"중\", \"임\", \"때\", \"따라\", \"이후\", \"향후\", \"원\", \"년\", \"억\", \"만\", \"조\", \"다\", \"전\", \"대\", \"이날\", \"그\", \"낮\", \"내\", \"개월\", \"개\", \"이번\", \"명\", \"시\", \"데\", \"달\", \"화\", \"두\", \"미\", \"각각\", \"열\", \"연\", \"오\", \"엔\", \"성\", \"분\", \"총\", \"당\", \"후\", \"반면\", \"형\", \"계\", \"위\", \"약\", \"美\", \"월\", \"자료\", \"일\", \"그림\", \"주\", \"예상\", \"우\", \"당사\", \"별\", \"하나금융투자\", \"좌\", \"인포맥스\", \"년물\", \"않\", \"나타나\", \"따르\", \"영향\", \"지난\", \"상황\", \"같\", \"전일\", \"올해\", \"나오\", \"지표\", \"없\", \"더\", \"증\", \"기록\", \"현재\", \"위하\", \"줄\", \"전망\", \"수준\", \"가능성\"}\n",
    "\n",
    "# 데이터 불러오기\n",
    "df = pd.read_csv(\"filtered_real_data_results.csv\")\n",
    "\n",
    "# 불용어 필터링\n",
    "df['tagged'] = df['tagged'].apply(lambda x: str([(word, tag) for word, tag in ast.literal_eval(x) if word not in stopwords]) if isinstance(x, str) else x)\n",
    "\n",
    "# 결과 저장\n",
    "df.to_csv(\"hk_results.csv.csv\", index=False)\n"
   ]
  }
 ],
 "metadata": {
  "kernelspec": {
   "display_name": "base",
   "language": "python",
   "name": "python3"
  },
  "language_info": {
   "codemirror_mode": {
    "name": "ipython",
    "version": 3
   },
   "file_extension": ".py",
   "mimetype": "text/x-python",
   "name": "python",
   "nbconvert_exporter": "python",
   "pygments_lexer": "ipython3",
   "version": "3.12.7"
  }
 },
 "nbformat": 4,
 "nbformat_minor": 2
}
