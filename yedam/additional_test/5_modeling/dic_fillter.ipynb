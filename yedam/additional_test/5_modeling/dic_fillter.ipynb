{
 "cells": [
  {
   "cell_type": "code",
   "execution_count": 6,
   "metadata": {},
   "outputs": [],
   "source": [
    "import pandas as pd\n",
    "word_dic = pd.read_csv('word_dictionary_ver6.csv', dtype = str)\n",
    "\n",
    "# 양쪽에 같은 단어가 있다면, 모호성이 크다고 보고 df에서 삭제해줄 것\n",
    "# ex) 양족 모두 있을 법한 '금리' 라는 단어는 삭제해도 됨\n",
    "\n",
    "# 1. 둘을 다른 데이터 프레임으로 분리한다. dovish / hawkish\n",
    "df_hawkish = pd.DataFrame(word_dic['hawkish'], dtype=str)\n",
    "df_dovish = pd.DataFrame(word_dic['dovish'], dtype=str)\n",
    "\n",
    "# 2. 둘을 비교해가면서 중복으로 들어간 데이터는 두 df 모두에서 삭제 해 본다.\n",
    "\n",
    "# 2-1. 우선 각 df 내에서 중복된 값을 지움\n",
    "df_hawkish = df_hawkish.drop_duplicates()\n",
    "df_dovish = df_dovish.drop_duplicates()\n",
    "# 2-2. 둘을 순회하면서 서로 중복된 값을 지운다.\n",
    "common_values = set(df_hawkish['hawkish']).intersection(set(df_dovish['dovish']))\n",
    "\n",
    "# 교집합에 해당하는 값 삭제\n",
    "df_hawkish = df_hawkish[~df_hawkish['hawkish'].isin(common_values)]\n",
    "df_dovish = df_dovish[~df_dovish['dovish'].isin(common_values)]\n",
    "\n",
    "# 인덱스를 0부터 재설정\n",
    "df_hawkish = df_hawkish.reset_index(drop=True)\n",
    "df_dovish = df_dovish.reset_index(drop=True)\n",
    "\n",
    "# 3. 개수를 확인하고, 순서를 확인해서 구축한다.\n",
    "df_hawkish.dropna(inplace=True)\n",
    "df_dovish.dropna(inplace=True)"
   ]
  },
  {
   "cell_type": "code",
   "execution_count": 7,
   "metadata": {},
   "outputs": [
    {
     "data": {
      "text/html": [
       "<div>\n",
       "<style scoped>\n",
       "    .dataframe tbody tr th:only-of-type {\n",
       "        vertical-align: middle;\n",
       "    }\n",
       "\n",
       "    .dataframe tbody tr th {\n",
       "        vertical-align: top;\n",
       "    }\n",
       "\n",
       "    .dataframe thead th {\n",
       "        text-align: right;\n",
       "    }\n",
       "</style>\n",
       "<table border=\"1\" class=\"dataframe\">\n",
       "  <thead>\n",
       "    <tr style=\"text-align: right;\">\n",
       "      <th></th>\n",
       "      <th>dovish</th>\n",
       "    </tr>\n",
       "  </thead>\n",
       "  <tbody>\n",
       "    <tr>\n",
       "      <th>0</th>\n",
       "      <td>잔류</td>\n",
       "    </tr>\n",
       "    <tr>\n",
       "      <th>1</th>\n",
       "      <td>탄핵_정국</td>\n",
       "    </tr>\n",
       "    <tr>\n",
       "      <th>2</th>\n",
       "      <td>기준금리_인하_결정</td>\n",
       "    </tr>\n",
       "    <tr>\n",
       "      <th>3</th>\n",
       "      <td>조기_금리_인상_우려</td>\n",
       "    </tr>\n",
       "    <tr>\n",
       "      <th>4</th>\n",
       "      <td>한국은행_금융통화위원회_기준금리_인하</td>\n",
       "    </tr>\n",
       "  </tbody>\n",
       "</table>\n",
       "</div>"
      ],
      "text/plain": [
       "                 dovish\n",
       "0                    잔류\n",
       "1                 탄핵_정국\n",
       "2            기준금리_인하_결정\n",
       "3           조기_금리_인상_우려\n",
       "4  한국은행_금융통화위원회_기준금리_인하"
      ]
     },
     "execution_count": 7,
     "metadata": {},
     "output_type": "execute_result"
    }
   ],
   "source": [
    "df_dovish.head()"
   ]
  },
  {
   "cell_type": "code",
   "execution_count": 8,
   "metadata": {},
   "outputs": [
    {
     "data": {
      "text/html": [
       "<div>\n",
       "<style scoped>\n",
       "    .dataframe tbody tr th:only-of-type {\n",
       "        vertical-align: middle;\n",
       "    }\n",
       "\n",
       "    .dataframe tbody tr th {\n",
       "        vertical-align: top;\n",
       "    }\n",
       "\n",
       "    .dataframe thead th {\n",
       "        text-align: right;\n",
       "    }\n",
       "</style>\n",
       "<table border=\"1\" class=\"dataframe\">\n",
       "  <thead>\n",
       "    <tr style=\"text-align: right;\">\n",
       "      <th></th>\n",
       "      <th>hawkish</th>\n",
       "    </tr>\n",
       "  </thead>\n",
       "  <tbody>\n",
       "    <tr>\n",
       "      <th>0</th>\n",
       "      <td>중국_봉쇄</td>\n",
       "    </tr>\n",
       "    <tr>\n",
       "      <th>1</th>\n",
       "      <td>빅_스텝_단행</td>\n",
       "    </tr>\n",
       "    <tr>\n",
       "      <th>2</th>\n",
       "      <td>p500지수_기록</td>\n",
       "    </tr>\n",
       "    <tr>\n",
       "      <th>3</th>\n",
       "      <td>아세안</td>\n",
       "    </tr>\n",
       "    <tr>\n",
       "      <th>4</th>\n",
       "      <td>중심_s</td>\n",
       "    </tr>\n",
       "  </tbody>\n",
       "</table>\n",
       "</div>"
      ],
      "text/plain": [
       "     hawkish\n",
       "0      중국_봉쇄\n",
       "1    빅_스텝_단행\n",
       "2  p500지수_기록\n",
       "3        아세안\n",
       "4       중심_s"
      ]
     },
     "execution_count": 8,
     "metadata": {},
     "output_type": "execute_result"
    }
   ],
   "source": [
    "df_hawkish.head()"
   ]
  },
  {
   "cell_type": "code",
   "execution_count": 9,
   "metadata": {},
   "outputs": [],
   "source": [
    "result_df = pd.concat([df_hawkish, df_dovish], axis=1)\n",
    "result_df.to_csv('word_dictionary_final.csv', index=False, encoding='utf-8-sig')"
   ]
  },
  {
   "cell_type": "code",
   "execution_count": 1,
   "metadata": {},
   "outputs": [],
   "source": [
    "import pandas as pd\n",
    "\n",
    "df = pd.read_csv('word_dictionary_final.csv', dtype=str)\n",
    "\n",
    "def simplify_word(word):\n",
    "\n",
    "    if pd.isna(word):\n",
    "        return word\n",
    "    \n",
    "    # 밑줄('_') 기준으로 분리\n",
    "    parts = word.split('_')\n",
    "    \n",
    "    # 첫 번째 요소를 시작으로 연속 중복 제거\n",
    "    new_parts = [parts[0]]\n",
    "    for part in parts[1:]:\n",
    "        if part != new_parts[-1]:\n",
    "            new_parts.append(part)\n",
    "    \n",
    "    # 리스트를 띄어쓰기로 연결하여 반환\n",
    "    return ' '.join(new_parts)\n",
    "\n",
    "for col in df.columns:\n",
    "    df[col] = df[col].apply(simplify_word)\n",
    "\n",
    "# 결과를 새로운 CSV 파일로 저장 (UTF-8 with BOM: 엑셀 등에서 한글 깨짐 방지)\n",
    "df.to_csv('word_dictionary_cleaned.csv', index=False, encoding='utf-8-sig')"
   ]
  }
 ],
 "metadata": {
  "kernelspec": {
   "display_name": "nlp",
   "language": "python",
   "name": "python3"
  },
  "language_info": {
   "codemirror_mode": {
    "name": "ipython",
    "version": 3
   },
   "file_extension": ".py",
   "mimetype": "text/x-python",
   "name": "python",
   "nbconvert_exporter": "python",
   "pygments_lexer": "ipython3",
   "version": "3.9.21"
  }
 },
 "nbformat": 4,
 "nbformat_minor": 2
}
