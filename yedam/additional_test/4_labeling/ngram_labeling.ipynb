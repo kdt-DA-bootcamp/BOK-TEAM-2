{
 "cells": [
  {
   "cell_type": "code",
   "execution_count": 20,
   "metadata": {},
   "outputs": [],
   "source": [
    "import pandas as pd\n",
    "from tqdm import tqdm\n",
    "import ast"
   ]
  },
  {
   "cell_type": "code",
   "execution_count": 26,
   "metadata": {},
   "outputs": [],
   "source": [
    "call_rate_df = pd.read_csv('filtered_call_data.csv', parse_dates=['date'])\n",
    "call_rate_df.set_index('date', inplace=True)\n",
    "call_rate_dict = call_rate_df['call_rate'].to_dict()"
   ]
  },
  {
   "cell_type": "code",
   "execution_count": 27,
   "metadata": {},
   "outputs": [],
   "source": [
    "# 상승/하락/동결 구분 버전\n",
    "def compare_call_rate(current_date):\n",
    "    prev_date = current_date - pd.DateOffset(months=1)\n",
    "    if prev_date not in call_rate_dict or current_date not in call_rate_dict:\n",
    "        return None\n",
    "    if call_rate_dict[current_date] > call_rate_dict[prev_date]:\n",
    "        return 1   # 상승\n",
    "    elif call_rate_dict[current_date] < call_rate_dict[prev_date]:\n",
    "        return -1  # 하락\n",
    "    else:\n",
    "        return 0   # 동결"
   ]
  },
  {
   "cell_type": "code",
   "execution_count": 23,
   "metadata": {},
   "outputs": [
    {
     "name": "stderr",
     "output_type": "stream",
     "text": [
      "Labeling ngram pieces: 100%|██████████| 209/209 [00:00<00:00, 1370.43it/s]\n"
     ]
    }
   ],
   "source": [
    "with open('ngram_mpb_results_filtered.csv', 'r', encoding='utf-8') as f:\n",
    "    total_lines = sum(1 for _ in f) - 1 # 헤더 제외\n",
    "\n",
    "chunksize = 100\n",
    "reader = pd.read_csv(\n",
    "    'ngram_mpb_results_filtered.csv',\n",
    "    usecols=['date', 'filtered_ngram'],\n",
    "    parse_dates=['date'],\n",
    "    chunksize=chunksize\n",
    ")\n",
    "\n",
    "output_file = 'labeled_mpb.csv'\n",
    "with open(output_file, 'w', encoding='utf-8') as f:\n",
    "    f.write('date,ngram_label\\n')\n",
    "\n",
    "# 진행률 표시\n",
    "pbar = tqdm(total=total_lines, desc=\"Labeling ngram pieces\")\n",
    "\n",
    "for chunk in reader:\n",
    "    \n",
    "    # 각 행에 대해, ngram 문자열을 리스트로 변환하고 label 추가하기\n",
    "    def process_row(row):\n",
    "        # ast.literal_eval로 문자열을 실제 리스트로 변환\n",
    "        ngram_list = ast.literal_eval(row['filtered_ngram'])\n",
    "        \n",
    "        # 해당 행의 날짜를 기준으로 label 계산\n",
    "        label = compare_call_rate(row['date'])\n",
    "        new_list = []\n",
    "\n",
    "        if isinstance(ngram_list, list):\n",
    "            for item in ngram_list:\n",
    "                new_item = item + (label,)\n",
    "                new_list.append(new_item)\n",
    "        else:\n",
    "            new_list = ngram_list\n",
    "        return new_list\n",
    "\n",
    "    # 각 행에 process_row 적용하여 새로운 ngram_label 컬럼 생성\n",
    "    chunk['ngram_label'] = chunk.apply(process_row, axis=1)\n",
    "    chunk = chunk.drop(columns=['filtered_ngram'])\n",
    "    chunk.to_csv(output_file, mode='a', header=False, index=False, encoding='utf-8')\n",
    "    \n",
    "    pbar.update(len(chunk))\n",
    "\n",
    "pbar.close()"
   ]
  },
  {
   "cell_type": "code",
   "execution_count": 24,
   "metadata": {},
   "outputs": [
    {
     "data": {
      "text/plain": [
       "\"[(('통화정책',), 57, 1), (('경제',), 58, 1), (('전망',), 72, 1), (('국제',), 19, 1), (('금융',), 27, 1), (('금융시장',), 23, 1), (('위원',), 36, 1), (('있',), 60, 1), (('부',), 44, 1), (('최근',), 32, 1), (('가격',), 25, 1), (('높',), 60, 1), (('상승률',), 46, 1), (('지속',), 58, 1), (('관련부서',), 71, 1), (('질의',), 29, 1), (('지난해',), 19, 1), (('크',), 59, 1), (('감소',), 19, 1), (('상승',), 73, 1), (('답변',), 31, 1), (('이후',), 28, 1), (('둔화',), 62, 1), (('영향',), 61, 1), (('첨언',), 23, 1), (('동위원',), 38, 1), (('민간',), 15, 1), (('소비',), 62, 1), (('예상',), 84, 1), (('부진',), 30, 1), (('수출',), 28, 1), (('부문',), 30, 1), (('물가',), 98, 1), (('경기',), 33, 1), (('개선',), 43, 1), (('상황',), 48, 1), (('지표',), 19, 1), (('가능성',), 30, 1), (('금',), 20, 1), (('중',), 34, 1), (('낮',), 16, 1), (('내수',), 17, 1), (('확대',), 44, 1), (('점차',), 19, 1), (('대응',), 15, 1), (('작용',), 17, 1), (('증가',), 57, 1), (('관련',), 40, 1), (('지정학',), 22, 1), (('위험',), 51, 1), (('우려',), 21, 1), (('현재',), 16, 1), (('평가',), 29, 1), (('언급',), 24, 1), (('향후',), 39, 1), (('불구',), 16, 1), (('미국',), 37, 1), (('상회',), 15, 1), (('성장',), 37, 1), (('세계',), 17, 1), (('양호',), 20, 1), (('흐름',), 71, 1), (('불확실성',), 16, 1), (('점',), 28, 1), (('고용',), 16, 1), (('경우',), 33, 1), (('하락',), 23, 1), (('비중',), 15, 1), (('우리나라',), 27, 1), (('중국',), 18, 1), (('요인',), 23, 1), (('주요국',), 20, 1), (('기업',), 26, 1), (('가계',), 48, 1), (('금리',), 103, 1), (('고려',), 21, 1), (('완화',), 26, 1), (('긴축',), 19, 1), (('수요',), 17, 1), (('대출',), 49, 1), (('부채',), 24, 1), (('필요',), 47, 1), (('정책',), 18, 1), (('의견',), 26, 1), (('근원',), 21, 1), (('앞',), 15, 1), (('여전히',), 15, 1), (('중심',), 29, 1), (('인플레이션',), 30, 1), (('fed',), 33, 1), (('시장',), 29, 1), (('기대',), 26, 1), (('목표',), 20, 1), (('수준',), 62, 1), (('전환',), 19, 1), (('약화',), 18, 1), (('규모',), 17, 1), (('교역',), 16, 1), (('안정',), 23, 1), (('회복',), 23, 1), (('통화',), 18, 1), (('외국인',), 17, 1), (('글로벌',), 27, 1), (('판단',), 16, 1), (('투자',), 31, 1), (('부동산',), 31, 1), (('여건',), 29, 1), (('장기',), 16, 1), (('추세',), 15, 1), (('폭',), 17, 1), (('국내',), 29, 1), (('유지',), 24, 1), (('환율',), 15, 1), (('기조',), 19, 1), (('인하',), 21, 1), (('완만',), 15, 1), (('부', '위원'), 29, 1), (('관련부서', '질의'), 21, 1), (('질의', '관련부서'), 27, 1), (('물가', '상승률'), 41, 1), (('지정학', '위험'), 19, 1), (('흐름', '지속'), 15, 1), (('금리', '상승'), 15, 1), (('필요', '있'), 38, 1), (('둔화', '흐름'), 20, 1), (('가계', '대출'), 20, 1), (('금리', '인하'), 19, 1), (('fed', '통화정책'), 15, 1), (('관련부서', '질의', '관련부서'), 20, 1)]\""
      ]
     },
     "execution_count": 24,
     "metadata": {},
     "output_type": "execute_result"
    }
   ],
   "source": [
    "pd.read_csv('labeled_mpb.csv')['ngram_label'][0]"
   ]
  }
 ],
 "metadata": {
  "kernelspec": {
   "display_name": "nlp",
   "language": "python",
   "name": "python3"
  },
  "language_info": {
   "codemirror_mode": {
    "name": "ipython",
    "version": 3
   },
   "file_extension": ".py",
   "mimetype": "text/x-python",
   "name": "python",
   "nbconvert_exporter": "python",
   "pygments_lexer": "ipython3",
   "version": "3.9.21"
  }
 },
 "nbformat": 4,
 "nbformat_minor": 2
}
