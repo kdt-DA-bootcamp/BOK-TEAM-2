{
 "cells": [
  {
   "cell_type": "code",
   "execution_count": 1,
   "metadata": {},
   "outputs": [],
   "source": [
    "import pandas as pd\n",
    "\n",
    "df = pd.read_csv(\"ngram_hk_results_filtered.csv\", parse_dates=[\"date\"])\n",
    "\n",
    "# 2014-01-01 이후의 데이터만 필터링\n",
    "start_date = pd.to_datetime(\"2014-01-01\")\n",
    "filtered_df = df[df[\"date\"] > start_date]\n",
    "\n",
    "filtered_df.to_csv(\"ngram_hk_results_filtered.csv\", index=False)"
   ]
  }
 ],
 "metadata": {
  "kernelspec": {
   "display_name": "nlp",
   "language": "python",
   "name": "python3"
  },
  "language_info": {
   "codemirror_mode": {
    "name": "ipython",
    "version": 3
   },
   "file_extension": ".py",
   "mimetype": "text/x-python",
   "name": "python",
   "nbconvert_exporter": "python",
   "pygments_lexer": "ipython3",
   "version": "3.9.21"
  }
 },
 "nbformat": 4,
 "nbformat_minor": 2
}
