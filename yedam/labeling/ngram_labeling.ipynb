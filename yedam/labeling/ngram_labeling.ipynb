{
 "cells": [
  {
   "cell_type": "code",
   "execution_count": 21,
   "metadata": {},
   "outputs": [],
   "source": [
    "import pandas as pd\n",
    "from tqdm import tqdm\n",
    "import ast"
   ]
  },
  {
   "cell_type": "code",
   "execution_count": 22,
   "metadata": {},
   "outputs": [],
   "source": [
    "call_rate_df = pd.read_csv('filtered_call_data.csv', parse_dates=['date'])\n",
    "call_rate_df.set_index('date', inplace=True)\n",
    "call_rate_dict = call_rate_df['call_rate'].to_dict()"
   ]
  },
  {
   "cell_type": "code",
   "execution_count": 18,
   "metadata": {},
   "outputs": [],
   "source": [
    "# 한 달 전 콜금리와 비교하는 함수\n",
    "def compare_call_rate(current_date):\n",
    "    prev_date = current_date - pd.DateOffset(months=1)\n",
    "    if prev_date not in call_rate_dict or current_date not in call_rate_dict:\n",
    "        return None\n",
    "    return 1 if call_rate_dict[current_date] > call_rate_dict[prev_date] else 0"
   ]
  },
  {
   "cell_type": "code",
   "execution_count": 23,
   "metadata": {},
   "outputs": [],
   "source": [
    "# 상승/하락/동결 구분 버전\n",
    "def compare_call_rate(current_date):\n",
    "    prev_date = current_date - pd.DateOffset(months=1)\n",
    "    if prev_date not in call_rate_dict or current_date not in call_rate_dict:\n",
    "        return None\n",
    "    if call_rate_dict[current_date] > call_rate_dict[prev_date]:\n",
    "        return 1   # 상승\n",
    "    elif call_rate_dict[current_date] < call_rate_dict[prev_date]:\n",
    "        return -1  # 하락\n",
    "    else:\n",
    "        return 0   # 동결"
   ]
  },
  {
   "cell_type": "code",
   "execution_count": 25,
   "metadata": {},
   "outputs": [
    {
     "name": "stderr",
     "output_type": "stream",
     "text": [
      "Labeling ngram pieces: 2478it [00:01, 2436.10it/s]                          \n"
     ]
    }
   ],
   "source": [
    "with open('ngram_bond_results_filtered.csv', 'r', encoding='utf-8') as f:\n",
    "    total_lines = sum(1 for _ in f) - 1 # 헤더 제외\n",
    "\n",
    "chunksize = 100\n",
    "reader = pd.read_csv(\n",
    "    'ngram_economy_results_filtered.csv',\n",
    "    usecols=['date', 'filtered_ngram'],\n",
    "    parse_dates=['date'],\n",
    "    chunksize=chunksize\n",
    ")\n",
    "\n",
    "output_file = 'labeled_bond.csv'\n",
    "with open(output_file, 'w', encoding='utf-8') as f:\n",
    "    f.write('date,ngram_label\\n')\n",
    "\n",
    "# 진행률 표시\n",
    "pbar = tqdm(total=total_lines, desc=\"Labeling ngram pieces\")\n",
    "\n",
    "for chunk in reader:\n",
    "    \n",
    "    # 각 행에 대해, ngram 문자열을 리스트로 변환하고 label 추가하기\n",
    "    def process_row(row):\n",
    "        # ast.literal_eval로 문자열을 실제 리스트로 변환\n",
    "        ngram_list = ast.literal_eval(row['filtered_ngram'])\n",
    "        \n",
    "        # 해당 행의 날짜를 기준으로 label 계산\n",
    "        label = compare_call_rate(row['date'])\n",
    "        new_list = []\n",
    "\n",
    "        if isinstance(ngram_list, list):\n",
    "            for item in ngram_list:\n",
    "                new_item = item + (label,)\n",
    "                new_list.append(new_item)\n",
    "        else:\n",
    "            new_list = ngram_list\n",
    "        return new_list\n",
    "\n",
    "    # 각 행에 process_row 적용하여 새로운 ngram_label 컬럼 생성\n",
    "    chunk['ngram_label'] = chunk.apply(process_row, axis=1)\n",
    "    chunk = chunk.drop(columns=['filtered_ngram'])\n",
    "    chunk.to_csv(output_file, mode='a', header=False, index=False, encoding='utf-8')\n",
    "    \n",
    "    pbar.update(len(chunk))\n",
    "\n",
    "pbar.close()"
   ]
  },
  {
   "cell_type": "code",
   "execution_count": 20,
   "metadata": {},
   "outputs": [
    {
     "data": {
      "text/plain": [
       "\"[(('한국',), 89, 0), (('미국',), 254, 0), (('제조업',), 62, 0), (('경기',), 52, 0), (('수출',), 58, 0), (('불확실성',), 27, 0), (('상승',), 81, 0), (('지수',), 52, 0), (('SP',), 20, 0), (('생산',), 30, 0), (('감소',), 18, 0), (('추세',), 35, 0), (('지속',), 55, 0), (('정부',), 15, 0), (('기업',), 20, 0), (('정책',), 25, 0), (('기대',), 56, 0), (('내년',), 30, 0), (('고용',), 35, 0), (('서비스업',), 22, 0), (('임금',), 20, 0), (('상승률',), 45, 0), (('둔화',), 45, 0), (('확대',), 17, 0), (('발표',), 32, 0), (('ISM',), 18, 0), (('PMI',), 55, 0), (('흐름',), 34, 0), (('필요',), 20, 0), (('국내',), 29, 0), (('트럼프',), 26, 0), (('수입',), 15, 0), (('중국',), 33, 0), (('증가',), 31, 0), (('크',), 42, 0), (('우려',), 20, 0), (('PCE',), 31, 0), (('확인',), 17, 0), (('소비',), 30, 0), (('연말',), 16, 0), (('판단',), 42, 0), (('가운데',), 17, 0), (('매크로',), 16, 0), (('이벤트',), 16, 0), (('비농업',), 26, 0), (('신규',), 28, 0), (('실업률',), 28, 0), (('주요',), 19, 0), (('유로존',), 30, 0), (('기준',), 67, 0), (('하락',), 40, 0), (('속도',), 15, 0), (('경제',), 77, 0), (('독일',), 17, 0), (('금리',), 194, 0), (('인하',), 124, 0), (('관련',), 32, 0), (('인플레이션',), 22, 0), (('압력',), 29, 0), (('서비스',), 18, 0), (('소비자',), 40, 0), (('하회',), 20, 0), (('전월',), 16, 0), (('폭',), 21, 0), (('높',), 43, 0), (('물가',), 96, 0), (('부합',), 15, 0), (('근원',), 21, 0), (('대비',), 45, 0), (('상향',), 18, 0), (('요인',), 24, 0), (('주요국',), 16, 0), (('코스피',), 24, 0), (('종가',), 35, 0), (('국채',), 17, 0), (('일본',), 17, 0), (('스프레드',), 18, 0), (('국고채',), 17, 0), (('환율',), 33, 0), (('투자',), 45, 0), (('분기',), 22, 0), (('fed',), 73, 0), (('GDP',), 22, 0), (('작성',), 18, 0), (('분석',), 21, 0), (('종목',), 37, 0), (('정확',), 15, 0), (('반영',), 17, 0), (('제공',), 15, 0), (('내용',), 15, 0), (('결정',), 26, 0), (('제조업', 'PMI'), 29, 0), (('PMI', '미국'), 18, 0), (('미국', 'ISM'), 17, 0), (('금리', '인하'), 68, 0), (('종가', '기준'), 21, 0), (('원유',), 25, 0), (('시장',), 38, 0), (('위험',), 26, 0), (('가격',), 15, 0), (('도표',), 29, 0), (('안정',), 21, 0), (('경로',), 20, 0), (('평균',), 25, 0), (('가계',), 19, 0), (('수익률',), 19, 0), (('하향',), 29, 0), (('성장률',), 50, 0), (('업종',), 39, 0), (('기계',), 16, 0), (('매수',), 19, 0), (('외국인',), 43, 0), (('동결',), 20, 0), (('기관',), 20, 0), (('수급',), 16, 0), (('순매수',), 21, 0), (('중립',), 26, 0), (('추가',), 23, 0), (('fed', '금리'), 19, 0), (('유틸리티',), 17, 0), (('한국은행',), 36, 0), (('금통위',), 28, 0), (('성장',), 33, 0), (('변화',), 25, 0), (('추천',), 15, 0), (('추종',), 15, 0), (('추이',), 16, 0), (('통화정책',), 24, 0), (('중립', '금리'), 18, 0), (('물가', '상승률'), 29, 0), (('앞',), 16, 0)]\""
      ]
     },
     "execution_count": 20,
     "metadata": {},
     "output_type": "execute_result"
    }
   ],
   "source": [
    "pd.read_csv('labeled_economy.csv')['ngram_label'][0]"
   ]
  }
 ],
 "metadata": {
  "kernelspec": {
   "display_name": "nlp",
   "language": "python",
   "name": "python3"
  },
  "language_info": {
   "codemirror_mode": {
    "name": "ipython",
    "version": 3
   },
   "file_extension": ".py",
   "mimetype": "text/x-python",
   "name": "python",
   "nbconvert_exporter": "python",
   "pygments_lexer": "ipython3",
   "version": "3.9.21"
  }
 },
 "nbformat": 4,
 "nbformat_minor": 2
}
