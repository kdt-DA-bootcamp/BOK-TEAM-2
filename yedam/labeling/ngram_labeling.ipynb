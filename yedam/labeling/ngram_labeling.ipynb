{
 "cells": [
  {
   "cell_type": "code",
   "execution_count": 55,
   "metadata": {},
   "outputs": [],
   "source": [
    "import pandas as pd\n",
    "from tqdm import tqdm\n",
    "import ast"
   ]
  },
  {
   "cell_type": "code",
   "execution_count": 56,
   "metadata": {},
   "outputs": [],
   "source": [
    "call_rate_df = pd.read_csv('filtered_call_data.csv', parse_dates=['date'])\n",
    "call_rate_df.set_index('date', inplace=True)\n",
    "call_rate_dict = call_rate_df['call_rate'].to_dict()"
   ]
  },
  {
   "cell_type": "code",
   "execution_count": 57,
   "metadata": {},
   "outputs": [],
   "source": [
    "# 한 달 전 콜금리와 비교하는 함수\n",
    "# def compare_call_rate(current_date):\n",
    "#     prev_date = current_date - pd.DateOffset(months=1)\n",
    "#     if prev_date not in call_rate_dict or current_date not in call_rate_dict:\n",
    "#         return None\n",
    "#     return 1 if call_rate_dict[current_date] > call_rate_dict[prev_date] else 0"
   ]
  },
  {
   "cell_type": "code",
   "execution_count": 58,
   "metadata": {},
   "outputs": [],
   "source": [
    "# 상승/하락/동결 구분 버전\n",
    "def compare_call_rate(current_date):\n",
    "    prev_date = current_date - pd.DateOffset(months=1)\n",
    "    if prev_date not in call_rate_dict or current_date not in call_rate_dict:\n",
    "        return None\n",
    "    if call_rate_dict[current_date] > call_rate_dict[prev_date]:\n",
    "        return 1   # 상승\n",
    "    elif call_rate_dict[current_date] < call_rate_dict[prev_date]:\n",
    "        return -1  # 하락\n",
    "    else:\n",
    "        return 0   # 동결"
   ]
  },
  {
   "cell_type": "code",
   "execution_count": 59,
   "metadata": {},
   "outputs": [
    {
     "name": "stderr",
     "output_type": "stream",
     "text": [
      "Labeling ngram pieces: 100%|██████████| 209/209 [00:00<00:00, 1749.09it/s]\n"
     ]
    }
   ],
   "source": [
    "with open('ngram_mpb_results_filtered.csv', 'r', encoding='utf-8') as f:\n",
    "    total_lines = sum(1 for _ in f) - 1 # 헤더 제외\n",
    "\n",
    "chunksize = 100\n",
    "reader = pd.read_csv(\n",
    "    'ngram_mpb_results_filtered.csv',\n",
    "    usecols=['date', 'filtered_ngram'],\n",
    "    parse_dates=['date'],\n",
    "    chunksize=chunksize\n",
    ")\n",
    "\n",
    "output_file = 'labeled_mpb.csv'\n",
    "with open(output_file, 'w', encoding='utf-8') as f:\n",
    "    f.write('date,ngram_label\\n')\n",
    "\n",
    "# 진행률 표시\n",
    "pbar = tqdm(total=total_lines, desc=\"Labeling ngram pieces\")\n",
    "\n",
    "for chunk in reader:\n",
    "    \n",
    "    # 각 행에 대해, ngram 문자열을 리스트로 변환하고 label 추가하기\n",
    "    def process_row(row):\n",
    "        # ast.literal_eval로 문자열을 실제 리스트로 변환\n",
    "        ngram_list = ast.literal_eval(row['filtered_ngram'])\n",
    "        \n",
    "        # 해당 행의 날짜를 기준으로 label 계산\n",
    "        label = compare_call_rate(row['date'])\n",
    "        new_list = []\n",
    "\n",
    "        if isinstance(ngram_list, list):\n",
    "            for item in ngram_list:\n",
    "                new_item = item + (label,)\n",
    "                new_list.append(new_item)\n",
    "        else:\n",
    "            new_list = ngram_list\n",
    "        return new_list\n",
    "\n",
    "    # 각 행에 process_row 적용하여 새로운 ngram_label 컬럼 생성\n",
    "    chunk['ngram_label'] = chunk.apply(process_row, axis=1)\n",
    "    chunk = chunk.drop(columns=['filtered_ngram'])\n",
    "    chunk.to_csv(output_file, mode='a', header=False, index=False, encoding='utf-8')\n",
    "    \n",
    "    pbar.update(len(chunk))\n",
    "\n",
    "pbar.close()"
   ]
  },
  {
   "cell_type": "code",
   "execution_count": 60,
   "metadata": {},
   "outputs": [
    {
     "data": {
      "text/plain": [
       "\"[(('통화정책',), 57, 0), (('경제',), 58, 0), (('전망',), 72, 0), (('국제',), 19, 0), (('금융',), 27, 0), (('금융시장',), 23, 0), (('위원',), 36, 0), (('있',), 60, 0), (('부',), 44, 0), (('최근',), 32, 0), (('가격',), 25, 0), (('높',), 60, 0), (('상승률',), 46, 0), (('지속',), 58, 0), (('관련부서',), 71, 0), (('질의',), 29, 0), (('지난해',), 19, 0), (('크',), 59, 0), (('감소',), 19, 0), (('상승',), 73, 0), (('답변',), 31, 0), (('이후',), 28, 0), (('둔화',), 62, 0), (('영향',), 61, 0), (('첨언',), 23, 0), (('동위원',), 38, 0), (('민간',), 15, 0), (('소비',), 62, 0), (('예상',), 84, 0), (('부진',), 30, 0), (('수출',), 28, 0), (('부문',), 30, 0), (('물가',), 98, 0), (('경기',), 33, 0), (('개선',), 43, 0), (('상황',), 48, 0), (('지표',), 19, 0), (('가능성',), 30, 0), (('금',), 20, 0), (('중',), 34, 0), (('낮',), 16, 0), (('내수',), 17, 0), (('확대',), 44, 0), (('점차',), 19, 0), (('대응',), 15, 0), (('작용',), 17, 0), (('증가',), 57, 0), (('관련',), 40, 0), (('지정학',), 22, 0), (('위험',), 51, 0), (('우려',), 21, 0), (('현재',), 16, 0), (('평가',), 29, 0), (('언급',), 24, 0), (('향후',), 39, 0), (('불구',), 16, 0), (('미국',), 37, 0), (('상회',), 15, 0), (('성장',), 37, 0), (('세계',), 17, 0), (('양호',), 20, 0), (('흐름',), 71, 0), (('불확실성',), 16, 0), (('점',), 28, 0), (('고용',), 16, 0), (('경우',), 33, 0), (('하락',), 23, 0), (('비중',), 15, 0), (('우리나라',), 27, 0), (('중국',), 18, 0), (('요인',), 23, 0), (('주요국',), 20, 0), (('기업',), 26, 0), (('가계',), 48, 0), (('금리',), 103, 0), (('고려',), 21, 0), (('완화',), 26, 0), (('긴축',), 19, 0), (('수요',), 17, 0), (('대출',), 49, 0), (('부채',), 24, 0), (('필요',), 47, 0), (('정책',), 18, 0), (('의견',), 26, 0), (('근원',), 21, 0), (('앞',), 15, 0), (('여전히',), 15, 0), (('중심',), 29, 0), (('인플레이션',), 30, 0), (('fed',), 33, 0), (('시장',), 29, 0), (('기대',), 26, 0), (('목표',), 20, 0), (('수준',), 62, 0), (('전환',), 19, 0), (('약화',), 18, 0), (('규모',), 17, 0), (('교역',), 16, 0), (('안정',), 23, 0), (('회복',), 23, 0), (('통화',), 18, 0), (('외국인',), 17, 0), (('글로벌',), 27, 0), (('판단',), 16, 0), (('투자',), 31, 0), (('부동산',), 31, 0), (('여건',), 29, 0), (('장기',), 16, 0), (('추세',), 15, 0), (('폭',), 17, 0), (('국내',), 29, 0), (('유지',), 24, 0), (('환율',), 15, 0), (('기조',), 19, 0), (('인하',), 21, 0), (('완만',), 15, 0), (('부', '위원'), 29, 0), (('관련부서', '질의'), 21, 0), (('질의', '관련부서'), 27, 0), (('물가', '상승률'), 41, 0), (('지정학', '위험'), 19, 0), (('흐름', '지속'), 15, 0), (('금리', '상승'), 15, 0), (('필요', '있'), 38, 0), (('둔화', '흐름'), 20, 0), (('가계', '대출'), 20, 0), (('금리', '인하'), 19, 0), (('fed', '통화정책'), 15, 0), (('관련부서', '질의', '관련부서'), 20, 0)]\""
      ]
     },
     "execution_count": 60,
     "metadata": {},
     "output_type": "execute_result"
    }
   ],
   "source": [
    "pd.read_csv('labeled_mpb.csv')['ngram_label'][0]"
   ]
  }
 ],
 "metadata": {
  "kernelspec": {
   "display_name": "nlp",
   "language": "python",
   "name": "python3"
  },
  "language_info": {
   "codemirror_mode": {
    "name": "ipython",
    "version": 3
   },
   "file_extension": ".py",
   "mimetype": "text/x-python",
   "name": "python",
   "nbconvert_exporter": "python",
   "pygments_lexer": "ipython3",
   "version": "3.9.21"
  }
 },
 "nbformat": 4,
 "nbformat_minor": 2
}
