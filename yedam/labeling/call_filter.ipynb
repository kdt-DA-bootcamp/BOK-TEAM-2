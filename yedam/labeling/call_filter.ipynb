{
 "cells": [
  {
   "cell_type": "code",
   "execution_count": 1,
   "metadata": {},
   "outputs": [
    {
     "name": "stderr",
     "output_type": "stream",
     "text": [
      "C:\\Users\\USER\\AppData\\Local\\Temp\\ipykernel_15152\\3433529348.py:8: SettingWithCopyWarning: \n",
      "A value is trying to be set on a copy of a slice from a DataFrame.\n",
      "Try using .loc[row_indexer,col_indexer] = value instead\n",
      "\n",
      "See the caveats in the documentation: https://pandas.pydata.org/pandas-docs/stable/user_guide/indexing.html#returning-a-view-versus-a-copy\n",
      "  df_filtered['시점'] = pd.to_datetime(df_filtered['시점'].astype(str), format='%Y%m%d').dt.strftime('%Y-%m-%d')\n"
     ]
    }
   ],
   "source": [
    "import pandas as pd\n",
    "\n",
    "input_file = 'call_rate_data.csv'\n",
    "df = pd.read_csv(input_file)\n",
    "\n",
    "df['year'] = df['시점'].astype(str).str[:4].astype(int)\n",
    "df_filtered = df[df['year'].between(2013, 2024)]\n",
    "df_filtered['시점'] = pd.to_datetime(df_filtered['시점'].astype(str), format='%Y%m%d').dt.strftime('%Y-%m-%d')\n",
    "df_result = df_filtered[['시점', '값']]\n",
    "\n",
    "output_file = 'filtered_call_data.csv'\n",
    "df_result.to_csv(output_file, index=False)"
   ]
  }
 ],
 "metadata": {
  "kernelspec": {
   "display_name": "nlp",
   "language": "python",
   "name": "python3"
  },
  "language_info": {
   "codemirror_mode": {
    "name": "ipython",
    "version": 3
   },
   "file_extension": ".py",
   "mimetype": "text/x-python",
   "name": "python",
   "nbconvert_exporter": "python",
   "pygments_lexer": "ipython3",
   "version": "3.9.21"
  }
 },
 "nbformat": 4,
 "nbformat_minor": 2
}
