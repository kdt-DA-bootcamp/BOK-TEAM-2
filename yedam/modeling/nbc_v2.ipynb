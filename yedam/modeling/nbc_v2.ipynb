{
 "cells": [
  {
   "cell_type": "code",
   "execution_count": 10,
   "metadata": {},
   "outputs": [],
   "source": [
    "import glob\n",
    "import pandas as pd\n",
    "import ast\n",
    "from sklearn.metrics import classification_report, confusion_matrix"
   ]
  },
  {
   "cell_type": "code",
   "execution_count": 11,
   "metadata": {},
   "outputs": [],
   "source": [
    "def parse_ngram_list(x):\n",
    "    return ast.literal_eval(x)"
   ]
  },
  {
   "cell_type": "code",
   "execution_count": 12,
   "metadata": {},
   "outputs": [],
   "source": [
    "def create_document_and_target(ngram_list):\n",
    "    if not ngram_list:\n",
    "        return \"\", None\n",
    "\n",
    "    tokens = []\n",
    "    target = None\n",
    "\n",
    "    for item in ngram_list:\n",
    "        token_tuple, freq, lab = item\n",
    "        # n-그램 조합을 언더스코어로 결합해서 하나의 토큰으로\n",
    "        token_str = \"_\".join(token_tuple)\n",
    "        # 중복 없이 한 번만 추가\n",
    "        if token_str not in tokens:\n",
    "            tokens.append(token_str)\n",
    "\n",
    "        # 라벨\n",
    "        if lab == 1:\n",
    "            target = \"hawkish\"\n",
    "        elif lab == -1:\n",
    "            target = \"dovish\"\n",
    "\n",
    "    document = \" \".join(tokens) if tokens else \"\"\n",
    "    return document, target"
   ]
  },
  {
   "cell_type": "code",
   "execution_count": 13,
   "metadata": {},
   "outputs": [],
   "source": [
    "csv_files = glob.glob(\"labeled_*.csv\")\n",
    "\n",
    "all_documents = []\n",
    "all_targets = []"
   ]
  },
  {
   "cell_type": "code",
   "execution_count": 14,
   "metadata": {},
   "outputs": [
    {
     "name": "stdout",
     "output_type": "stream",
     "text": [
      "=== Classification Report on Training Data ===\n",
      "              precision    recall  f1-score   support\n",
      "\n",
      "      dovish       0.51      1.00      0.68       346\n",
      "     hawkish       0.00      0.00      0.00       332\n",
      "\n",
      "    accuracy                           0.51       678\n",
      "   macro avg       0.26      0.50      0.34       678\n",
      "weighted avg       0.26      0.51      0.34       678\n",
      "\n",
      "=== Confusion Matrix on Training Data ===\n",
      "[[346   0]\n",
      " [332   0]]\n"
     ]
    },
    {
     "name": "stderr",
     "output_type": "stream",
     "text": [
      "c:\\Users\\USER\\anaconda3\\envs\\nlp\\lib\\site-packages\\sklearn\\metrics\\_classification.py:1565: UndefinedMetricWarning: Precision is ill-defined and being set to 0.0 in labels with no predicted samples. Use `zero_division` parameter to control this behavior.\n",
      "  _warn_prf(average, modifier, f\"{metric.capitalize()} is\", len(result))\n",
      "c:\\Users\\USER\\anaconda3\\envs\\nlp\\lib\\site-packages\\sklearn\\metrics\\_classification.py:1565: UndefinedMetricWarning: Precision is ill-defined and being set to 0.0 in labels with no predicted samples. Use `zero_division` parameter to control this behavior.\n",
      "  _warn_prf(average, modifier, f\"{metric.capitalize()} is\", len(result))\n",
      "c:\\Users\\USER\\anaconda3\\envs\\nlp\\lib\\site-packages\\sklearn\\metrics\\_classification.py:1565: UndefinedMetricWarning: Precision is ill-defined and being set to 0.0 in labels with no predicted samples. Use `zero_division` parameter to control this behavior.\n",
      "  _warn_prf(average, modifier, f\"{metric.capitalize()} is\", len(result))\n"
     ]
    }
   ],
   "source": [
    "for file in csv_files:\n",
    "    for chunk in pd.read_csv(file, parse_dates=['date'], chunksize=10000):\n",
    "        # ngram_label을 리스트로 변환\n",
    "        chunk['ngram_list'] = chunk['ngram_label'].apply(lambda x: ast.literal_eval(x))\n",
    "        # 각 행마다 document와 target 생성\n",
    "        chunk[['document', 'target']] = chunk['ngram_list'].apply(lambda x: pd.Series(create_document_and_target(x)))\n",
    "        # NaN 제거\n",
    "        chunk = chunk.dropna(subset=['document', 'target'])\n",
    "        if chunk.empty:\n",
    "            continue\n",
    "        all_documents.extend(chunk['document'].tolist())\n",
    "        all_targets.extend(chunk['target'].tolist())\n",
    "\n",
    "# 전체 학습 데이터 벡터화 (HashingVectorizer는 상태가 없으므로 재사용 가능)\n",
    "X_all_vec = vectorizer.transform(all_documents)\n",
    "y_all_pred = clf.predict(X_all_vec)\n",
    "\n",
    "# 평가 결과 출력\n",
    "print(\"=== Classification Report on Training Data ===\")\n",
    "print(classification_report(all_targets, y_all_pred))\n",
    "print(\"=== Confusion Matrix on Training Data ===\")\n",
    "print(confusion_matrix(all_targets, y_all_pred))"
   ]
  }
 ],
 "metadata": {
  "kernelspec": {
   "display_name": "nlp",
   "language": "python",
   "name": "python3"
  },
  "language_info": {
   "codemirror_mode": {
    "name": "ipython",
    "version": 3
   },
   "file_extension": ".py",
   "mimetype": "text/x-python",
   "name": "python",
   "nbconvert_exporter": "python",
   "pygments_lexer": "ipython3",
   "version": "3.9.21"
  }
 },
 "nbformat": 4,
 "nbformat_minor": 2
}
