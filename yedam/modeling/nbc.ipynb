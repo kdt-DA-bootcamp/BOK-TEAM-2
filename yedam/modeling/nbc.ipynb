{
 "cells": [
  {
   "cell_type": "markdown",
   "metadata": {},
   "source": [
    "### 모듈"
   ]
  },
  {
   "cell_type": "code",
   "execution_count": 126,
   "metadata": {},
   "outputs": [],
   "source": [
    "import numpy as np\n",
    "import pandas as pd\n",
    "import ast\n",
    "from sklearn.feature_extraction.text import CountVectorizer\n",
    "from sklearn.naive_bayes import MultinomialNB\n",
    "from sklearn.model_selection import train_test_split\n",
    "from sklearn.metrics import classification_report"
   ]
  },
  {
   "cell_type": "markdown",
   "metadata": {},
   "source": [
    "### 데이터 불러오기"
   ]
  },
  {
   "cell_type": "code",
   "execution_count": 136,
   "metadata": {},
   "outputs": [
    {
     "name": "stdout",
     "output_type": "stream",
     "text": [
      "         date                                        ngram_label\n",
      "0  2024-11-29  [(('한국',), 89, -1), (('미국',), 254, -1), (('제조업...\n",
      "1  2024-11-28  [(('트럼프',), 51, -1), (('관세',), 43, -1), (('인상'...\n",
      "2  2024-11-27                                                 []\n",
      "3  2024-11-26  [(('ETF',), 24, 0), (('자금',), 18, 0), (('동향',)...\n",
      "4  2024-11-25  [(('한국',), 37, 0), (('미국',), 99, 0), (('시장',),...\n",
      "(17403, 2)\n"
     ]
    }
   ],
   "source": [
    "filenames = [\n",
    "    \"labeled_bond.csv\",\n",
    "    \"labeled_economy.csv\",\n",
    "    \"labeled_edaily.csv\",\n",
    "    \"labeled_hk.csv\",\n",
    "    \"labeled_infomax.csv\",\n",
    "    \"labeled_mpb.csv\"\n",
    "]\n",
    "\n",
    "df_list = []\n",
    "for file in filenames:\n",
    "    temp_df = pd.read_csv(file)\n",
    "    df_list.append(temp_df)\n",
    "\n",
    "# 모든 데이터가 합쳐진 최종 데이터프레임\n",
    "df = pd.concat(df_list, ignore_index=True)\n",
    "\n",
    "print(df.head())\n",
    "print(df.shape)"
   ]
  },
  {
   "cell_type": "markdown",
   "metadata": {},
   "source": [
    "### NBC 모델링"
   ]
  },
  {
   "cell_type": "code",
   "execution_count": 137,
   "metadata": {},
   "outputs": [],
   "source": [
    "def parse_ngram_list(x):\n",
    "    return ast.literal_eval(x)\n",
    "\n",
    "df['ngram_list'] = df['ngram_label'].apply(parse_ngram_list)"
   ]
  },
  {
   "cell_type": "code",
   "execution_count": 138,
   "metadata": {},
   "outputs": [],
   "source": [
    "def create_document_and_target(ngram_list):\n",
    "    if not ngram_list:\n",
    "        return \"\", None\n",
    "    \n",
    "    # 초기화\n",
    "    tokens = []\n",
    "    target = None\n",
    "\n",
    "    for item in ngram_list:\n",
    "        token_tuple, freq, lab = item\n",
    "        # item이 (('금리',), 13, 0) 형태일 때,\n",
    "        # item[0] = 토큰 튜플\n",
    "        # item[1] = 빈도수(freq)\n",
    "        # item[2] = 라벨(0이면 dovish, 1이면 hawkish)\n",
    "\n",
    "        # 튜플을 문자열로 만들어 합친다.\n",
    "        token_str = \"_\".join(token_tuple)\n",
    "        if token_str not in tokens:\n",
    "            tokens.append(token_str)\n",
    "\n",
    "        if lab == 1:\n",
    "            target = \"hawkish\"\n",
    "        elif lab == -1:\n",
    "            target = \"dovish\"\n",
    "\n",
    "    document = \" \".join(tokens) if tokens else \"\"\n",
    "    return document, target"
   ]
  },
  {
   "cell_type": "code",
   "execution_count": 139,
   "metadata": {},
   "outputs": [],
   "source": [
    "df[['document', 'target']] = df['ngram_list'].apply(lambda x: pd.Series(create_document_and_target(x)))\n",
    "df = df.dropna(subset=['document', 'target'])"
   ]
  },
  {
   "cell_type": "markdown",
   "metadata": {},
   "source": [
    "### 학습"
   ]
  },
  {
   "cell_type": "code",
   "execution_count": 140,
   "metadata": {},
   "outputs": [
    {
     "name": "stdout",
     "output_type": "stream",
     "text": [
      "              precision    recall  f1-score   support\n",
      "\n",
      "      dovish       0.93      0.76      0.84       130\n",
      "     hawkish       0.79      0.93      0.86       123\n",
      "\n",
      "    accuracy                           0.85       253\n",
      "   macro avg       0.86      0.85      0.85       253\n",
      "weighted avg       0.86      0.85      0.84       253\n",
      "\n"
     ]
    }
   ],
   "source": [
    "# 피처(X)와 타겟(y) 준비\n",
    "X = df['document']\n",
    "y = df['target']\n",
    "\n",
    "# 학습/테스트 데이터 분리\n",
    "X_train, X_test, y_train, y_test = train_test_split(X, y, test_size=0.1, random_state=42)\n",
    "\n",
    "# CountVectorizer로 문서 벡터화\n",
    "vectorizer = CountVectorizer()\n",
    "X_train_vec = vectorizer.fit_transform(X_train)\n",
    "X_test_vec = vectorizer.transform(X_test)\n",
    "\n",
    "# 나이브 베이즈 분류기(MultinomialNB) 학습\n",
    "clf = MultinomialNB()\n",
    "clf.fit(X_train_vec, y_train)\n",
    "\n",
    "# 테스트 데이터 예측 및 평가\n",
    "y_pred = clf.predict(X_test_vec)\n",
    "print(classification_report(y_test, y_pred))"
   ]
  },
  {
   "cell_type": "code",
   "execution_count": 141,
   "metadata": {},
   "outputs": [
    {
     "name": "stdout",
     "output_type": "stream",
     "text": [
      "클래스 순서: ['dovish' 'hawkish']\n"
     ]
    }
   ],
   "source": [
    "feature_names = vectorizer.get_feature_names_out()\n",
    "probs = np.exp(clf.feature_log_prob_)\n",
    "print(\"클래스 순서:\", clf.classes_)"
   ]
  },
  {
   "cell_type": "code",
   "execution_count": 142,
   "metadata": {},
   "outputs": [
    {
     "name": "stdout",
     "output_type": "stream",
     "text": [
      "Hawkish 쪽 상위 단어:\n",
      "     feature  dovish_prob  hawkish_prob  sentiment_score\n",
      "4216      인상     0.004011      0.011673         0.007662\n",
      "997    금리_인상     0.002534      0.008755         0.006220\n",
      "4273   인플레이션     0.001203      0.006859         0.005656\n",
      "2023      물가     0.003555      0.008577         0.005022\n",
      "1274      긴축     0.000128      0.003941         0.003813\n",
      "114       가격     0.003209      0.006573         0.003364\n",
      "5677      침체     0.000547      0.003695         0.003149\n",
      "1310      내년     0.002279      0.004909         0.002630\n",
      "1230      기준     0.003081      0.005645         0.002564\n",
      "3726      연준     0.001841      0.004336         0.002495\n",
      "\n",
      "Dovish 쪽 상위 단어:\n",
      "     feature  dovish_prob  hawkish_prob  sentiment_score\n",
      "4284      인하     0.008131      0.001350        -0.006781\n",
      "1017   금리_인하     0.004923      0.000518        -0.004404\n",
      "5115      중국     0.007621      0.005632        -0.001989\n",
      "970       금리     0.015661      0.013705        -0.001957\n",
      "4328      일본     0.003373      0.001432        -0.001941\n",
      "5899     트럼프     0.002151      0.000218        -0.001933\n",
      "5580      추가     0.005524      0.003723        -0.001802\n",
      "2071      미국     0.014421      0.012709        -0.001712\n",
      "439       경제     0.010939      0.009368        -0.001571\n",
      "2572    브렉시트     0.001604      0.000068        -0.001536\n"
     ]
    }
   ],
   "source": [
    "sentiment_score = probs[1] - probs[0]\n",
    "\n",
    "sentiment_df = pd.DataFrame({\n",
    "    'feature': feature_names,\n",
    "    'dovish_prob': probs[0],\n",
    "    'hawkish_prob': probs[1],\n",
    "    'sentiment_score': sentiment_score\n",
    "})\n",
    "\n",
    "print(\"Hawkish 쪽 상위 단어:\")\n",
    "print(sentiment_df.sort_values('sentiment_score', ascending=False).head(10))\n",
    "print(\"\\nDovish 쪽 상위 단어:\")\n",
    "print(sentiment_df.sort_values('sentiment_score', ascending=True).head(10))"
   ]
  },
  {
   "cell_type": "code",
   "execution_count": 143,
   "metadata": {},
   "outputs": [],
   "source": [
    "# target 별로 모든 document를 하나의 텍스트로 합치기\n",
    "grouped_docs = df.groupby('target')['document'].apply(lambda docs: \" \".join(docs)).reset_index()"
   ]
  },
  {
   "cell_type": "code",
   "execution_count": 144,
   "metadata": {},
   "outputs": [
    {
     "name": "stdout",
     "output_type": "stream",
     "text": [
      "dovish : 한국 미국 제조업 경기 수출 불확실성 상승 지수 SP 생산 감소 추세 지속 정부 기업 정책 기대 내년 고용 서비스업 임금 상승률 둔화 확대 발표 ISM PMI 흐름 필요 국내 트럼프 수입 중국 증가 크 우려 PCE 확인 소비 연말 판단 가운데 매크로 이벤트 비농업 신규 실업률 주요 유로존 기준 하락 속도 경제 독일 금리 인하 관련 인플레이션 압력 서비스 소...\n",
      "hawkish : 내용 작성 확인 투자 판단 증권 물가 상승 미국 인플레이션 높 상승률 평균 경제 수요 한국 유지 지속 발표 국가 이벤트 대비 분기 전월 에너지 제외 비 수입 지수 소매 판매 가스 생산 주택 매크로 소매_판매 고용 소비자 fed 시장 가격 가중치 소비 데이터 기준 비중 서비스 하락 증가 주거비 크 주요 금리 인상 둔화 경기 유로존 소비자_물가 금리_인상 팀 ...\n"
     ]
    }
   ],
   "source": [
    "for idx, row in grouped_docs.iterrows():\n",
    "    print(f\"{row['target']} : {row['document'][:200]}...\")"
   ]
  },
  {
   "cell_type": "code",
   "execution_count": 145,
   "metadata": {},
   "outputs": [
    {
     "data": {
      "text/html": [
       "<div>\n",
       "<style scoped>\n",
       "    .dataframe tbody tr th:only-of-type {\n",
       "        vertical-align: middle;\n",
       "    }\n",
       "\n",
       "    .dataframe tbody tr th {\n",
       "        vertical-align: top;\n",
       "    }\n",
       "\n",
       "    .dataframe thead th {\n",
       "        text-align: right;\n",
       "    }\n",
       "</style>\n",
       "<table border=\"1\" class=\"dataframe\">\n",
       "  <thead>\n",
       "    <tr style=\"text-align: right;\">\n",
       "      <th></th>\n",
       "      <th>target</th>\n",
       "      <th>document</th>\n",
       "    </tr>\n",
       "  </thead>\n",
       "  <tbody>\n",
       "    <tr>\n",
       "      <th>0</th>\n",
       "      <td>dovish</td>\n",
       "      <td>한국 미국 제조업 경기 수출 불확실성 상승 지수 SP 생산 감소 추세 지속 정부 기...</td>\n",
       "    </tr>\n",
       "    <tr>\n",
       "      <th>1</th>\n",
       "      <td>hawkish</td>\n",
       "      <td>내용 작성 확인 투자 판단 증권 물가 상승 미국 인플레이션 높 상승률 평균 경제 수...</td>\n",
       "    </tr>\n",
       "  </tbody>\n",
       "</table>\n",
       "</div>"
      ],
      "text/plain": [
       "    target                                           document\n",
       "0   dovish  한국 미국 제조업 경기 수출 불확실성 상승 지수 SP 생산 감소 추세 지속 정부 기...\n",
       "1  hawkish  내용 작성 확인 투자 판단 증권 물가 상승 미국 인플레이션 높 상승률 평균 경제 수..."
      ]
     },
     "execution_count": 145,
     "metadata": {},
     "output_type": "execute_result"
    }
   ],
   "source": [
    "grouped_docs"
   ]
  },
  {
   "cell_type": "code",
   "execution_count": 147,
   "metadata": {},
   "outputs": [],
   "source": [
    "dovish_str = grouped_docs.loc[grouped_docs['target'] == 'dovish', 'document'].values[0]\n",
    "hawkish_str = grouped_docs.loc[grouped_docs['target'] == 'hawkish', 'document'].values[0]\n",
    "\n",
    "dovish_words = dovish_str.split()\n",
    "hawkish_words = hawkish_str.split()\n",
    "\n",
    "max_len = max(len(dovish_words), len(hawkish_words))\n",
    "dovish_words += [None] * (max_len - len(dovish_words))\n",
    "hawkish_words += [None] * (max_len - len(hawkish_words))\n",
    "\n",
    "df = pd.DataFrame({\n",
    "    'dovish': dovish_words,\n",
    "    'hawkish': hawkish_words\n",
    "})\n",
    "\n",
    "df.to_csv('word_dictionary.csv', index=False, encoding='utf-8-sig')"
   ]
  },
  {
   "cell_type": "code",
   "execution_count": 149,
   "metadata": {},
   "outputs": [
    {
     "data": {
      "text/html": [
       "<div>\n",
       "<style scoped>\n",
       "    .dataframe tbody tr th:only-of-type {\n",
       "        vertical-align: middle;\n",
       "    }\n",
       "\n",
       "    .dataframe tbody tr th {\n",
       "        vertical-align: top;\n",
       "    }\n",
       "\n",
       "    .dataframe thead th {\n",
       "        text-align: right;\n",
       "    }\n",
       "</style>\n",
       "<table border=\"1\" class=\"dataframe\">\n",
       "  <thead>\n",
       "    <tr style=\"text-align: right;\">\n",
       "      <th></th>\n",
       "      <th>dovish</th>\n",
       "      <th>hawkish</th>\n",
       "    </tr>\n",
       "  </thead>\n",
       "  <tbody>\n",
       "    <tr>\n",
       "      <th>0</th>\n",
       "      <td>한국</td>\n",
       "      <td>내용</td>\n",
       "    </tr>\n",
       "    <tr>\n",
       "      <th>1</th>\n",
       "      <td>미국</td>\n",
       "      <td>작성</td>\n",
       "    </tr>\n",
       "    <tr>\n",
       "      <th>2</th>\n",
       "      <td>제조업</td>\n",
       "      <td>확인</td>\n",
       "    </tr>\n",
       "    <tr>\n",
       "      <th>3</th>\n",
       "      <td>경기</td>\n",
       "      <td>투자</td>\n",
       "    </tr>\n",
       "    <tr>\n",
       "      <th>4</th>\n",
       "      <td>수출</td>\n",
       "      <td>판단</td>\n",
       "    </tr>\n",
       "    <tr>\n",
       "      <th>5</th>\n",
       "      <td>불확실성</td>\n",
       "      <td>증권</td>\n",
       "    </tr>\n",
       "    <tr>\n",
       "      <th>6</th>\n",
       "      <td>상승</td>\n",
       "      <td>물가</td>\n",
       "    </tr>\n",
       "    <tr>\n",
       "      <th>7</th>\n",
       "      <td>지수</td>\n",
       "      <td>상승</td>\n",
       "    </tr>\n",
       "    <tr>\n",
       "      <th>8</th>\n",
       "      <td>SP</td>\n",
       "      <td>미국</td>\n",
       "    </tr>\n",
       "    <tr>\n",
       "      <th>9</th>\n",
       "      <td>생산</td>\n",
       "      <td>인플레이션</td>\n",
       "    </tr>\n",
       "    <tr>\n",
       "      <th>10</th>\n",
       "      <td>감소</td>\n",
       "      <td>높</td>\n",
       "    </tr>\n",
       "    <tr>\n",
       "      <th>11</th>\n",
       "      <td>추세</td>\n",
       "      <td>상승률</td>\n",
       "    </tr>\n",
       "    <tr>\n",
       "      <th>12</th>\n",
       "      <td>지속</td>\n",
       "      <td>평균</td>\n",
       "    </tr>\n",
       "    <tr>\n",
       "      <th>13</th>\n",
       "      <td>정부</td>\n",
       "      <td>경제</td>\n",
       "    </tr>\n",
       "    <tr>\n",
       "      <th>14</th>\n",
       "      <td>기업</td>\n",
       "      <td>수요</td>\n",
       "    </tr>\n",
       "    <tr>\n",
       "      <th>15</th>\n",
       "      <td>정책</td>\n",
       "      <td>한국</td>\n",
       "    </tr>\n",
       "    <tr>\n",
       "      <th>16</th>\n",
       "      <td>기대</td>\n",
       "      <td>유지</td>\n",
       "    </tr>\n",
       "    <tr>\n",
       "      <th>17</th>\n",
       "      <td>내년</td>\n",
       "      <td>지속</td>\n",
       "    </tr>\n",
       "    <tr>\n",
       "      <th>18</th>\n",
       "      <td>고용</td>\n",
       "      <td>발표</td>\n",
       "    </tr>\n",
       "    <tr>\n",
       "      <th>19</th>\n",
       "      <td>서비스업</td>\n",
       "      <td>국가</td>\n",
       "    </tr>\n",
       "  </tbody>\n",
       "</table>\n",
       "</div>"
      ],
      "text/plain": [
       "   dovish hawkish\n",
       "0      한국      내용\n",
       "1      미국      작성\n",
       "2     제조업      확인\n",
       "3      경기      투자\n",
       "4      수출      판단\n",
       "5    불확실성      증권\n",
       "6      상승      물가\n",
       "7      지수      상승\n",
       "8      SP      미국\n",
       "9      생산   인플레이션\n",
       "10     감소       높\n",
       "11     추세     상승률\n",
       "12     지속      평균\n",
       "13     정부      경제\n",
       "14     기업      수요\n",
       "15     정책      한국\n",
       "16     기대      유지\n",
       "17     내년      지속\n",
       "18     고용      발표\n",
       "19   서비스업      국가"
      ]
     },
     "execution_count": 149,
     "metadata": {},
     "output_type": "execute_result"
    }
   ],
   "source": [
    "pd.read_csv('word_dictionary.csv').head(20)"
   ]
  }
 ],
 "metadata": {
  "kernelspec": {
   "display_name": "nlp",
   "language": "python",
   "name": "python3"
  },
  "language_info": {
   "codemirror_mode": {
    "name": "ipython",
    "version": 3
   },
   "file_extension": ".py",
   "mimetype": "text/x-python",
   "name": "python",
   "nbconvert_exporter": "python",
   "pygments_lexer": "ipython3",
   "version": "3.9.21"
  }
 },
 "nbformat": 4,
 "nbformat_minor": 2
}
