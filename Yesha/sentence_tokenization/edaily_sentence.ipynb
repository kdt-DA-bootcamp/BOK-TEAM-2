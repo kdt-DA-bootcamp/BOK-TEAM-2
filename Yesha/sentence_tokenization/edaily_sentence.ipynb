{
 "cells": [
  {
   "cell_type": "markdown",
   "metadata": {},
   "source": [
    "### 금통위 의사록 문장 토큰화"
   ]
  },
  {
   "cell_type": "code",
   "execution_count": 3,
   "metadata": {},
   "outputs": [],
   "source": [
    "import pandas as pd\n",
    "import numpy as np\n",
    "from kiwipiepy import Kiwi\n",
    "kiwi = Kiwi()\n",
    "import re\n",
    "import os"
   ]
  },
  {
   "cell_type": "code",
   "execution_count": null,
   "metadata": {},
   "outputs": [],
   "source": [
    "mpb_df = pd.read_csv(r\"c:/Users/iq750/bootcamp_git/대용량 파일 관리/edaily_results.csv\")"
   ]
  },
  {
   "cell_type": "code",
   "execution_count": null,
   "metadata": {},
   "outputs": [
    {
     "name": "stdout",
     "output_type": "stream",
     "text": [
      "c:/Users/iq750/bootcamp_git/대용량 파일 관리/edaily_split\\edaily_split_1.csv 저장 완료\n",
      "c:/Users/iq750/bootcamp_git/대용량 파일 관리/edaily_split\\edaily_split_2.csv 저장 완료\n",
      "c:/Users/iq750/bootcamp_git/대용량 파일 관리/edaily_split\\edaily_split_3.csv 저장 완료\n"
     ]
    }
   ],
   "source": [
    "# 대용량 파일 나누기\n",
    "\n",
    "file_path = r\"c:/Users/iq750/bootcamp_git/대용량 파일 관리/edaily_results.csv\"\n",
    "\n",
    "# if os.path.exists(file_path):\n",
    "#     print(\"파일이 존재합니다.\")\n",
    "\n",
    "# file_size = os.path.getsize(file_path)\n",
    "# print(f\"파일크기: {file_size / (1024*1024):.2f} MB\")\n",
    "\n",
    "# 디렉터리 생성 # csv 파일을 나눠서 저장할 폴더\n",
    "output_dir = r\"c:/Users/iq750/bootcamp_git/대용량 파일 관리/edaily_split\"\n",
    "os.makedirs(output_dir, exist_ok=True)\n",
    "\n",
    "# 파일을 일정 크기로 나누어 저장\n",
    "import pandas as pd\n",
    "chunk_size = 40000 # 4만 개 행씩 저장\n",
    "for i, chunk in enumerate(pd.read_csv(file_path, chunksize= chunk_size)):\n",
    "    output_file = os.path.join(output_dir, f\"edaily_split_{i+1}.csv\")\n",
    "    chunk.to_csv(output_file, index=False)\n",
    "    print(f\"{output_file} 저장 완료\")"
   ]
  },
  {
   "cell_type": "code",
   "execution_count": 9,
   "metadata": {},
   "outputs": [
    {
     "name": "stdout",
     "output_type": "stream",
     "text": [
      "['edaily_sentences_1.csv', 'edaily_sentences_2.csv', 'edaily_sentences_3.csv', 'edaily_split_1.csv', 'edaily_split_2.csv', 'edaily_split_3.csv']\n"
     ]
    }
   ],
   "source": [
    "# 나눠진 csv 파일 리스트 가져올 때 \n",
    "output_dir = r\"C:/Users/iq750/bootcamp_git/대용량 파일 관리/edaily_split\"\n",
    "csv_files = sorted([f for f in os.listdir(output_dir) if f.endswith(\".csv\")])\n",
    "print(csv_files)\n",
    "\n",
    "\n",
    "# 필요 없는 것 지울 때\n",
    "# for file in csv_files:\n",
    "#     os.remove(os.path.join(output_dir, file))\n",
    "# print(\"파일 삭제 완료\")\n",
    "output_dir + '/' + csv_files[0]\n",
    "def cleaned_(text:str):\n",
    "    pattern1 = r'\\[[^\\]]*\\]' \n",
    "    pattern2 = r'\\([^)]*\\)' \n",
    "    text = re.sub(pattern1, '', text)\n",
    "    text = re.sub(pattern2, '', text) # 대괄호 및 소괄호 내 내용 삭제\n",
    "    return text.strip()"
   ]
  },
  {
   "cell_type": "code",
   "execution_count": 11,
   "metadata": {},
   "outputs": [
    {
     "name": "stdout",
     "output_type": "stream",
     "text": [
      "0\n",
      "문장분리완료\n",
      "자료저장완료\n",
      "1\n",
      "문장분리완료\n",
      "자료저장완료\n",
      "2\n",
      "문장분리완료\n",
      "자료저장완료\n"
     ]
    }
   ],
   "source": [
    "# 1번째 파일만 가져와서 정리\n",
    "for i in range(3):\n",
    "    print(i)\n",
    "    edaily = pd.read_csv(\"C:/Users/iq750/bootcamp_git/대용량 파일 관리/edaily_split/edaily_split_{}.csv\".format(i+1))\n",
    "    edaily = edaily.drop('Unnamed: 0', axis = 1)\n",
    "    edaily = edaily[~edaily['contents'].str.contains(r'^\\[표\\]', regex=True, na=False)]\n",
    "    # sentences = []\n",
    "    # 문장 분리 (apply 활용)\n",
    "    edaily['sentences'] = edaily['contents'].apply(lambda content: [s.text for s in kiwi.split_into_sents(cleaned_(content))])\n",
    "    print(\"문장분리완료\")\n",
    "    # for content in edaily['contents']:\n",
    "    #     content = cleaned_(content)\n",
    "    #     sents = [s.text for s in kiwi.split_into_sents(content)]\n",
    "    #     sentences.append(sents)\n",
    "\n",
    "    # edaily_sentences = pd.DataFrame({'date': edaily['date'], 'sentences': sentences})\n",
    "    # edaily_sentences.to_csv(output_dir + '/' + f'edaily_sentences_{i+1}.csv', encoding='utf-8', index=False)\n",
    "    # 데이터 저장\n",
    "    output_file = f\"{output_dir}/edaily_sentences_{i+1}.csv\"\n",
    "    edaily[['date', 'sentences']].to_csv(output_file, encoding='utf-8', index=False)\n",
    "    print(\"자료저장완료\")"
   ]
  },
  {
   "cell_type": "code",
   "execution_count": null,
   "metadata": {},
   "outputs": [
    {
     "name": "stdout",
     "output_type": "stream",
     "text": [
      "100670\n"
     ]
    }
   ],
   "source": [
    "lenth = 0\n",
    "for i in range(3):\n",
    "    output_file = f\"{output_dir}/edaily_sentences_{i+1}.csv\"\n",
    "    df = pd.read_csv(output_file)\n",
    "    lenth += len(df)\n",
    "print(lenth)\n",
    "\n",
    "# 길이 확인 = 정상 "
   ]
  }
 ],
 "metadata": {
  "kernelspec": {
   "display_name": "nlp",
   "language": "python",
   "name": "python3"
  },
  "language_info": {
   "codemirror_mode": {
    "name": "ipython",
    "version": 3
   },
   "file_extension": ".py",
   "mimetype": "text/x-python",
   "name": "python",
   "nbconvert_exporter": "python",
   "pygments_lexer": "ipython3",
   "version": "3.9.21"
  }
 },
 "nbformat": 4,
 "nbformat_minor": 2
}
