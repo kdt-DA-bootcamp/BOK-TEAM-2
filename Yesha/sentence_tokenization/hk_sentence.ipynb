{
 "cells": [
  {
   "cell_type": "markdown",
   "metadata": {},
   "source": [
    "## 한국경제 문장 토큰화 및 저장"
   ]
  },
  {
   "cell_type": "code",
   "execution_count": 2,
   "metadata": {},
   "outputs": [],
   "source": [
    "import pandas as pd\n",
    "import numpy as np\n",
    "from kiwipiepy import Kiwi\n",
    "kiwi = Kiwi()\n",
    "import re\n",
    "import os"
   ]
  },
  {
   "cell_type": "code",
   "execution_count": 16,
   "metadata": {},
   "outputs": [
    {
     "name": "stdout",
     "output_type": "stream",
     "text": [
      "파일이 존재합니다\n",
      "파일크기: 469.42 MB\n",
      "C:\\Users\\iq750\\bootcamp_git\\대용량 파일 관리\\hk_split\\hk_split_1.csv 저장 완료\n",
      "C:\\Users\\iq750\\bootcamp_git\\대용량 파일 관리\\hk_split\\hk_split_2.csv 저장 완료\n",
      "C:\\Users\\iq750\\bootcamp_git\\대용량 파일 관리\\hk_split\\hk_split_3.csv 저장 완료\n",
      "C:\\Users\\iq750\\bootcamp_git\\대용량 파일 관리\\hk_split\\hk_split_4.csv 저장 완료\n",
      "C:\\Users\\iq750\\bootcamp_git\\대용량 파일 관리\\hk_split\\hk_split_5.csv 저장 완료\n"
     ]
    }
   ],
   "source": [
    "file_path = \"C:/Users/iq750/bootcamp_git/대용량 파일 관리/hk_results_real.csv\"\n",
    "\n",
    "if os.path.exists(file_path):\n",
    "    print(\"파일이 존재합니다\")\n",
    "file_size = os.path.getsize(file_path)\n",
    "print(f\"파일크기: {file_size / (1024*1024):.2f} MB\")\n",
    "# 디렉터리 생성\n",
    "output_dir = r\"C:\\Users\\iq750\\bootcamp_git\\대용량 파일 관리\\hk_split\"\n",
    "os.makedirs(output_dir, exist_ok=True)\n",
    "\n",
    "# 파일을 일정 크기로 나누어 저장\n",
    "chunksize = 15000\n",
    "for i, chunk in enumerate(pd.read_csv(file_path, chunksize=chunksize)):\n",
    "    output_file = os.path.join(output_dir, f'hk_split_{i+1}.csv')\n",
    "    chunk.to_csv(output_file, index = False, encoding='utf-8')\n",
    "    print(f\"{output_file} 저장 완료\")"
   ]
  },
  {
   "cell_type": "code",
   "execution_count": 29,
   "metadata": {},
   "outputs": [
    {
     "name": "stdout",
     "output_type": "stream",
     "text": [
      "0\n",
      "파일 불러오기 완료\n",
      "문장 분리 완료\n",
      "자료 저장 완료\n",
      "1\n",
      "파일 불러오기 완료\n",
      "문장 분리 완료\n",
      "자료 저장 완료\n",
      "2\n",
      "파일 불러오기 완료\n",
      "문장 분리 완료\n",
      "자료 저장 완료\n",
      "3\n",
      "파일 불러오기 완료\n",
      "문장 분리 완료\n",
      "자료 저장 완료\n",
      "4\n",
      "파일 불러오기 완료\n",
      "문장 분리 완료\n",
      "자료 저장 완료\n"
     ]
    }
   ],
   "source": [
    "# 파일 탐색\n",
    "# 기사 중 별로인 데이터, 필요 없는 데이터 정리\n",
    "# # 이미 전처리 끝난 파일이라 그대로 사용\n",
    "csv_files = sorted([f for f in os.listdir(output_dir) if f.endswith(\".csv\")])\n",
    "for i in range(len(csv_files)):\n",
    "    print(i)\n",
    "    file_path = \"C:\\\\Users\\\\iq750\\\\bootcamp_git\\\\대용량 파일 관리\\\\hk_split\\\\hk_split_{}.csv\".format(i+1)\n",
    "    hk = pd.read_csv(file_path)\n",
    "    print(\"파일 불러오기 완료\")\n",
    "\n",
    "    # sentences = []\n",
    "    # for content in tenth['contents']:\n",
    "    #     sents = [s.text for s in kiwi.split_into_sents(content)]\n",
    "    #     sentences.append(sents)\n",
    "    hk['sentences'] = hk['contents'].apply(lambda content: [s.text for s in kiwi.split_into_sents(content)])\n",
    "    print(\"문장 분리 완료\")\n",
    "\n",
    "    output_file = f\"{output_dir}/hk_sentences_{i+1}.csv\"\n",
    "    hk[['date', 'sentences']].to_csv(output_file, encoding='utf-8', index=False)\n",
    "    print(\"자료 저장 완료\")"
   ]
  }
 ],
 "metadata": {
  "kernelspec": {
   "display_name": "nlp",
   "language": "python",
   "name": "python3"
  },
  "language_info": {
   "codemirror_mode": {
    "name": "ipython",
    "version": 3
   },
   "file_extension": ".py",
   "mimetype": "text/x-python",
   "name": "python",
   "nbconvert_exporter": "python",
   "pygments_lexer": "ipython3",
   "version": "3.9.21"
  }
 },
 "nbformat": 4,
 "nbformat_minor": 2
}
