{
 "cells": [
  {
   "cell_type": "markdown",
   "metadata": {},
   "source": [
    "## 인포맥스 문장 토큰화 및 저장"
   ]
  },
  {
   "cell_type": "code",
   "execution_count": 25,
   "metadata": {},
   "outputs": [],
   "source": [
    "import pandas as pd\n",
    "import numpy as np\n",
    "from kiwipiepy import Kiwi\n",
    "kiwi = Kiwi()\n",
    "import re\n",
    "import os"
   ]
  },
  {
   "cell_type": "code",
   "execution_count": 26,
   "metadata": {},
   "outputs": [
    {
     "name": "stdout",
     "output_type": "stream",
     "text": [
      "파일크기: 490.12 MB\n",
      "C:/Users/iq750/bootcamp_git/대용량 파일 관리/infomax_split/infomax_split_1.csv 저장 완료\n",
      "C:/Users/iq750/bootcamp_git/대용량 파일 관리/infomax_split/infomax_split_2.csv 저장 완료\n",
      "C:/Users/iq750/bootcamp_git/대용량 파일 관리/infomax_split/infomax_split_3.csv 저장 완료\n",
      "C:/Users/iq750/bootcamp_git/대용량 파일 관리/infomax_split/infomax_split_4.csv 저장 완료\n",
      "C:/Users/iq750/bootcamp_git/대용량 파일 관리/infomax_split/infomax_split_5.csv 저장 완료\n",
      "C:/Users/iq750/bootcamp_git/대용량 파일 관리/infomax_split/infomax_split_6.csv 저장 완료\n",
      "C:/Users/iq750/bootcamp_git/대용량 파일 관리/infomax_split/infomax_split_7.csv 저장 완료\n"
     ]
    }
   ],
   "source": [
    "file_path = \"C:/Users/iq750/bootcamp_git/대용량 파일 관리/infomax_processed.csv\"\n",
    "\n",
    "file_size = os.path.getsize(file_path)\n",
    "print(f\"파일크기: {file_size / (1024*1024):.2f} MB\")\n",
    "# 디렉터리 생성\n",
    "output_dir = \"C:/Users/iq750/bootcamp_git/대용량 파일 관리/infomax_split\"\n",
    "os.makedirs(output_dir, exist_ok=True)\n",
    " # 여기서부터 잘못되어있음 뭐가 뭔지 모르겠지만\n",
    "\n",
    "# 파일을 일정 크기로 나누어 저장\n",
    "chunksize = 12000\n",
    "for i, chunk in enumerate(pd.read_csv(file_path, chunksize=chunksize)):\n",
    "    output_file = f'{output_dir}/infomax_split_{i+1}.csv'\n",
    "    chunk.to_csv(output_file, index = False, encoding='utf-8')\n",
    "    print(f\"{output_file} 저장 완료\")"
   ]
  },
  {
   "cell_type": "code",
   "execution_count": 20,
   "metadata": {},
   "outputs": [],
   "source": [
    "def cleaned_(text:str):\n",
    "    pattern1 = r'\\[[^\\]]*\\]' \n",
    "    pattern2 = r'\\([^)]*\\)' \n",
    "    text = re.sub(pattern1, '', text)\n",
    "    text = re.sub(pattern2, '', text) # 대괄호 및 소괄호 내 내용 삭제\n",
    "    return text.strip()"
   ]
  },
  {
   "cell_type": "code",
   "execution_count": 29,
   "metadata": {},
   "outputs": [
    {
     "data": {
      "text/plain": [
       "['infomax_split_1.csv',\n",
       " 'infomax_split_2.csv',\n",
       " 'infomax_split_3.csv',\n",
       " 'infomax_split_4.csv',\n",
       " 'infomax_split_5.csv',\n",
       " 'infomax_split_6.csv',\n",
       " 'infomax_split_7.csv']"
      ]
     },
     "execution_count": 29,
     "metadata": {},
     "output_type": "execute_result"
    }
   ],
   "source": [
    "csv_files = sorted([f for f in os.listdir(output_dir) if f.endswith(\".csv\")])\n",
    "csv_files"
   ]
  },
  {
   "cell_type": "code",
   "execution_count": 31,
   "metadata": {},
   "outputs": [
    {
     "name": "stdout",
     "output_type": "stream",
     "text": [
      "0\n",
      "불러오기 완료\n",
      "문장 분리 완료\n",
      "자료 저장 완료\n",
      "1\n",
      "불러오기 완료\n",
      "문장 분리 완료\n",
      "자료 저장 완료\n",
      "2\n",
      "불러오기 완료\n",
      "문장 분리 완료\n",
      "자료 저장 완료\n",
      "3\n",
      "불러오기 완료\n",
      "문장 분리 완료\n",
      "자료 저장 완료\n",
      "4\n",
      "불러오기 완료\n",
      "문장 분리 완료\n",
      "자료 저장 완료\n",
      "5\n",
      "불러오기 완료\n",
      "문장 분리 완료\n",
      "자료 저장 완료\n",
      "6\n",
      "불러오기 완료\n",
      "문장 분리 완료\n",
      "자료 저장 완료\n"
     ]
    }
   ],
   "source": [
    "for i in range(len(csv_files)):\n",
    "    print(i)\n",
    "    df = pd.read_csv('C:/Users/iq750/bootcamp_git/대용량 파일 관리/infomax_split/infomax_split_5.csv')\n",
    "    df = df.fillna('')\n",
    "    contents = df['content'].astype(str)\n",
    "    print(\"불러오기 완료\")\n",
    "    sentences = []\n",
    "    for content in contents:\n",
    "        if len(content) != 0 :\n",
    "            sents = [s.text for s in kiwi.split_into_sents(cleaned_(content))]\n",
    "            sentences.append(sents)\n",
    "        else :\n",
    "            sentences.append([])\n",
    "    df['sentences']= sentences\n",
    "    print('문장 분리 완료')\n",
    "    \n",
    "    output_file = f'{output_dir}/infomax_sentences_{i+1}.csv'\n",
    "    df[['date','sentences']].to_csv(output_file, encoding='utf-8', index=False)\n",
    "    print(\"자료 저장 완료\")   "
   ]
  },
  {
   "cell_type": "code",
   "execution_count": 35,
   "metadata": {},
   "outputs": [
    {
     "name": "stdout",
     "output_type": "stream",
     "text": [
      "0번째: 😂\n",
      "파일 불러오기 완료\n"
     ]
    },
    {
     "ename": "TypeError",
     "evalue": "'NoneType' object is not subscriptable",
     "output_type": "error",
     "traceback": [
      "\u001b[1;31m---------------------------------------------------------------------------\u001b[0m",
      "\u001b[1;31mTypeError\u001b[0m                                 Traceback (most recent call last)",
      "Cell \u001b[1;32mIn[35], line 10\u001b[0m\n\u001b[0;32m      8\u001b[0m infomax \u001b[38;5;241m=\u001b[39m infomax\u001b[38;5;241m.\u001b[39mfillna(\u001b[38;5;124m\"\u001b[39m\u001b[38;5;124m\"\u001b[39m, inplace \u001b[38;5;241m=\u001b[39m \u001b[38;5;28;01mTrue\u001b[39;00m)\n\u001b[0;32m      9\u001b[0m \u001b[38;5;28mprint\u001b[39m(\u001b[38;5;124m\"\u001b[39m\u001b[38;5;124m파일 불러오기 완료\u001b[39m\u001b[38;5;124m\"\u001b[39m)\n\u001b[1;32m---> 10\u001b[0m \u001b[38;5;28;01mfor\u001b[39;00m content \u001b[38;5;129;01min\u001b[39;00m \u001b[43minfomax\u001b[49m\u001b[43m[\u001b[49m\u001b[38;5;124;43m'\u001b[39;49m\u001b[38;5;124;43mcontent\u001b[39;49m\u001b[38;5;124;43m'\u001b[39;49m\u001b[43m]\u001b[49m:\n\u001b[0;32m     11\u001b[0m     sentences \u001b[38;5;241m=\u001b[39m []\n\u001b[0;32m     12\u001b[0m     \u001b[38;5;28;01mif\u001b[39;00m \u001b[38;5;28mlen\u001b[39m(content) :\n",
      "\u001b[1;31mTypeError\u001b[0m: 'NoneType' object is not subscriptable"
     ]
    }
   ],
   "source": [
    "# 전처리 끝난 파일을 사용하여 분리가 나쁘지 않게 되는 편\n",
    "csv_files = sorted([f for f in os.listdir(output_dir) if f.endswith(\".csv\")])\n",
    "for i in range(len(csv_files)):\n",
    "    print(f\"{i}번째: 😂\")\n",
    "    # 파일 불러오기\n",
    "    file_path = f'C:/Users/iq750/bootcamp_git/대용량 파일 관리/infomax_split/infomax_split_{i+1}.csv'\n",
    "    infomax = pd.read_csv(file_path)\n",
    "    infomax = infomax.fillna(\"\", inplace = True)\n",
    "    print(\"파일 불러오기 완료\")\n",
    "    for content in infomax['content']:\n",
    "        sentences = []\n",
    "        if len(content) :\n",
    "            sents = [s.text for s in kiwi.split_into_sents(clean(content))]\n",
    "            sentences.append(sents)\n",
    "        else :\n",
    "            sents = []\n",
    "        print(sentences)\n",
    "        sentences.append(sents)\n",
    "    print(\"문장 분리 완료\")\n",
    "\n",
    "    infomax['sentences'] = sentences\n",
    "\n",
    "    output_file = f'{output_dir}/infomax_sentences_{i+1}.csv'\n",
    "    infomax[['date','sentences']].to_csv(output_file, encoding='utf-8', index=False)\n",
    "    print(\"자료 저장 완료\")   "
   ]
  },
  {
   "cell_type": "code",
   "execution_count": 37,
   "metadata": {},
   "outputs": [
    {
     "name": "stdout",
     "output_type": "stream",
     "text": [
      "0번째: 😂\n",
      "파일 불러오기 완료\n",
      "문장 분리 완료\n",
      "자료 저장 완료\n",
      "1번째: 😂\n",
      "파일 불러오기 완료\n",
      "문장 분리 완료\n",
      "자료 저장 완료\n",
      "2번째: 😂\n",
      "파일 불러오기 완료\n",
      "문장 분리 완료\n",
      "자료 저장 완료\n",
      "3번째: 😂\n",
      "파일 불러오기 완료\n",
      "문장 분리 완료\n",
      "자료 저장 완료\n",
      "4번째: 😂\n",
      "파일 불러오기 완료\n",
      "문장 분리 완료\n",
      "자료 저장 완료\n",
      "5번째: 😂\n",
      "파일 불러오기 완료\n",
      "문장 분리 완료\n",
      "자료 저장 완료\n",
      "6번째: 😂\n",
      "파일 불러오기 완료\n",
      "문장 분리 완료\n",
      "자료 저장 완료\n"
     ]
    }
   ],
   "source": [
    "csv_files = sorted([f for f in os.listdir(output_dir) if f.endswith(\".csv\")])\n",
    "for i in range(len(csv_files)):\n",
    "    print(f\"{i}번째: 😂\")\n",
    "    \n",
    "    # 파일 불러오기\n",
    "    file_path = f'C:/Users/iq750/bootcamp_git/대용량 파일 관리/infomax_split/infomax_split_{i+1}.csv'\n",
    "    infomax = pd.read_csv(file_path)\n",
    "    \n",
    "    # 결측치 처리\n",
    "    infomax.fillna(\"\", inplace=True)\n",
    "    print(\"파일 불러오기 완료\")\n",
    "    \n",
    "    sentences = []  # sentences 리스트를 반복문 밖에서 초기화 (중복 방지)\n",
    "    \n",
    "    for content in infomax['content']:\n",
    "        # content가 None일 경우 빈 문자열로 대체\n",
    "        if content is None:\n",
    "            content = \"\"\n",
    "        \n",
    "        if len(content):\n",
    "            cleaned_content = clean(content)  # content를 clean 함수로 처리\n",
    "            # clean된 내용이 None일 경우 빈 문자열로 대체\n",
    "            if cleaned_content is None:\n",
    "                cleaned_content = \"\"\n",
    "            sents = [s.text for s in kiwi.split_into_sents(cleaned_content)]\n",
    "            sentences.append(sents)\n",
    "        else:\n",
    "            sentences.append([])  # 빈 리스트 추가\n",
    "    \n",
    "    print(\"문장 분리 완료\")\n",
    "    \n",
    "    # sentences 리스트를 데이터프레임에 추가\n",
    "    infomax['sentences'] = sentences\n",
    "\n",
    "    # 결과 저장\n",
    "    output_file = f'{output_dir}/infomax_sentences_{i+1}.csv'\n",
    "    infomax[['date', 'sentences']].to_csv(output_file, encoding='utf-8', index=False)\n",
    "    print(\"자료 저장 완료\")\n"
   ]
  },
  {
   "cell_type": "code",
   "execution_count": 18,
   "metadata": {},
   "outputs": [
    {
     "name": "stdout",
     "output_type": "stream",
     "text": [
      "10\n",
      "9\n",
      "8\n",
      "7\n",
      "6\n",
      "5\n",
      "4\n",
      "3\n",
      "2\n",
      "1\n",
      "발사\n"
     ]
    }
   ],
   "source": [
    "for i in range(10):\n",
    "    print(f\"{10-i}\")\n",
    "print('발사')"
   ]
  }
 ],
 "metadata": {
  "kernelspec": {
   "display_name": "nlp",
   "language": "python",
   "name": "python3"
  },
  "language_info": {
   "codemirror_mode": {
    "name": "ipython",
    "version": 3
   },
   "file_extension": ".py",
   "mimetype": "text/x-python",
   "name": "python",
   "nbconvert_exporter": "python",
   "pygments_lexer": "ipython3",
   "version": "3.9.21"
  }
 },
 "nbformat": 4,
 "nbformat_minor": 2
}
