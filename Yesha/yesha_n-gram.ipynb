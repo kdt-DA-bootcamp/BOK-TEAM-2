{
 "cells": [
  {
   "cell_type": "markdown",
   "metadata": {},
   "source": [
    "### 준비과정"
   ]
  },
  {
   "cell_type": "markdown",
   "metadata": {},
   "source": [
    "[N-gram 구현 코드](https://lovit.github.io/nlp/2018/10/23/ngram/)"
   ]
  },
  {
   "cell_type": "code",
   "execution_count": 2,
   "metadata": {},
   "outputs": [],
   "source": [
    "from sklearn.feature_extraction.text import CountVectorizer\n",
    "import pandas as pd\n",
    "from sklearn.naive_bayes import MultinomialNB\n",
    "from sklearn.model_selection import train_test_split\n",
    "from sklearn.metrics import accuracy_score\n",
    "import ast\n",
    "\n",
    "import matplotlib.pyplot as plt\n",
    "import seaborn as sns"
   ]
  },
  {
   "cell_type": "code",
   "execution_count": 13,
   "metadata": {},
   "outputs": [],
   "source": [
    "# CSV 파일 불러오기\n",
    "df = pd.read_csv(\"C:\\\\Users\\\\iq750\\\\bootcamp_git\\\\대용량 파일 관리\\\\merged_tokens.csv\")"
   ]
  },
  {
   "cell_type": "code",
   "execution_count": 19,
   "metadata": {},
   "outputs": [
    {
     "name": "stdout",
     "output_type": "stream",
     "text": [
      "Index(['date', 'tagged'], dtype='object')\n"
     ]
    }
   ],
   "source": [
    "print(df.columns)\n",
    "# 적용 완료: df = df.drop(columns= ['Unnamed: 0', 'token_count'])\n",
    "# print(df['token_count'])\n",
    "\n",
    "df.to_csv(\"C:\\\\Users\\\\iq750\\\\bootcamp_git\\\\대용량 파일 관리\\\\date_tagged.csv\", index=False)"
   ]
  },
  {
   "cell_type": "markdown",
   "metadata": {},
   "source": [
    "### n-그램 분석"
   ]
  },
  {
   "cell_type": "code",
   "execution_count": 4,
   "metadata": {},
   "outputs": [
    {
     "data": {
      "text/html": [
       "<div>\n",
       "<style scoped>\n",
       "    .dataframe tbody tr th:only-of-type {\n",
       "        vertical-align: middle;\n",
       "    }\n",
       "\n",
       "    .dataframe tbody tr th {\n",
       "        vertical-align: top;\n",
       "    }\n",
       "\n",
       "    .dataframe thead th {\n",
       "        text-align: right;\n",
       "    }\n",
       "</style>\n",
       "<table border=\"1\" class=\"dataframe\">\n",
       "  <thead>\n",
       "    <tr style=\"text-align: right;\">\n",
       "      <th></th>\n",
       "      <th>date</th>\n",
       "      <th>tagged</th>\n",
       "    </tr>\n",
       "  </thead>\n",
       "  <tbody>\n",
       "    <tr>\n",
       "      <th>0</th>\n",
       "      <td>2010-01-01</td>\n",
       "      <td>[('아이슬란드', 'NNG'), ('영국', 'NNG'), ('네덜란드', 'NN...</td>\n",
       "    </tr>\n",
       "    <tr>\n",
       "      <th>1</th>\n",
       "      <td>2010-01-03</td>\n",
       "      <td>[('한국은행', 'NNG'), ('금융통화위원회', 'NNG'), ('기준금리',...</td>\n",
       "    </tr>\n",
       "    <tr>\n",
       "      <th>2</th>\n",
       "      <td>2010-01-04</td>\n",
       "      <td>[('지난해', 'NNG'), ('가계', 'NNG'), ('대출', 'NNG'),...</td>\n",
       "    </tr>\n",
       "    <tr>\n",
       "      <th>3</th>\n",
       "      <td>2010-01-05</td>\n",
       "      <td>[('시중', 'NNG'), ('금리', 'NNG'), ('슬금슬금', 'MAG')...</td>\n",
       "    </tr>\n",
       "    <tr>\n",
       "      <th>4</th>\n",
       "      <td>2010-01-06</td>\n",
       "      <td>[('신용등급', 'NNG'), ('서민층', 'NNG'), ('가입', 'NNG'...</td>\n",
       "    </tr>\n",
       "    <tr>\n",
       "      <th>...</th>\n",
       "      <td>...</td>\n",
       "      <td>...</td>\n",
       "    </tr>\n",
       "    <tr>\n",
       "      <th>5336</th>\n",
       "      <td>2025-02-23</td>\n",
       "      <td>[('은행', 'NNG'), ('보험', 'NNG'), ('증권사', 'NNG'),...</td>\n",
       "    </tr>\n",
       "    <tr>\n",
       "      <th>5337</th>\n",
       "      <td>2025-02-24</td>\n",
       "      <td>[('사진', 'NNG'), ('뱅크', 'NNG'), ('자금', 'NNG'), ...</td>\n",
       "    </tr>\n",
       "    <tr>\n",
       "      <th>5338</th>\n",
       "      <td>2025-02-25</td>\n",
       "      <td>[('일비', 'NNG'), ('수도권', 'NNG'), ('최초', 'NNG'),...</td>\n",
       "    </tr>\n",
       "    <tr>\n",
       "      <th>5339</th>\n",
       "      <td>2025-02-26</td>\n",
       "      <td>[('마켓', 'NNG'), ('오후', 'NNG'), ('금융투자업계', 'NNG...</td>\n",
       "    </tr>\n",
       "    <tr>\n",
       "      <th>5340</th>\n",
       "      <td>2025-02-27</td>\n",
       "      <td>[('사진', 'NNG'), ('미국', 'NNG'), ('증시', 'NNG'), ...</td>\n",
       "    </tr>\n",
       "  </tbody>\n",
       "</table>\n",
       "<p>5341 rows × 2 columns</p>\n",
       "</div>"
      ],
      "text/plain": [
       "            date                                             tagged\n",
       "0     2010-01-01  [('아이슬란드', 'NNG'), ('영국', 'NNG'), ('네덜란드', 'NN...\n",
       "1     2010-01-03  [('한국은행', 'NNG'), ('금융통화위원회', 'NNG'), ('기준금리',...\n",
       "2     2010-01-04  [('지난해', 'NNG'), ('가계', 'NNG'), ('대출', 'NNG'),...\n",
       "3     2010-01-05  [('시중', 'NNG'), ('금리', 'NNG'), ('슬금슬금', 'MAG')...\n",
       "4     2010-01-06  [('신용등급', 'NNG'), ('서민층', 'NNG'), ('가입', 'NNG'...\n",
       "...          ...                                                ...\n",
       "5336  2025-02-23  [('은행', 'NNG'), ('보험', 'NNG'), ('증권사', 'NNG'),...\n",
       "5337  2025-02-24  [('사진', 'NNG'), ('뱅크', 'NNG'), ('자금', 'NNG'), ...\n",
       "5338  2025-02-25  [('일비', 'NNG'), ('수도권', 'NNG'), ('최초', 'NNG'),...\n",
       "5339  2025-02-26  [('마켓', 'NNG'), ('오후', 'NNG'), ('금융투자업계', 'NNG...\n",
       "5340  2025-02-27  [('사진', 'NNG'), ('미국', 'NNG'), ('증시', 'NNG'), ...\n",
       "\n",
       "[5341 rows x 2 columns]"
      ]
     },
     "execution_count": 4,
     "metadata": {},
     "output_type": "execute_result"
    }
   ],
   "source": [
    "# CSV 파일 불러오기\n",
    "df_tag = pd.read_csv(\"C:\\\\Users\\\\iq750\\\\bootcamp_git\\\\대용량 파일 관리\\\\date_tagged.csv\")\n",
    "df_tag"
   ]
  },
  {
   "cell_type": "code",
   "execution_count": 5,
   "metadata": {},
   "outputs": [],
   "source": [
    "df_tag.loc[df_tag['date'] == '2024-12-01', 'date'] # 1274 부터 5252까지만 사용할 것\n",
    "df_1424 = df_tag[1274:5252]"
   ]
  },
  {
   "cell_type": "code",
   "execution_count": 6,
   "metadata": {},
   "outputs": [
    {
     "data": {
      "text/html": [
       "<div>\n",
       "<style scoped>\n",
       "    .dataframe tbody tr th:only-of-type {\n",
       "        vertical-align: middle;\n",
       "    }\n",
       "\n",
       "    .dataframe tbody tr th {\n",
       "        vertical-align: top;\n",
       "    }\n",
       "\n",
       "    .dataframe thead th {\n",
       "        text-align: right;\n",
       "    }\n",
       "</style>\n",
       "<table border=\"1\" class=\"dataframe\">\n",
       "  <thead>\n",
       "    <tr style=\"text-align: right;\">\n",
       "      <th></th>\n",
       "      <th>date</th>\n",
       "      <th>tagged</th>\n",
       "    </tr>\n",
       "  </thead>\n",
       "  <tbody>\n",
       "    <tr>\n",
       "      <th>1274</th>\n",
       "      <td>2014-01-01</td>\n",
       "      <td>[('문젠', 'NNG'), ('경영', 'NNG'), ('신한', 'NNP'), ...</td>\n",
       "    </tr>\n",
       "    <tr>\n",
       "      <th>1275</th>\n",
       "      <td>2014-01-02</td>\n",
       "      <td>[('주요', 'NNG'), ('채권', 'NNG'), ('금리', 'NNG'), ...</td>\n",
       "    </tr>\n",
       "    <tr>\n",
       "      <th>1276</th>\n",
       "      <td>2014-01-03</td>\n",
       "      <td>[('외인', 'NNG'), ('변심', 'NNG'), ('무죄', 'NNG'), ...</td>\n",
       "    </tr>\n",
       "    <tr>\n",
       "      <th>1277</th>\n",
       "      <td>2014-01-04</td>\n",
       "      <td>[('버냉키', 'NNP'), ('美', 'NNG'), ('경제', 'NNG'), ...</td>\n",
       "    </tr>\n",
       "    <tr>\n",
       "      <th>1278</th>\n",
       "      <td>2014-01-05</td>\n",
       "      <td>[('환율', 'NNG'), ('공포', 'NNG'), ('피하', 'VV'), (...</td>\n",
       "    </tr>\n",
       "    <tr>\n",
       "      <th>...</th>\n",
       "      <td>...</td>\n",
       "      <td>...</td>\n",
       "    </tr>\n",
       "    <tr>\n",
       "      <th>5247</th>\n",
       "      <td>2024-11-26</td>\n",
       "      <td>[('글로벌', 'NNG'), ('유동성', 'NNG'), ('팽창', 'NNG')...</td>\n",
       "    </tr>\n",
       "    <tr>\n",
       "      <th>5248</th>\n",
       "      <td>2024-11-27</td>\n",
       "      <td>[('빨리', 'MAG'), ('털', 'VV'), ('싶', 'VX'), ('채권...</td>\n",
       "    </tr>\n",
       "    <tr>\n",
       "      <th>5249</th>\n",
       "      <td>2024-11-28</td>\n",
       "      <td>[('동', 'MM'), ('기관', 'NNG'), ('투자자', 'NNG'), (...</td>\n",
       "    </tr>\n",
       "    <tr>\n",
       "      <th>5250</th>\n",
       "      <td>2024-11-29</td>\n",
       "      <td>[('국내', 'NNG'), ('크레딧', 'NNG'), ('위험', 'NNG'),...</td>\n",
       "    </tr>\n",
       "    <tr>\n",
       "      <th>5251</th>\n",
       "      <td>2024-11-30</td>\n",
       "      <td>[('부양책', 'NNG'), ('여파', 'NNG'), ('中', 'NNG'), ...</td>\n",
       "    </tr>\n",
       "  </tbody>\n",
       "</table>\n",
       "<p>3978 rows × 2 columns</p>\n",
       "</div>"
      ],
      "text/plain": [
       "            date                                             tagged\n",
       "1274  2014-01-01  [('문젠', 'NNG'), ('경영', 'NNG'), ('신한', 'NNP'), ...\n",
       "1275  2014-01-02  [('주요', 'NNG'), ('채권', 'NNG'), ('금리', 'NNG'), ...\n",
       "1276  2014-01-03  [('외인', 'NNG'), ('변심', 'NNG'), ('무죄', 'NNG'), ...\n",
       "1277  2014-01-04  [('버냉키', 'NNP'), ('美', 'NNG'), ('경제', 'NNG'), ...\n",
       "1278  2014-01-05  [('환율', 'NNG'), ('공포', 'NNG'), ('피하', 'VV'), (...\n",
       "...          ...                                                ...\n",
       "5247  2024-11-26  [('글로벌', 'NNG'), ('유동성', 'NNG'), ('팽창', 'NNG')...\n",
       "5248  2024-11-27  [('빨리', 'MAG'), ('털', 'VV'), ('싶', 'VX'), ('채권...\n",
       "5249  2024-11-28  [('동', 'MM'), ('기관', 'NNG'), ('투자자', 'NNG'), (...\n",
       "5250  2024-11-29  [('국내', 'NNG'), ('크레딧', 'NNG'), ('위험', 'NNG'),...\n",
       "5251  2024-11-30  [('부양책', 'NNG'), ('여파', 'NNG'), ('中', 'NNG'), ...\n",
       "\n",
       "[3978 rows x 2 columns]"
      ]
     },
     "execution_count": 6,
     "metadata": {},
     "output_type": "execute_result"
    }
   ],
   "source": [
    "df_1424"
   ]
  },
  {
   "cell_type": "markdown",
   "metadata": {},
   "source": [
    "### N-gram 생성방법\n",
    "1. 논문에서 특정한 품사만 남긴다. ['NNG','VA','VAX','MAG','VV']\n",
    "    - 리스트로 만들면 시간이 오래 걸릴 것 같은데...\n",
    "2. 일자별 N-gram 링크 참조하여 sklearn 사용\n",
    "    - 반복문 쓸 수 있지만 너무 오래 걸릴 것 같다."
   ]
  },
  {
   "cell_type": "code",
   "execution_count": null,
   "metadata": {},
   "outputs": [
    {
     "name": "stderr",
     "output_type": "stream",
     "text": [
      "Exception ignored in: <bound method IPythonKernel._clean_thread_parent_frames of <ipykernel.ipkernel.IPythonKernel object at 0x000001F4A97EF070>>\n",
      "Traceback (most recent call last):\n",
      "  File \"c:\\Users\\iq750\\anaconda3\\envs\\nlp\\lib\\site-packages\\ipykernel\\ipkernel.py\", line 790, in _clean_thread_parent_frames\n",
      "    active_threads = {thread.ident for thread in threading.enumerate()}\n",
      "KeyboardInterrupt: \n"
     ]
    }
   ],
   "source": [
    "# 각 일자별 token list 를 만들자\n",
    "tagged = []\n",
    "for tags in df_1424['tagged'] : # Memory Error\n",
    "    print(tags)\n",
    "    parsed = ast.literal_eval(tags)\n",
    "    tagged.append(parsed)\n",
    "print(tagged[1])"
   ]
  },
  {
   "cell_type": "code",
   "execution_count": null,
   "metadata": {},
   "outputs": [],
   "source": [
    "for tags in tagged :\n",
    "    for tag in tags:\n",
    "        if tag in ['NNG','VA','VAX','MAG','VV'] :\n",
    "            "
   ]
  },
  {
   "cell_type": "code",
   "execution_count": 48,
   "metadata": {},
   "outputs": [
    {
     "ename": "KeyError",
     "evalue": "1",
     "output_type": "error",
     "traceback": [
      "\u001b[1;31m---------------------------------------------------------------------------\u001b[0m",
      "\u001b[1;31mKeyError\u001b[0m                                  Traceback (most recent call last)",
      "File \u001b[1;32mc:\\Users\\iq750\\anaconda3\\envs\\nlp\\lib\\site-packages\\pandas\\core\\indexes\\base.py:3805\u001b[0m, in \u001b[0;36mIndex.get_loc\u001b[1;34m(self, key)\u001b[0m\n\u001b[0;32m   3804\u001b[0m \u001b[38;5;28;01mtry\u001b[39;00m:\n\u001b[1;32m-> 3805\u001b[0m     \u001b[38;5;28;01mreturn\u001b[39;00m \u001b[38;5;28;43mself\u001b[39;49m\u001b[38;5;241;43m.\u001b[39;49m\u001b[43m_engine\u001b[49m\u001b[38;5;241;43m.\u001b[39;49m\u001b[43mget_loc\u001b[49m\u001b[43m(\u001b[49m\u001b[43mcasted_key\u001b[49m\u001b[43m)\u001b[49m\n\u001b[0;32m   3806\u001b[0m \u001b[38;5;28;01mexcept\u001b[39;00m \u001b[38;5;167;01mKeyError\u001b[39;00m \u001b[38;5;28;01mas\u001b[39;00m err:\n",
      "File \u001b[1;32mindex.pyx:167\u001b[0m, in \u001b[0;36mpandas._libs.index.IndexEngine.get_loc\u001b[1;34m()\u001b[0m\n",
      "File \u001b[1;32mindex.pyx:196\u001b[0m, in \u001b[0;36mpandas._libs.index.IndexEngine.get_loc\u001b[1;34m()\u001b[0m\n",
      "File \u001b[1;32mpandas\\\\_libs\\\\hashtable_class_helper.pxi:7081\u001b[0m, in \u001b[0;36mpandas._libs.hashtable.PyObjectHashTable.get_item\u001b[1;34m()\u001b[0m\n",
      "File \u001b[1;32mpandas\\\\_libs\\\\hashtable_class_helper.pxi:7089\u001b[0m, in \u001b[0;36mpandas._libs.hashtable.PyObjectHashTable.get_item\u001b[1;34m()\u001b[0m\n",
      "\u001b[1;31mKeyError\u001b[0m: 1",
      "\nThe above exception was the direct cause of the following exception:\n",
      "\u001b[1;31mKeyError\u001b[0m                                  Traceback (most recent call last)",
      "Cell \u001b[1;32mIn[48], line 2\u001b[0m\n\u001b[0;32m      1\u001b[0m vectorizer\u001b[38;5;241m=\u001b[39m CountVectorizer(ngram_range\u001b[38;5;241m=\u001b[39m(\u001b[38;5;241m5\u001b[39m,\u001b[38;5;241m5\u001b[39m))\n\u001b[1;32m----> 2\u001b[0m X\u001b[38;5;241m=\u001b[39mvectorizer\u001b[38;5;241m.\u001b[39mfit_transform(\u001b[43mdf\u001b[49m\u001b[43m[\u001b[49m\u001b[38;5;241;43m1\u001b[39;49m\u001b[43m]\u001b[49m)\n\u001b[0;32m      3\u001b[0m \u001b[38;5;28mprint\u001b[39m(\u001b[38;5;124m\"\u001b[39m\u001b[38;5;124m벡터크기:\u001b[39m\u001b[38;5;124m\"\u001b[39m, X\u001b[38;5;241m.\u001b[39mshape)\n",
      "File \u001b[1;32mc:\\Users\\iq750\\anaconda3\\envs\\nlp\\lib\\site-packages\\pandas\\core\\frame.py:4102\u001b[0m, in \u001b[0;36mDataFrame.__getitem__\u001b[1;34m(self, key)\u001b[0m\n\u001b[0;32m   4100\u001b[0m \u001b[38;5;28;01mif\u001b[39;00m \u001b[38;5;28mself\u001b[39m\u001b[38;5;241m.\u001b[39mcolumns\u001b[38;5;241m.\u001b[39mnlevels \u001b[38;5;241m>\u001b[39m \u001b[38;5;241m1\u001b[39m:\n\u001b[0;32m   4101\u001b[0m     \u001b[38;5;28;01mreturn\u001b[39;00m \u001b[38;5;28mself\u001b[39m\u001b[38;5;241m.\u001b[39m_getitem_multilevel(key)\n\u001b[1;32m-> 4102\u001b[0m indexer \u001b[38;5;241m=\u001b[39m \u001b[38;5;28;43mself\u001b[39;49m\u001b[38;5;241;43m.\u001b[39;49m\u001b[43mcolumns\u001b[49m\u001b[38;5;241;43m.\u001b[39;49m\u001b[43mget_loc\u001b[49m\u001b[43m(\u001b[49m\u001b[43mkey\u001b[49m\u001b[43m)\u001b[49m\n\u001b[0;32m   4103\u001b[0m \u001b[38;5;28;01mif\u001b[39;00m is_integer(indexer):\n\u001b[0;32m   4104\u001b[0m     indexer \u001b[38;5;241m=\u001b[39m [indexer]\n",
      "File \u001b[1;32mc:\\Users\\iq750\\anaconda3\\envs\\nlp\\lib\\site-packages\\pandas\\core\\indexes\\base.py:3812\u001b[0m, in \u001b[0;36mIndex.get_loc\u001b[1;34m(self, key)\u001b[0m\n\u001b[0;32m   3807\u001b[0m     \u001b[38;5;28;01mif\u001b[39;00m \u001b[38;5;28misinstance\u001b[39m(casted_key, \u001b[38;5;28mslice\u001b[39m) \u001b[38;5;129;01mor\u001b[39;00m (\n\u001b[0;32m   3808\u001b[0m         \u001b[38;5;28misinstance\u001b[39m(casted_key, abc\u001b[38;5;241m.\u001b[39mIterable)\n\u001b[0;32m   3809\u001b[0m         \u001b[38;5;129;01mand\u001b[39;00m \u001b[38;5;28many\u001b[39m(\u001b[38;5;28misinstance\u001b[39m(x, \u001b[38;5;28mslice\u001b[39m) \u001b[38;5;28;01mfor\u001b[39;00m x \u001b[38;5;129;01min\u001b[39;00m casted_key)\n\u001b[0;32m   3810\u001b[0m     ):\n\u001b[0;32m   3811\u001b[0m         \u001b[38;5;28;01mraise\u001b[39;00m InvalidIndexError(key)\n\u001b[1;32m-> 3812\u001b[0m     \u001b[38;5;28;01mraise\u001b[39;00m \u001b[38;5;167;01mKeyError\u001b[39;00m(key) \u001b[38;5;28;01mfrom\u001b[39;00m\u001b[38;5;250m \u001b[39m\u001b[38;5;21;01merr\u001b[39;00m\n\u001b[0;32m   3813\u001b[0m \u001b[38;5;28;01mexcept\u001b[39;00m \u001b[38;5;167;01mTypeError\u001b[39;00m:\n\u001b[0;32m   3814\u001b[0m     \u001b[38;5;66;03m# If we have a listlike key, _check_indexing_error will raise\u001b[39;00m\n\u001b[0;32m   3815\u001b[0m     \u001b[38;5;66;03m#  InvalidIndexError. Otherwise we fall through and re-raise\u001b[39;00m\n\u001b[0;32m   3816\u001b[0m     \u001b[38;5;66;03m#  the TypeError.\u001b[39;00m\n\u001b[0;32m   3817\u001b[0m     \u001b[38;5;28mself\u001b[39m\u001b[38;5;241m.\u001b[39m_check_indexing_error(key)\n",
      "\u001b[1;31mKeyError\u001b[0m: 1"
     ]
    }
   ],
   "source": [
    "vectorizer= CountVectorizer(ngram_range=(5,5))\n",
    "X=vectorizer.fit_transform(df[1])\n",
    "print(\"벡터크기:\", X.shape)"
   ]
  },
  {
   "cell_type": "markdown",
   "metadata": {},
   "source": [
    "### 시각화를 해볼까?\n"
   ]
  },
  {
   "cell_type": "code",
   "execution_count": 12,
   "metadata": {},
   "outputs": [],
   "source": [
    "#n-5그램 빈도계산\n",
    "gram=X.sum(axis=0)\n",
    "gram_feat=vectorizer.get_feature_names_out()"
   ]
  },
  {
   "cell_type": "code",
   "execution_count": 18,
   "metadata": {},
   "outputs": [],
   "source": [
    "gramfreq=pd.DataFrame(list(zip(gram_feat, gram)), columns=[\"ngram\", \"count\"])\n",
    "gramfreq=gramfreq.sort_values(by=\"count\",ascending=False).head(10)"
   ]
  },
  {
   "cell_type": "markdown",
   "metadata": {},
   "source": [
    "### 실패\n"
   ]
  },
  {
   "cell_type": "code",
   "execution_count": null,
   "metadata": {},
   "outputs": [],
   "source": []
  },
  {
   "cell_type": "code",
   "execution_count": null,
   "metadata": {},
   "outputs": [],
   "source": [
    "plt.figure(figsize=(10,6))\n",
    "sns.barplot(x=\"count\", y=\"ngram\", data=gramfreq, palette=\"viridis\")\n"
   ]
  }
 ],
 "metadata": {
  "kernelspec": {
   "display_name": "nlp",
   "language": "python",
   "name": "python3"
  },
  "language_info": {
   "codemirror_mode": {
    "name": "ipython",
    "version": 3
   },
   "file_extension": ".py",
   "mimetype": "text/x-python",
   "name": "python",
   "nbconvert_exporter": "python",
   "pygments_lexer": "ipython3",
   "version": "3.9.21"
  }
 },
 "nbformat": 4,
 "nbformat_minor": 2
}
