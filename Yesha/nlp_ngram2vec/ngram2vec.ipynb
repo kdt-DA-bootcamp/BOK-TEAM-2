{
  "cells": [
    {
      "cell_type": "markdown",
      "metadata": {
        "id": "yZik-wgdcHos"
      },
      "source": [
        "# Ngram2Vec 실행 코드 정리\n",
        "* ngram2vec의 목적: 이를 바탕으로 한 감성사전 만들기!!!\n",
        "\n",
        "## 1. 기사에 대한 라벨링\n",
        "    1-1. 토큰화한 기사 파일\n",
        "    1-2. 품사 정리"
      ]
    },
    {
      "cell_type": "code",
      "execution_count": null,
      "metadata": {
        "collapsed": true,
        "id": "dHjZVQz0gKU9"
      },
      "outputs": [],
      "source": [
        "# 1. 토큰화한 기사 파일 가져오기 (test용 chunck 1만)\n",
        "import pandas as pd\n",
        "import ast\n",
        "from tqdm import tqdm\n",
        "tqdm.pandas()\n",
        "test = pd.read_csv(r'/content/drive/MyDrive/BOK-TEAM-2/데이터 전처리/이데일리/토큰자료/chunk_1.csv')\n",
        "test['stopwords'] = test['stopwords'].apply(lambda x: ast.literal_eval(x))\n",
        "# 2. 품사 정리해서 리스트 새로 만들기\n",
        "ALLOWED_TAGS = {'NNG', 'VA', 'VAX', 'MAG', 'negations'}\n",
        "test['stopwords'] = test['stopwords'].apply(lambda x: [word for word in x if word[1] in ALLOWED_TAGS])\n",
        "test.head()\n",
        "# 5000개에 13초 정도\n",
        "\n",
        "def processChunk(chunk_num):\n",
        "    chunk = pd.read_csv(f'/content/drive/MyDrive/BOK-TEAM-2/데이터 전처리/이데일리/토큰자료/chunk_{chunk_num}.csv')\n",
        "    chunk['stopwords'] = chunk['stopwords'].apply(lambda x: ast.literal_eval(x))\n",
        "    return chunk\n",
        "\n",
        "def processChunckHK(chunk_num):\n",
        "    chunk = pd.read_csv()\n",
        "    chunk['tagged'] = chunk['tagged'].apply(lambda x: ast.literal_eval(x))\n",
        "    chunk['tagged'] = chunk['tagged'].apply(lambda x: [word for word in x if word[1] in ALLOWED_TAGS])\n",
        "    return chunk\n"
      ]
    },
    {
      "cell_type": "markdown",
      "metadata": {
        "id": "-IPpGm03f15O"
      },
      "source": [
        "## 2. ngram 데이터 준비\n",
        "    2-1. 각 text에 대한 n-gram 추출 (1~5 gram)"
      ]
    },
    {
      "cell_type": "code",
      "execution_count": null,
      "metadata": {
        "colab": {
          "base_uri": "https://localhost:8080/"
        },
        "id": "izGp-nBuiKUh",
        "outputId": "bd65559e-ae1a-4031-e7f8-c686c25aa270"
      },
      "outputs": [
        {
          "output_type": "stream",
          "name": "stderr",
          "text": [
            "100%|██████████| 5000/5000 [00:01<00:00, 2913.37it/s]\n"
          ]
        }
      ],
      "source": [
        "from collections import Counter\n",
        "from tqdm import tqdm\n",
        "\n",
        "def generate_ngrams(token_list, max_n=5):\n",
        "    words = [token[0] for token in token_list]\n",
        "    ngram_counter = Counter()\n",
        "    for n in range(1, max_n + 1):\n",
        "        ngrams = [tuple(words[i:i+n]) for i in range(len(words) - n + 1)]\n",
        "        ngram_counter.update(ngrams)\n",
        "    return ngram_counter\n",
        "\n",
        "ngram_total = [generate_ngrams(text) for text in tqdm(test['stopwords'])]\n",
        "\n",
        "# 5000개 2초"
      ]
    },
    {
      "cell_type": "markdown",
      "metadata": {
        "id": "xqa3kFnmf9HR"
      },
      "source": [
        "## 3. N-gram 데이터를 통해 Word2Vec 데이터 학습 모델 형성\n",
        "    3-1. 메모리를 잡아먹지 않도록 하나씩 문서를 처리하고 다음 문서를 불러옴\n",
        "    3-2. 위의 N-gram과 합쳐서 코드 적어야 함\n",
        "    3-3. 금리 상승 / 하락의 데이터 비율을 맞추어야 하지 않을까? (반반)\n",
        "    3-4. 우선 벡터화가 목적이므로 **test set는 필요 없는가?**\n",
        "    3-5. 분류 모델을 만들 때 (lexicon 형성 작업) 에서는 train , test가 필요한 것 아닌가? **-> 미리 라벨링 해 두어야 하나?**"
      ]
    },
    {
      "cell_type": "markdown",
      "source": [
        "### 이데일리 파일을 활용한 모델 학습\n",
        "* 무조건 처음에 해야 함. 모델 초기화 해야 하기 때문에"
      ],
      "metadata": {
        "id": "xqxxQpCMldZC"
      }
    },
    {
      "cell_type": "code",
      "source": [
        "import pandas as pd\n",
        "from tqdm import tqdm\n",
        "import ast\n",
        "from gensim.models import Word2Vec , KeyedVectors\n",
        "ALLOWED_TAGS = {'NNG', 'VA', 'VAX', 'MAG', 'negations'}\n",
        "\n",
        "# n-gram 생성 함수\n",
        "def generate_ngrams(token_list, max_n=5):\n",
        "    words = [token[0] for token in token_list]  # 단어 리스트 추출\n",
        "    ngram_list = []  # n-gram을 저장할 리스트\n",
        "    for n in range(1, max_n + 1):  # 1-gram부터 max_n-gram까지\n",
        "        ngrams = [' '.join(words[i:i+n]) for i in range(len(words) - n + 1)]  # n-gram을 문자열로 변환\n",
        "        ngram_list.extend(ngrams)  # n-gram 리스트에 추가\n",
        "    return ngram_list\n",
        "\n",
        "# Word2Vec 모델 초기화\n",
        "model = Word2Vec(vector_size=300,\n",
        "                 window=5,\n",
        "                 sg=1,\n",
        "                 negative=5,\n",
        "                 min_count= 5, # 모델 초기화할 때 다시 한 번 체크\n",
        "                 # min_count 너무 작으면 RAM문제 생기는 듯, 따라서 빈도수 5 이하는 우선 버리고 진행한 뒤, 이후에 15개 이하인 vector를 다시 제거한다.\n",
        "                 alpha=0.01,\n",
        "                 min_alpha=0.0001, workers=3, epochs=10)\n",
        "                # 해결법 1. worker 수 줄여 봄\n",
        "                # 해결법 2. vector 수 조금 줄여봄\n",
        "                # 해결법 3. 안 되면 min_count를 5로 해 두었다가, 나중에 15 이하 제거하는 것도 방법\n",
        "\n",
        "# CSV 파일 처리 함수 (각 chunk를 읽고 n-gram 리스트로 변환)\n",
        "def processChunk(chunk_num):\n",
        "    chunk = pd.read_csv(f'/content/drive/MyDrive/BOK-TEAM-2/데이터 전처리/이데일리/토큰자료/chunk_{chunk_num}.csv')\n",
        "    chunk['stopwords'] = chunk['stopwords'].apply(lambda x: ast.literal_eval(x))\n",
        "    chunk['stopwords'] = chunk['stopwords'].apply(lambda x: [word for word in x if word[1] in ALLOWED_TAGS])\n",
        "    return chunk\n",
        "\n",
        "# 첫 번째 CSV 파일에서 vocab 구축\n",
        "first_chunk = processChunk(1)  # 첫 번째 CSV 파일 읽기\n",
        "first_ngrams = []\n",
        "\n",
        "# 첫 번째 CSV에서 n-gram 생성\n",
        "for text in first_chunk['stopwords']:\n",
        "    first_ngrams.extend(generate_ngrams(text))\n",
        "\n",
        "# 모델에 vocab을 먼저 구축 (여기서 한번만 호출)\n",
        "model.build_vocab([first_ngrams], update=False)\n",
        "\n",
        "# 첫 번째 문서를 기준으로 학습 (초기 vocab 기반)\n",
        "model.train([first_ngrams], total_examples=1, epochs=model.epochs, compute_loss=True)\n",
        "\n",
        "# 문서별로 n-gram을 생성하고 모델에 추가 (반복문 최적화)\n",
        "for chunk_num in tqdm(range(2,22)):  # 2번부터 21번까지 처리\n",
        "    df = processChunk(chunk_num)  # 각 chunk 파일 읽기\n",
        "    chunk_ngrams = []\n",
        "\n",
        "    # 각 문서별로 n-gram을 생성\n",
        "    for text in df['stopwords']:\n",
        "        chunk_ngrams.extend(generate_ngrams(text))\n",
        "\n",
        "\n",
        "    # 모델에 n-gram을 추가하고 학습 (한 번에 n-gram을 추가하고 학습)\n",
        "    model.build_vocab([chunk_ngrams], update=True)\n",
        "    model.train([chunk_ngrams], total_examples=1, epochs=model.epochs, compute_loss=True)\n",
        "    # csv 파일 하나의 모든 ngram을 넣은 형태라서, totla_examples의 수가 1이 맞음\n",
        "    # 그리고 어휘를 구분하여 벡터화 하는 우리의 목적에 따라, 굳이 문장, 텍스트 단위로 나누지 않아도 될 것 같음\n",
        "\n",
        "    # total examples 수가 잘못된 것 같아서 수정 / 메모리 문제 없는지 확인하여 돌려볼 것\n",
        "    # batch_size = 10000 # 한 번에 학습할 n-gram 개수\n",
        "    # # epochs = 5  # 에포크 줄이기\n",
        "    # for i in range(0, len(chunk_ngrams), batch_size):\n",
        "    #     batch = chunk_ngrams[i:i+batch_size]  # 일부 데이터 선택\n",
        "    #     model.train(batch, total_examples=len(batch), epochs=model.ephochs, compute_loss=True)\n",
        "\n",
        "# 학습된 모델 저장\n",
        "model.save(\"ngram2vec.model\")"
      ],
      "metadata": {
        "colab": {
          "base_uri": "https://localhost:8080/"
        },
        "collapsed": true,
        "id": "IJni6LSurkkR",
        "outputId": "7900a404-1364-4356-ac87-c07c1aab10a4"
      },
      "execution_count": null,
      "outputs": [
        {
          "output_type": "stream",
          "name": "stderr",
          "text": [
            "  0%|          | 0/20 [00:00<?, ?it/s]WARNING:gensim.models.word2vec:Effective 'alpha' higher than previous training cycles\n",
            "  5%|▌         | 1/20 [00:27<08:35, 27.11s/it]WARNING:gensim.models.word2vec:Effective 'alpha' higher than previous training cycles\n",
            " 10%|█         | 2/20 [00:56<08:35, 28.63s/it]WARNING:gensim.models.word2vec:Effective 'alpha' higher than previous training cycles\n",
            " 15%|█▌        | 3/20 [01:27<08:23, 29.60s/it]WARNING:gensim.models.word2vec:Effective 'alpha' higher than previous training cycles\n",
            " 20%|██        | 4/20 [01:58<08:01, 30.12s/it]WARNING:gensim.models.word2vec:Effective 'alpha' higher than previous training cycles\n",
            " 25%|██▌       | 5/20 [02:27<07:25, 29.72s/it]WARNING:gensim.models.word2vec:Effective 'alpha' higher than previous training cycles\n",
            " 30%|███       | 6/20 [03:00<07:12, 30.90s/it]WARNING:gensim.models.word2vec:Effective 'alpha' higher than previous training cycles\n",
            " 35%|███▌      | 7/20 [03:39<07:15, 33.52s/it]WARNING:gensim.models.word2vec:Effective 'alpha' higher than previous training cycles\n",
            " 40%|████      | 8/20 [04:16<06:54, 34.55s/it]WARNING:gensim.models.word2vec:Effective 'alpha' higher than previous training cycles\n",
            " 45%|████▌     | 9/20 [04:54<06:33, 35.81s/it]WARNING:gensim.models.word2vec:Effective 'alpha' higher than previous training cycles\n",
            " 50%|█████     | 10/20 [05:40<06:27, 38.72s/it]WARNING:gensim.models.word2vec:Effective 'alpha' higher than previous training cycles\n",
            " 55%|█████▌    | 11/20 [06:28<06:13, 41.53s/it]WARNING:gensim.models.word2vec:Effective 'alpha' higher than previous training cycles\n",
            " 60%|██████    | 12/20 [07:12<05:39, 42.49s/it]WARNING:gensim.models.word2vec:Effective 'alpha' higher than previous training cycles\n",
            " 65%|██████▌   | 13/20 [07:58<05:03, 43.40s/it]WARNING:gensim.models.word2vec:Effective 'alpha' higher than previous training cycles\n",
            " 70%|███████   | 14/20 [08:43<04:23, 44.00s/it]WARNING:gensim.models.word2vec:Effective 'alpha' higher than previous training cycles\n",
            " 75%|███████▌  | 15/20 [09:26<03:37, 43.56s/it]WARNING:gensim.models.word2vec:Effective 'alpha' higher than previous training cycles\n",
            " 80%|████████  | 16/20 [10:07<02:51, 42.75s/it]WARNING:gensim.models.word2vec:Effective 'alpha' higher than previous training cycles\n",
            " 85%|████████▌ | 17/20 [10:47<02:06, 42.16s/it]WARNING:gensim.models.word2vec:Effective 'alpha' higher than previous training cycles\n",
            " 90%|█████████ | 18/20 [11:30<01:24, 42.28s/it]WARNING:gensim.models.word2vec:Effective 'alpha' higher than previous training cycles\n",
            " 95%|█████████▌| 19/20 [12:13<00:42, 42.43s/it]WARNING:gensim.models.word2vec:Effective 'alpha' higher than previous training cycles\n",
            "100%|██████████| 20/20 [12:26<00:00, 37.34s/it]\n"
          ]
        }
      ]
    },
    {
      "cell_type": "markdown",
      "source": [
        "* 우선, 알파값이 예상보다 높다는 얘기일 뿐, 학습 자체가 중단되지 않으므로 그대로 지속해 볼 것\n",
        "* 다양한 자료를 통해서 먼저 모델을 학습시켜볼 것\n",
        "* 시각화 자료가 이상하다 싶으면 자료의 비율을 다시 조정해 보는 것이 좋을 것 같음"
      ],
      "metadata": {
        "id": "arXn3bUIjRzD"
      }
    },
    {
      "cell_type": "markdown",
      "source": [
        "### 한경 파일을 통한 학습 코드\n"
      ],
      "metadata": {
        "id": "dep8Fj9lkwWq"
      }
    },
    {
      "cell_type": "code",
      "source": [
        "\n",
        "# 토큰자료를 5000개씩 나누어 처리할 문서 만들기\n",
        "import pandas as pd\n",
        "import os\n",
        "\n",
        "file_path = r'/content/drive/MyDrive/BOK-TEAM-2/데이터 전처리/한국경제/hk_results_real.csv'\n",
        "\n",
        "# 디렉터리 생성\n",
        "output_dir = r'/content/drive/MyDrive/BOK-TEAM-2/데이터 전처리/한국경제/토큰자료'\n",
        "os.makedirs(output_dir, exist_ok=True)\n",
        "\n",
        "# 파일을 일정 크기로 나누어 저장\n",
        "chunck_size = 5000\n",
        "chunk_count = 0\n",
        "\n",
        "for chunk in pd.read_csv(file_path, chunksize=chunck_size):\n",
        "    chunk_count += 1\n",
        "    output_file = os.path.join(output_dir, f'chunk_{chunk_count}.csv')\n",
        "    chunk.to_csv(output_file, index=False, encoding = 'utf-8-sig')\n",
        "    print(f'{chunk_count} 저장 완료')\n"
      ],
      "metadata": {
        "id": "0D6QpD87avvE",
        "colab": {
          "base_uri": "https://localhost:8080/"
        },
        "outputId": "04f056ce-93c4-4882-949f-fa3879a117a0"
      },
      "execution_count": null,
      "outputs": [
        {
          "output_type": "stream",
          "name": "stdout",
          "text": [
            "1 저장 완료\n",
            "2 저장 완료\n",
            "3 저장 완료\n",
            "4 저장 완료\n",
            "5 저장 완료\n",
            "6 저장 완료\n",
            "7 저장 완료\n",
            "8 저장 완료\n",
            "9 저장 완료\n",
            "10 저장 완료\n",
            "11 저장 완료\n",
            "12 저장 완료\n",
            "13 저장 완료\n",
            "14 저장 완료\n",
            "15 저장 완료\n"
          ]
        }
      ]
    },
    {
      "cell_type": "code",
      "source": [
        "import pandas as pd\n",
        "from tqdm import tqdm\n",
        "import ast\n",
        "from gensim.models import Word2Vec\n",
        "\n",
        "\n",
        "# n-gram 생성 함수\n",
        "def generate_ngrams(token_list, max_n=5):\n",
        "    words = [token[0] for token in token_list]  # 단어 리스트 추출\n",
        "    ngram_list = []  # n-gram을 저장할 리스트\n",
        "    for n in range(1, max_n + 1):  # 1-gram부터 max_n-gram까지\n",
        "        ngrams = [' '.join(words[i:i+n]) for i in range(len(words) - n + 1)]  # n-gram을 문자열로 변환\n",
        "        ngram_list.extend(ngrams)  # n-gram 리스트에 추가\n",
        "    return ngram_list\n",
        "\n",
        "# 기존 모델 불러오기\n",
        "model = Word2Vec.load(\"ngram2vec.model\")\n",
        "\n",
        "# CSV 파일 처리 함수 (각 chunk를 읽고 n-gram 리스트로 변환)\n",
        "def processChunkHK(chunk_num):\n",
        "    chunk = pd.read_csv(f'/content/drive/MyDrive/BOK-TEAM-2/데이터 전처리/한국경제/토큰자료/chunk_{chunk_num}.csv')\n",
        "    chunk['tagged'] = chunk['tagged'].apply(lambda x: ast.literal_eval(x))\n",
        "    chunk['tagged'] = chunk['tagged'].apply(lambda x: [word for word in x if word[1] in ALLOWED_TAGS])\n",
        "    return chunk\n",
        "\n",
        "# 문서별로 n-gram을 생성하고 모델에 추가 (반복문 최적화)\n",
        "for chunk_num in tqdm(range(1,16)):  # 2번부터 15번까지 처리\n",
        "    df = processChunkHK(chunk_num)  # 각 chunk 파일 읽기\n",
        "    chunk_ngrams = []\n",
        "\n",
        "    # 각 문서별로 n-gram을 생성\n",
        "    for text in df['tagged']:\n",
        "        chunk_ngrams.extend(generate_ngrams(text))\n",
        "\n",
        "    # 모델에 n-gram을 추가하고 학습 (한 번에 n-gram을 추가하고 학습)\n",
        "    model.build_vocab([chunk_ngrams], update=True)\n",
        "    model.train([chunk_ngrams], total_examples=1, epochs=model.epochs, compute_loss=True)\n",
        "\n",
        "# 학습된 모델 저장\n",
        "model.save(\"ngram2vec.model\")\n"
      ],
      "metadata": {
        "id": "Ghx209IsaQUE",
        "colab": {
          "base_uri": "https://localhost:8080/"
        },
        "outputId": "7dc7a0b3-5dbb-4846-dade-1562d43a910e"
      },
      "execution_count": null,
      "outputs": [
        {
          "output_type": "stream",
          "name": "stderr",
          "text": [
            "  0%|          | 0/15 [00:00<?, ?it/s]WARNING:gensim.models.word2vec:Effective 'alpha' higher than previous training cycles\n",
            "  7%|▋         | 1/15 [00:26<06:06, 26.15s/it]WARNING:gensim.models.word2vec:Effective 'alpha' higher than previous training cycles\n",
            " 13%|█▎        | 2/15 [01:02<06:58, 32.19s/it]WARNING:gensim.models.word2vec:Effective 'alpha' higher than previous training cycles\n",
            " 20%|██        | 3/15 [01:45<07:23, 36.99s/it]WARNING:gensim.models.word2vec:Effective 'alpha' higher than previous training cycles\n",
            " 27%|██▋       | 4/15 [02:21<06:44, 36.80s/it]WARNING:gensim.models.word2vec:Effective 'alpha' higher than previous training cycles\n",
            " 33%|███▎      | 5/15 [02:59<06:11, 37.18s/it]WARNING:gensim.models.word2vec:Effective 'alpha' higher than previous training cycles\n",
            " 40%|████      | 6/15 [03:37<05:37, 37.45s/it]WARNING:gensim.models.word2vec:Effective 'alpha' higher than previous training cycles\n",
            " 47%|████▋     | 7/15 [04:13<04:55, 36.95s/it]WARNING:gensim.models.word2vec:Effective 'alpha' higher than previous training cycles\n",
            " 53%|█████▎    | 8/15 [04:44<04:05, 35.09s/it]WARNING:gensim.models.word2vec:Effective 'alpha' higher than previous training cycles\n",
            " 60%|██████    | 9/15 [05:14<03:20, 33.38s/it]WARNING:gensim.models.word2vec:Effective 'alpha' higher than previous training cycles\n",
            " 67%|██████▋   | 10/15 [05:44<02:42, 32.41s/it]WARNING:gensim.models.word2vec:Effective 'alpha' higher than previous training cycles\n",
            " 73%|███████▎  | 11/15 [06:14<02:06, 31.58s/it]WARNING:gensim.models.word2vec:Effective 'alpha' higher than previous training cycles\n",
            " 80%|████████  | 12/15 [06:44<01:33, 31.29s/it]WARNING:gensim.models.word2vec:Effective 'alpha' higher than previous training cycles\n",
            " 87%|████████▋ | 13/15 [07:15<01:02, 31.11s/it]WARNING:gensim.models.word2vec:Effective 'alpha' higher than previous training cycles\n",
            " 93%|█████████▎| 14/15 [07:42<00:29, 29.86s/it]WARNING:gensim.models.word2vec:Effective 'alpha' higher than previous training cycles\n",
            "100%|██████████| 15/15 [08:06<00:00, 32.43s/it]\n"
          ]
        }
      ]
    },
    {
      "cell_type": "markdown",
      "source": [
        "### 인포맥스 파일을 통한 학습 코드\n"
      ],
      "metadata": {
        "id": "lm2dTrOxlAJT"
      }
    },
    {
      "cell_type": "code",
      "source": [
        "\n",
        "# 토큰자료를 5000개씩 나누어 처리할 문서 만들기\n",
        "import pandas as pd\n",
        "import os\n",
        "\n",
        "file_path = r'/content/drive/MyDrive/BOK-TEAM-2/데이터 전처리/인포맥스/infomax_processed.csv'\n",
        "\n",
        "# 디렉터리 생성\n",
        "output_dir = r'/content/drive/MyDrive/BOK-TEAM-2/데이터 전처리/인포맥스/토큰자료'\n",
        "os.makedirs(output_dir, exist_ok=True)\n",
        "\n",
        "# 파일을 일정 크기로 나누어 저장\n",
        "chunck_size = 5000\n",
        "chunk_count = 0\n",
        "\n",
        "for chunk in pd.read_csv(file_path, chunksize=chunck_size):\n",
        "    chunk_count += 1\n",
        "    output_file = os.path.join(output_dir, f'chunk_{chunk_count}.csv')\n",
        "    chunk.to_csv(output_file, index=False, encoding = 'utf-8-sig')\n",
        "    print(f'{chunk_count} 저장 완료')\n"
      ],
      "metadata": {
        "id": "Ny0MGFFXlAJT",
        "colab": {
          "base_uri": "https://localhost:8080/"
        },
        "outputId": "51d9f413-5d53-469f-905c-8c149f625c15"
      },
      "execution_count": null,
      "outputs": [
        {
          "output_type": "stream",
          "name": "stdout",
          "text": [
            "1 저장 완료\n",
            "2 저장 완료\n",
            "3 저장 완료\n",
            "4 저장 완료\n",
            "5 저장 완료\n",
            "6 저장 완료\n",
            "7 저장 완료\n",
            "8 저장 완료\n",
            "9 저장 완료\n",
            "10 저장 완료\n",
            "11 저장 완료\n",
            "12 저장 완료\n",
            "13 저장 완료\n",
            "14 저장 완료\n",
            "15 저장 완료\n",
            "16 저장 완료\n"
          ]
        }
      ]
    },
    {
      "cell_type": "code",
      "source": [
        "import pandas as pd\n",
        "from tqdm import tqdm\n",
        "import ast\n",
        "from gensim.models import Word2Vec\n",
        "\n",
        "\n",
        "# n-gram 생성 함수\n",
        "def generate_ngrams(token_list, max_n=5):\n",
        "    words = [token[0] for token in token_list]  # 단어 리스트 추출\n",
        "    ngram_list = []  # n-gram을 저장할 리스트\n",
        "    for n in range(1, max_n + 1):  # 1-gram부터 max_n-gram까지\n",
        "        ngrams = [' '.join(words[i:i+n]) for i in range(len(words) - n + 1)]  # n-gram을 문자열로 변환\n",
        "        ngram_list.extend(ngrams)  # n-gram 리스트에 추가\n",
        "    return ngram_list\n",
        "\n",
        "# 기존 모델 불러오기\n",
        "model = Word2Vec.load(\"ngram2vec.model\")\n",
        "\n",
        "# CSV 파일 처리 함수 (각 chunk를 읽고 n-gram 리스트로 변환)\n",
        "def processChunkHK(chunk_num):\n",
        "    chunk = pd.read_csv(f'/content/drive/MyDrive/BOK-TEAM-2/데이터 전처리/인포맥스/토큰자료/chunk_{chunk_num}.csv')\n",
        "    chunk['tagged'] = chunk['tagged'].apply(lambda x: ast.literal_eval(x))\n",
        "    chunk['tagged'] = chunk['tagged'].apply(lambda x: [word for word in x if word[1] in ALLOWED_TAGS])\n",
        "    return chunk\n",
        "\n",
        "# 문서별로 n-gram을 생성하고 모델에 추가 (반복문 최적화)\n",
        "for chunk_num in tqdm(range(1,17)):  # 갯수 확인\n",
        "    df = processChunkHK(chunk_num)  # 각 chunk 파일 읽기\n",
        "    chunk_ngrams = []\n",
        "\n",
        "    # 각 문서별로 n-gram을 생성\n",
        "    for text in df['tagged']:\n",
        "        chunk_ngrams.extend(generate_ngrams(text))\n",
        "\n",
        "    # 모델에 n-gram을 추가하고 학습 (한 번에 n-gram을 추가하고 학습)\n",
        "    model.build_vocab([chunk_ngrams], update=True)\n",
        "    model.train([chunk_ngrams], total_examples=1, epochs=model.epochs, compute_loss=True)\n",
        "\n",
        "# 학습된 모델 저장\n",
        "model.save(\"ngram2vec.model\")\n"
      ],
      "metadata": {
        "id": "Q0G6DDTrlAJU",
        "colab": {
          "base_uri": "https://localhost:8080/"
        },
        "outputId": "15035356-80a1-4de7-8085-031be7a243b8"
      },
      "execution_count": null,
      "outputs": [
        {
          "output_type": "stream",
          "name": "stderr",
          "text": [
            "  0%|          | 0/16 [00:00<?, ?it/s]WARNING:gensim.models.word2vec:Effective 'alpha' higher than previous training cycles\n",
            "  6%|▋         | 1/16 [00:30<07:39, 30.65s/it]WARNING:gensim.models.word2vec:Effective 'alpha' higher than previous training cycles\n",
            " 12%|█▎        | 2/16 [01:07<07:56, 34.06s/it]WARNING:gensim.models.word2vec:Effective 'alpha' higher than previous training cycles\n",
            " 19%|█▉        | 3/16 [01:38<07:09, 33.02s/it]WARNING:gensim.models.word2vec:Effective 'alpha' higher than previous training cycles\n",
            " 25%|██▌       | 4/16 [02:09<06:24, 32.05s/it]WARNING:gensim.models.word2vec:Effective 'alpha' higher than previous training cycles\n",
            " 31%|███▏      | 5/16 [02:40<05:48, 31.72s/it]WARNING:gensim.models.word2vec:Effective 'alpha' higher than previous training cycles\n",
            " 38%|███▊      | 6/16 [03:11<05:13, 31.30s/it]WARNING:gensim.models.word2vec:Effective 'alpha' higher than previous training cycles\n",
            " 44%|████▍     | 7/16 [03:40<04:37, 30.82s/it]WARNING:gensim.models.word2vec:Effective 'alpha' higher than previous training cycles\n",
            " 50%|█████     | 8/16 [04:13<04:10, 31.32s/it]WARNING:gensim.models.word2vec:Effective 'alpha' higher than previous training cycles\n",
            " 56%|█████▋    | 9/16 [04:45<03:41, 31.59s/it]WARNING:gensim.models.word2vec:Effective 'alpha' higher than previous training cycles\n",
            " 62%|██████▎   | 10/16 [05:20<03:16, 32.73s/it]WARNING:gensim.models.word2vec:Effective 'alpha' higher than previous training cycles\n",
            " 69%|██████▉   | 11/16 [05:58<02:51, 34.36s/it]WARNING:gensim.models.word2vec:Effective 'alpha' higher than previous training cycles\n",
            " 75%|███████▌  | 12/16 [06:34<02:19, 34.77s/it]WARNING:gensim.models.word2vec:Effective 'alpha' higher than previous training cycles\n",
            " 81%|████████▏ | 13/16 [07:12<01:47, 35.78s/it]WARNING:gensim.models.word2vec:Effective 'alpha' higher than previous training cycles\n",
            " 88%|████████▊ | 14/16 [07:48<01:11, 35.76s/it]WARNING:gensim.models.word2vec:Effective 'alpha' higher than previous training cycles\n",
            " 94%|█████████▍| 15/16 [08:25<00:36, 36.12s/it]WARNING:gensim.models.word2vec:Effective 'alpha' higher than previous training cycles\n",
            "100%|██████████| 16/16 [09:03<00:00, 33.96s/it]\n"
          ]
        }
      ]
    },
    {
      "cell_type": "markdown",
      "source": [
        "### 금통위 의사록을 통한 학습 코드\n"
      ],
      "metadata": {
        "id": "-j613JGNt9OE"
      }
    },
    {
      "cell_type": "code",
      "source": [
        "# 토큰자료를 5000개씩 나누어 처리할 문서 만들기\n",
        "\"\"\"\n",
        "import pandas as pd\n",
        "import os\n",
        "\n",
        "file_path = r'/content/drive/MyDrive/BOK-TEAM-2/데이터 전처리/인포맥스/infomax_processed.csv'\n",
        "\n",
        "# 디렉터리 생성\n",
        "output_dir = r'/content/drive/MyDrive/BOK-TEAM-2/데이터 전처리/인포맥스/토큰자료'\n",
        "os.makedirs(output_dir, exist_ok=True)\n",
        "\n",
        "# 파일을 일정 크기로 나누어 저장\n",
        "chunck_size = 5000\n",
        "chunk_count = 0\n",
        "\n",
        "for chunk in pd.read_csv(file_path, chunksize=chunck_size):\n",
        "    chunk_count += 1\n",
        "    output_file = os.path.join(output_dir, f'chunk_{chunk_count}.csv')\n",
        "    chunk.to_csv(output_file, index=False, encoding = 'utf-8-sig')\n",
        "    print(f'{chunk_count} 저장 완료')\n",
        "\"\"\"\n",
        "# 자료가 크지 않아서 안 해도 됨\n"
      ],
      "metadata": {
        "id": "lQBfm9KRt9OF",
        "collapsed": true,
        "colab": {
          "base_uri": "https://localhost:8080/",
          "height": 105
        },
        "outputId": "471f3eba-586d-4481-faaf-ba4a5c103aa1"
      },
      "execution_count": null,
      "outputs": [
        {
          "output_type": "execute_result",
          "data": {
            "text/plain": [
              "\"\\nimport pandas as pd\\nimport os\\n\\nfile_path = r'/content/drive/MyDrive/BOK-TEAM-2/데이터 전처리/인포맥스/infomax_processed.csv'\\n\\n# 디렉터리 생성\\noutput_dir = r'/content/drive/MyDrive/BOK-TEAM-2/데이터 전처리/인포맥스/토큰자료'\\nos.makedirs(output_dir, exist_ok=True)\\n\\n# 파일을 일정 크기로 나누어 저장\\nchunck_size = 5000\\nchunk_count = 0\\n\\nfor chunk in pd.read_csv(file_path, chunksize=chunck_size):\\n    chunk_count += 1\\n    output_file = os.path.join(output_dir, f'chunk_{chunk_count}.csv')\\n    chunk.to_csv(output_file, index=False, encoding = 'utf-8-sig')\\n    print(f'{chunk_count} 저장 완료')\\n\""
            ],
            "application/vnd.google.colaboratory.intrinsic+json": {
              "type": "string"
            }
          },
          "metadata": {},
          "execution_count": 12
        }
      ]
    },
    {
      "cell_type": "code",
      "source": [
        "import pandas as pd\n",
        "from tqdm import tqdm\n",
        "import ast\n",
        "from gensim.models import Word2Vec\n",
        "\n",
        "\n",
        "# n-gram 생성 함수\n",
        "def generate_ngrams(token_list, max_n=5):\n",
        "    words = [token[0] for token in token_list]  # 단어 리스트 추출\n",
        "    ngram_list = []  # n-gram을 저장할 리스트\n",
        "    for n in range(1, max_n + 1):  # 1-gram부터 max_n-gram까지-\n",
        "        ngrams = [' '.join(words[i:i+n]) for i in range(len(words) - n + 1)]  # n-gram을 문자열로 변환\n",
        "        ngram_list.extend(ngrams)  # n-gram 리스트에 추가\n",
        "    return ngram_list\n",
        "\n",
        "# 기존 모델 불러오기\n",
        "model = Word2Vec.load(\"ngram2vec.model\")\n",
        "\n",
        "# CSV 파일 처리 함수 (각 chunk를 읽고 n-gram 리스트로 변환)\n",
        "def processChunkmpb(chunk_num=1):\n",
        "    chunk = pd.read_csv(f'/content/drive/MyDrive/BOK-TEAM-2/데이터 전처리/금통위 의사록/tokenized_MPB_results.csv')\n",
        "    chunk['tagged'] = chunk['tagged'].apply(lambda x: ast.literal_eval(x))\n",
        "    chunk['tagged'] = chunk['tagged'].apply(lambda x: [word for word in x if word[1] in ALLOWED_TAGS])\n",
        "    return chunk\n",
        "\n",
        "# 반복할 필요 없이 한 번만 하면 됨\n",
        "\n",
        "df = processChunkmpb(1)\n",
        "ngrams = []\n",
        "    # 각 문서별로 n-gram을 생성\n",
        "for text in df['tagged']:\n",
        "        ngrams.extend(generate_ngrams(text))\n",
        "\n",
        "# 모델에 n-gram을 추가하고 학습\n",
        "model.build_vocab([chunk_ngrams], update=True)\n",
        "model.train([chunk_ngrams], total_examples=1, epochs=model.epochs, compute_loss=True)\n",
        "\n",
        "# 학습된 모델 저장\n",
        "model.save(\"ngram2vec.model\")\n",
        "\n"
      ],
      "metadata": {
        "id": "L0Y88lkIt9OF",
        "colab": {
          "base_uri": "https://localhost:8080/"
        },
        "outputId": "89a88d9b-041c-46ed-f7fa-e714a916fe9f"
      },
      "execution_count": null,
      "outputs": [
        {
          "output_type": "stream",
          "name": "stderr",
          "text": [
            "WARNING:gensim.models.word2vec:Effective 'alpha' higher than previous training cycles\n"
          ]
        }
      ]
    },
    {
      "cell_type": "markdown",
      "source": [
        "### 리서치 파일을 통한 학습 코드\n"
      ],
      "metadata": {
        "id": "m591EwqBxqIK"
      }
    },
    {
      "cell_type": "code",
      "source": [
        "import pandas as pd\n",
        "# 파일 경로 지정\n",
        "file_path1 = r'/content/drive/MyDrive/BOK-TEAM-2/데이터 전처리/리서치/경제/tokenized_economy_results.csv'\n",
        "file_path2 = r'/content/drive/MyDrive/BOK-TEAM-2/데이터 전처리/리서치/채권/tokenized_bond_results.csv'\n",
        "\n",
        "df1 = pd.read_csv(file_path1, encoding='utf-8')"
      ],
      "metadata": {
        "id": "pOKmfxcZyyXR"
      },
      "execution_count": null,
      "outputs": []
    },
    {
      "cell_type": "code",
      "source": [
        "# 토큰자료를 5000개씩 나누어 처리할 문서 만들기\n",
        "import pandas as pd\n",
        "import os\n",
        "# encoding 문제 해결하기\n",
        "file_path1 = r'/content/drive/MyDrive/BOK-TEAM-2/데이터 전처리/리서치/경제/tokenized_economy_results.csv'\n",
        "\n",
        "# 디렉터리 생성\n",
        "output_dir = r'/content/drive/MyDrive/BOK-TEAM-2/데이터 전처리/리서치/토큰자료'\n",
        "os.makedirs(output_dir, exist_ok=True)\n",
        "\n",
        "# 파일을 일정 크기로 나누어 저장\n",
        "chunck_size = 3000 # 아래서 소요 시간이 너무 길어서 chunk size 조정함\n",
        "chunk_count = 0\n",
        "\n",
        "for chunk in pd.read_csv(file_path1, chunksize=chunck_size,  encoding='utf-8'):\n",
        "    chunk_count += 1\n",
        "    output_file = os.path.join(output_dir, f'chunk_{chunk_count}.csv')\n",
        "    chunk.to_csv(output_file, index=False, encoding = 'utf-8-sig')\n",
        "    print(f'경제, {chunk_count} 저장 완료')\n",
        "\n",
        "file_path2 = r'/content/drive/MyDrive/BOK-TEAM-2/데이터 전처리/리서치/채권/tokenized_bond_results.csv'\n",
        "# 디렉터리 생성\n",
        "\n",
        "for chunk in pd.read_csv(file_path2, chunksize=chunck_size, encoding='utf-8'):\n",
        "    chunk_count += 1\n",
        "    output_file = os.path.join(output_dir, f'chunk_{chunk_count}.csv')\n",
        "    chunk.to_csv(output_file, index=False, encoding = 'utf-8-sig')\n",
        "    print(f'채권, {chunk_count} 저장 완료')\n"
      ],
      "metadata": {
        "id": "E_mln1kMxqIL",
        "colab": {
          "base_uri": "https://localhost:8080/"
        },
        "outputId": "5af9590f-6228-4fb7-c179-44bdce59c64f"
      },
      "execution_count": null,
      "outputs": [
        {
          "output_type": "stream",
          "name": "stdout",
          "text": [
            "경제, 1 저장 완료\n",
            "경제, 2 저장 완료\n",
            "경제, 3 저장 완료\n",
            "채권, 4 저장 완료\n",
            "채권, 5 저장 완료\n"
          ]
        }
      ]
    },
    {
      "cell_type": "code",
      "source": [
        "import pandas as pd\n",
        "from tqdm import tqdm\n",
        "import ast\n",
        "from gensim.models import Word2Vec\n",
        "\n",
        "# n-gram 생성 함수\n",
        "def generate_ngrams(token_list, max_n=5):\n",
        "    words = [token[0] for token in token_list]  # 단어 리스트 추출\n",
        "    ngram_list = []  # n-gram을 저장할 리스트\n",
        "    for n in range(1, max_n + 1):  # 1-gram부터 max_n-gram까지\n",
        "        ngrams = [' '.join(words[i:i+n]) for i in range(len(words) - n + 1)]  # n-gram을 문자열로 변환\n",
        "        ngram_list.extend(ngrams)  # n-gram 리스트에 추가\n",
        "    return ngram_list\n",
        "\n",
        "# 기존 모델 불러오기\n",
        "model = Word2Vec.load(\"ngram2vec.model\")\n",
        "\n",
        "# CSV 파일 처리 함수 (각 chunk를 읽고 n-gram 리스트로 변환)\n",
        "def processChunk_research(chunk_num):\n",
        "    chunk = pd.read_csv(f'/content/drive/MyDrive/BOK-TEAM-2/데이터 전처리/리서치/토큰자료/chunk_{chunk_num}.csv')\n",
        "    chunk['tagged'] = chunk['tagged'].apply(lambda x: ast.literal_eval(x))\n",
        "    chunk['tagged'] = chunk['tagged'].apply(lambda x: [word for word in x if word[1] in ALLOWED_TAGS])\n",
        "    return chunk\n",
        "\n",
        "# 문서별로 n-gram을 생성하고 모델에 추가 (반복문 최적화)\n",
        "for chunk_num in tqdm(range(1,6)):  # 갯수 확인\n",
        "    df = processChunk_research(chunk_num)  # 각 chunk 파일 읽기\n",
        "    chunk_ngrams = []\n",
        "\n",
        "    # 각 문서별로 n-gram을 생성\n",
        "    for text in df['tagged']:\n",
        "        chunk_ngrams.extend(generate_ngrams(text))\n",
        "\n",
        "    # 모델에 n-gram을 추가하고 학습 (한 번에 n-gram을 추가하고 학습)\n",
        "    model.build_vocab([chunk_ngrams], update=True)\n",
        "    model.train([chunk_ngrams], total_examples=1, epochs=model.epochs, compute_loss=True)\n",
        "\n",
        "# 학습된 모델 저장\n",
        "model.save(\"ngram2vec.model\")"
      ],
      "metadata": {
        "id": "hmeoEeicxqIL",
        "colab": {
          "base_uri": "https://localhost:8080/"
        },
        "outputId": "61e08af4-4153-4c0a-c544-fc23e597a8d1"
      },
      "execution_count": null,
      "outputs": [
        {
          "output_type": "stream",
          "name": "stderr",
          "text": [
            "  0%|          | 0/5 [00:00<?, ?it/s]WARNING:gensim.models.word2vec:Effective 'alpha' higher than previous training cycles\n",
            " 20%|██        | 1/5 [02:57<11:50, 177.51s/it]WARNING:gensim.models.word2vec:Effective 'alpha' higher than previous training cycles\n",
            " 40%|████      | 2/5 [06:40<10:12, 204.31s/it]WARNING:gensim.models.word2vec:Effective 'alpha' higher than previous training cycles\n",
            " 60%|██████    | 3/5 [09:29<06:15, 187.97s/it]WARNING:gensim.models.word2vec:Effective 'alpha' higher than previous training cycles\n",
            " 80%|████████  | 4/5 [12:58<03:16, 196.39s/it]WARNING:gensim.models.word2vec:Effective 'alpha' higher than previous training cycles\n",
            "100%|██████████| 5/5 [17:10<00:00, 206.05s/it]\n"
          ]
        }
      ]
    },
    {
      "cell_type": "code",
      "source": [
        "import gensim\n",
        "from gensim.models import Word2Vec\n",
        "\n",
        "# 모델 로드\n",
        "model = Word2Vec.load(\"ngram2vec.model\")\n",
        "\n",
        "# 1️⃣ 단어별 빈도수 확인\n",
        "word_counts = {word: model.wv.get_vecattr(word, \"count\") for word in model.wv.index_to_key}\n",
        "\n",
        "# 2️⃣ 빈도수 15 이하인 단어 제거\n",
        "filtered_vocab = [word for word, count in word_counts.items() if count > 15]\n",
        "\n",
        "# 3️⃣ 새로운 Word2Vec 모델 생성 (기존 벡터 유지)\n",
        "new_model = Word2Vec(vector_size=model.vector_size, window=model.window, min_count=1, workers=4)\n",
        "new_model.build_vocab([[word] for word in filtered_vocab])\n",
        "new_model.wv.add_vectors(filtered_vocab, [model.wv[word] for word in filtered_vocab])\n",
        "\n",
        "# 4️⃣ 새로운 모델 저장\n",
        "new_model.save(\"/content/drive/MyDrive/BOK-TEAM-2/모델링/ngram2vec_final/ngram2vec_filtered.model\")"
      ],
      "metadata": {
        "id": "yKMOl8ju1ZQB"
      },
      "execution_count": null,
      "outputs": []
    },
    {
      "cell_type": "code",
      "source": [
        "from gensim.models import Word2Vec\n",
        "model = Word2Vec.load(\"/content/drive/MyDrive/BOK-TEAM-2/모델링/ngram2vec_final/ngram2vec_filtered.model\")\n",
        "print(model)  # 모델 정보 출력"
      ],
      "metadata": {
        "colab": {
          "base_uri": "https://localhost:8080/"
        },
        "id": "f1E3o2X5z5Nn",
        "outputId": "65f2e6b3-eb83-428c-f80e-1203b541300b"
      },
      "execution_count": null,
      "outputs": [
        {
          "output_type": "stream",
          "name": "stdout",
          "text": [
            "Word2Vec<vocab=555588, vector_size=300, alpha=0.025>\n"
          ]
        }
      ]
    },
    {
      "cell_type": "markdown",
      "metadata": {
        "id": "z1eiWAJSgAU1"
      },
      "source": [
        "## 4. ngram2vec 모델 테스트\n",
        "    4-1. 유사도 구해지는지 확인\n",
        "    4-2. 의문점이 생김; hawkish와 dovish를 어떻게 구분할 것인가? (Clustering? or 또 다른 정리법)"
      ]
    },
    {
      "cell_type": "markdown",
      "source": [
        "### 학습 모델 테스트"
      ],
      "metadata": {
        "id": "F1AjOnHwuGzR"
      }
    },
    {
      "cell_type": "code",
      "source": [
        "# 전체 vocabulary 확인\n",
        "model = Word2Vec.load(\"/content/drive/MyDrive/BOK-TEAM-2/모델링/ngram2vec_final/ngram2vec_filtered.model\")\n",
        "vocab = model.wv.key_to_index  # 모든 단어의 목록\n",
        "print(f\"전체 vocabulary에 포함된 단어 수: {len(vocab)}\")\n",
        "print(f\"전체 vocabulary: {list(vocab.keys())[60000]}\")  # 처음 10개 단어 보기 # 빈도를 25개 이상으로 높이니 단어가 확 줄어듦 / 이건 좀 고려해 볼 사항\n",
        "type(list(vocab.keys())[1])"
      ],
      "metadata": {
        "id": "RbT6JTwt3xD5",
        "colab": {
          "base_uri": "https://localhost:8080/"
        },
        "outputId": "076673f3-ac84-480e-922e-7b723dddc81b"
      },
      "execution_count": null,
      "outputs": [
        {
          "output_type": "stream",
          "name": "stdout",
          "text": [
            "전체 vocabulary에 포함된 단어 수: 555588\n",
            "전체 vocabulary: 신종 코로나 바이러스 감염증 이후\n"
          ]
        },
        {
          "output_type": "execute_result",
          "data": {
            "text/plain": [
              "str"
            ]
          },
          "metadata": {},
          "execution_count": 4
        }
      ]
    },
    {
      "cell_type": "code",
      "source": [
        "# 예외 처리로 KeyError 방지\n",
        "model = Word2Vec.load(\"/content/drive/MyDrive/BOK-TEAM-2/모델링/ngram2vec_final/ngram2vec_filtered.model\")\n",
        "word = '미국'\n",
        "try:\n",
        "    vector = model.wv[word]\n",
        "    print(f\"'{word}'의 벡터: {vector}\")\n",
        "except KeyError:\n",
        "    print(f\"'{word}'는 모델 vocab에 없습니다.\")"
      ],
      "metadata": {
        "collapsed": true,
        "id": "_Lw5Cayd9SWM",
        "colab": {
          "base_uri": "https://localhost:8080/"
        },
        "outputId": "58889008-d5fe-4dda-fb1c-4d3b76ec729e"
      },
      "execution_count": null,
      "outputs": [
        {
          "output_type": "stream",
          "name": "stdout",
          "text": [
            "'미국'의 벡터: [-3.2017601e-03 -2.0546447e-03 -6.6896161e-04 -3.2923908e-03\n",
            "  4.3811282e-04 -9.9936721e-04  2.4114407e-03 -2.7318792e-03\n",
            " -2.2063153e-03  1.3976021e-03  9.3686779e-04 -2.5162022e-03\n",
            "  3.1064963e-03  8.4112922e-04  1.5717498e-03  3.1588161e-03\n",
            "  1.6433656e-03 -3.4849963e-04  5.8362883e-05 -4.5898874e-04\n",
            "  8.4187865e-04 -3.0536612e-03  4.8083227e-04 -2.8701879e-03\n",
            "  3.1584057e-03 -1.6553823e-03 -1.4254546e-03  1.6968179e-03\n",
            "  2.2126520e-03  1.3222790e-03 -7.0624868e-04  2.1332293e-03\n",
            " -2.2844656e-03  3.0947996e-03 -8.5200074e-05 -3.2570008e-03\n",
            " -2.4435103e-03 -2.6946084e-03 -8.6085120e-04  6.2705873e-04\n",
            " -2.7363391e-03  1.3512536e-03 -3.2519242e-03 -1.7906582e-03\n",
            "  3.1936821e-03  1.7013859e-03 -3.8244526e-04 -2.9868679e-03\n",
            " -1.0083636e-03  9.6669316e-04  2.2502069e-03  2.5106978e-03\n",
            "  1.7467816e-03  8.7390980e-04 -3.0935227e-03 -1.0301387e-03\n",
            "  1.6963986e-03  8.7710022e-04 -2.3664427e-03  2.9641413e-03\n",
            "  2.9570321e-03 -2.6429712e-03  9.0226292e-04  4.1802326e-04\n",
            "  1.1465088e-03  2.5530763e-03 -9.8063075e-04  1.3539307e-03\n",
            "  9.9989571e-05 -2.7237968e-03  2.5146222e-03 -6.8698963e-04\n",
            "  2.0397238e-03  1.3273172e-03  5.1531952e-04 -2.4943240e-03\n",
            "  9.6706150e-04 -1.4474122e-03 -2.8631098e-03  1.8968085e-03\n",
            " -1.3573249e-04  2.4856051e-04 -1.3769964e-03 -1.2456683e-03\n",
            "  1.3128516e-03 -1.1120081e-03  2.6205650e-03 -3.1920462e-03\n",
            "  1.0730815e-03 -1.0837396e-03  1.6330767e-03  2.1195908e-03\n",
            " -1.0308977e-03 -2.5733726e-03 -1.9277318e-03 -1.1028926e-03\n",
            " -3.2841365e-04  2.0387371e-03 -9.4530545e-04 -7.7291526e-04\n",
            " -2.3243395e-03  2.2247553e-04 -3.2478010e-03 -2.7541833e-03\n",
            " -1.0264635e-04 -1.0715954e-03  2.5585298e-03  2.5978684e-04\n",
            "  2.7338762e-03  7.2744448e-04  3.2744172e-03 -1.0156985e-03\n",
            " -5.6784868e-04  9.9604647e-04  1.5908274e-03 -8.3971262e-04\n",
            "  1.5402110e-03  2.5554756e-03  2.2062957e-03  1.1504801e-03\n",
            " -4.6779355e-04  3.1313403e-03  3.2819906e-04 -1.8684915e-03\n",
            "  1.7627359e-03 -2.8142848e-04 -1.9648429e-03  8.6785911e-04\n",
            "  3.2975685e-03  3.0400748e-03 -1.3693731e-04  4.2143941e-04\n",
            "  2.1485107e-03 -2.4509621e-03 -2.4814650e-03 -1.3149023e-04\n",
            "  1.3243767e-03  6.2142807e-04  2.3507820e-03 -1.6654488e-03\n",
            "  2.8132773e-03  2.4589142e-03 -3.2376973e-03  3.1396931e-03\n",
            " -1.6511540e-03 -2.6844812e-03 -8.8277576e-04 -1.0773599e-03\n",
            " -2.1304158e-03 -2.2199200e-03  2.4438512e-03 -1.7245174e-04\n",
            " -2.7190379e-03  2.3450744e-03 -5.2948552e-04  3.3179882e-03\n",
            " -1.5260156e-03 -4.8039912e-04 -1.6298454e-03  5.2813688e-05\n",
            " -2.7829893e-03  2.6549972e-03  9.0745051e-04  4.2925318e-04\n",
            "  1.1911074e-03 -3.0453785e-03  9.5704000e-04  3.6176204e-04\n",
            "  1.9226170e-03 -2.2985509e-03  3.1621258e-03 -3.2411285e-03\n",
            "  1.5113933e-03  1.6508647e-03 -3.1245463e-03 -7.7586650e-04\n",
            " -2.0346253e-03  1.5164622e-03  1.6589257e-03  2.3806521e-03\n",
            "  9.8697981e-04  3.7773131e-04  2.1292141e-03 -8.5584717e-05\n",
            " -1.3071597e-03  2.9234106e-03  1.2242269e-03 -2.6558351e-03\n",
            " -2.1438655e-03  8.3123840e-04  1.4780831e-03  2.0691161e-03\n",
            " -1.9887984e-03  9.8878588e-04 -2.0697566e-03 -8.6822076e-04\n",
            "  1.5662543e-03  1.1187553e-04  1.7595172e-04 -1.4735973e-03\n",
            "  1.6421636e-03  9.2530367e-04 -3.5509508e-04  2.5929343e-03\n",
            "  2.1340330e-03  1.9223917e-03 -2.1891668e-03 -1.6107905e-03\n",
            "  1.6373210e-03 -2.7031465e-03 -1.1689977e-03 -2.2622391e-03\n",
            " -2.1244562e-03  1.5754863e-03 -2.4597538e-03 -1.0860777e-03\n",
            " -9.1034413e-04 -2.2136820e-03  3.2024980e-03  3.3040436e-03\n",
            "  2.9382638e-03  2.1619471e-03 -4.1963656e-05 -1.0788457e-03\n",
            "  1.4868506e-03  1.9891342e-04 -1.0650555e-05  3.4768065e-04\n",
            "  3.2929473e-03 -1.2868289e-03 -2.7624718e-03 -3.2465681e-03\n",
            " -1.3207261e-03  9.5658301e-04  2.0364258e-03 -3.3116746e-03\n",
            " -1.3983130e-04 -1.9443564e-03  1.4383964e-03 -8.2492112e-04\n",
            " -1.0660287e-03 -1.0182380e-03 -2.5232765e-03  2.1953476e-03\n",
            "  3.0068159e-05  1.1692368e-03  2.6402422e-03 -2.7242326e-03\n",
            " -5.5600406e-04 -1.5308961e-03 -1.9382914e-03  2.1147509e-03\n",
            "  2.5088550e-04  1.9421434e-03  3.3084520e-03 -8.8477891e-04\n",
            " -8.6321833e-04 -1.0846885e-03 -8.3408355e-05 -1.5587338e-03\n",
            "  2.5149640e-03  1.2964122e-03 -9.8325289e-04 -2.6272293e-03\n",
            " -2.9821701e-03  3.4099221e-04 -3.9891203e-04 -2.0572976e-03\n",
            " -2.4016635e-03  2.9411137e-03 -1.9810072e-03  2.1901571e-03\n",
            "  1.4727970e-03  2.3693303e-03 -6.9971127e-04 -2.0121785e-03\n",
            " -1.9968851e-03  4.9823202e-04  2.2831043e-04 -7.6520361e-04\n",
            " -2.7839700e-03  1.2036554e-03  2.5324288e-03  2.8565386e-03\n",
            "  5.0848047e-04 -2.7087838e-03 -3.0093091e-03 -1.4163005e-03\n",
            " -1.9459649e-03 -1.4736812e-03 -1.9001213e-03 -2.6764295e-03\n",
            "  2.7181586e-04  1.2765066e-03  1.9466857e-03 -6.0410140e-04\n",
            " -1.4609023e-03 -2.6359782e-03  2.0980004e-03 -3.7852129e-05]\n"
          ]
        }
      ]
    },
    {
      "cell_type": "code",
      "source": [
        "import numpy as np\n",
        "from sklearn.metrics.pairwise import cosine_similarity\n",
        "import gensim\n",
        "from nltk.tokenize import word_tokenize\n",
        "\n",
        "model = Word2Vec.load(\"/content/drive/MyDrive/BOK-TEAM-2/모델링/ngram2vec_final/ngram2vec_filtered.model\")\n",
        "\n",
        "# n-gram 문자열을 벡터로 변환하는 함수 (각 단어의 벡터 평균 계산)\n",
        "def get_ngram_vector(ngram, model):\n",
        "    # ngram 문자열을 단어로 토큰화\n",
        "    words = word_tokenize(ngram)\n",
        "\n",
        "    # 각 단어 벡터를 가져와서 평균을 구함\n",
        "    vectors = [model.wv[word] for word in words if word in model.wv]\n",
        "\n",
        "    if len(vectors) == 0:\n",
        "        return np.zeros(model.vector_size)  # 벡터가 없으면 0으로 대체\n",
        "\n",
        "    # 벡터들의 평균을 계산\n",
        "    return np.mean(vectors, axis=0)\n",
        "\n",
        "# 두 n-gram 간의 유사도 계산\n",
        "def calculate_similarity(ngram1, ngram2, model):\n",
        "    vec1 = get_ngram_vector(ngram1, model)\n",
        "    vec2 = get_ngram_vector(ngram2, model)\n",
        "\n",
        "    # 벡터가 NaN인 경우를 처리\n",
        "    if np.isnan(vec1).any() or np.isnan(vec2).any():\n",
        "        return 0  # NaN이 있을 경우 유사도를 0으로 처리\n",
        "\n",
        "    # 벡터를 2D 배열로 reshape하여 cosine similarity 계산\n",
        "    similarity = cosine_similarity([vec1], [vec2])[0][0]\n",
        "    return similarity\n",
        "\n",
        "# 예시 n-gram 문자열\n",
        "ngram1 = '아파트 담보대출 금리'\n",
        "ngram2 = '미국 금리'\n",
        "\n",
        "# 두 n-gram 문자열 간의 유사도 계산\n",
        "similarity = calculate_similarity(ngram1, ngram2, model)\n",
        "print(f\"'{ngram1}'와 '{ngram2}'의 유사도: {similarity}\")\n"
      ],
      "metadata": {
        "id": "ft02goIi3L-T",
        "colab": {
          "base_uri": "https://localhost:8080/",
          "height": 703
        },
        "outputId": "cf858335-75f8-46f4-fafc-747b615a608e"
      },
      "execution_count": null,
      "outputs": [
        {
          "output_type": "error",
          "ename": "LookupError",
          "evalue": "\n**********************************************************************\n  Resource \u001b[93mpunkt_tab\u001b[0m not found.\n  Please use the NLTK Downloader to obtain the resource:\n\n  \u001b[31m>>> import nltk\n  >>> nltk.download('punkt_tab')\n  \u001b[0m\n  For more information see: https://www.nltk.org/data.html\n\n  Attempted to load \u001b[93mtokenizers/punkt_tab/english/\u001b[0m\n\n  Searched in:\n    - '/root/nltk_data'\n    - '/usr/nltk_data'\n    - '/usr/share/nltk_data'\n    - '/usr/lib/nltk_data'\n    - '/usr/share/nltk_data'\n    - '/usr/local/share/nltk_data'\n    - '/usr/lib/nltk_data'\n    - '/usr/local/lib/nltk_data'\n**********************************************************************\n",
          "traceback": [
            "\u001b[0;31m---------------------------------------------------------------------------\u001b[0m",
            "\u001b[0;31mLookupError\u001b[0m                               Traceback (most recent call last)",
            "\u001b[0;32m<ipython-input-8-85de73009cc4>\u001b[0m in \u001b[0;36m<cell line: 0>\u001b[0;34m()\u001b[0m\n\u001b[1;32m     38\u001b[0m \u001b[0;34m\u001b[0m\u001b[0m\n\u001b[1;32m     39\u001b[0m \u001b[0;31m# 두 n-gram 문자열 간의 유사도 계산\u001b[0m\u001b[0;34m\u001b[0m\u001b[0;34m\u001b[0m\u001b[0m\n\u001b[0;32m---> 40\u001b[0;31m \u001b[0msimilarity\u001b[0m \u001b[0;34m=\u001b[0m \u001b[0mcalculate_similarity\u001b[0m\u001b[0;34m(\u001b[0m\u001b[0mngram1\u001b[0m\u001b[0;34m,\u001b[0m \u001b[0mngram2\u001b[0m\u001b[0;34m,\u001b[0m \u001b[0mmodel\u001b[0m\u001b[0;34m)\u001b[0m\u001b[0;34m\u001b[0m\u001b[0;34m\u001b[0m\u001b[0m\n\u001b[0m\u001b[1;32m     41\u001b[0m \u001b[0mprint\u001b[0m\u001b[0;34m(\u001b[0m\u001b[0;34mf\"'{ngram1}'와 '{ngram2}'의 유사도: {similarity}\"\u001b[0m\u001b[0;34m)\u001b[0m\u001b[0;34m\u001b[0m\u001b[0;34m\u001b[0m\u001b[0m\n",
            "\u001b[0;32m<ipython-input-8-85de73009cc4>\u001b[0m in \u001b[0;36mcalculate_similarity\u001b[0;34m(ngram1, ngram2, model)\u001b[0m\n\u001b[1;32m     22\u001b[0m \u001b[0;31m# 두 n-gram 간의 유사도 계산\u001b[0m\u001b[0;34m\u001b[0m\u001b[0;34m\u001b[0m\u001b[0m\n\u001b[1;32m     23\u001b[0m \u001b[0;32mdef\u001b[0m \u001b[0mcalculate_similarity\u001b[0m\u001b[0;34m(\u001b[0m\u001b[0mngram1\u001b[0m\u001b[0;34m,\u001b[0m \u001b[0mngram2\u001b[0m\u001b[0;34m,\u001b[0m \u001b[0mmodel\u001b[0m\u001b[0;34m)\u001b[0m\u001b[0;34m:\u001b[0m\u001b[0;34m\u001b[0m\u001b[0;34m\u001b[0m\u001b[0m\n\u001b[0;32m---> 24\u001b[0;31m     \u001b[0mvec1\u001b[0m \u001b[0;34m=\u001b[0m \u001b[0mget_ngram_vector\u001b[0m\u001b[0;34m(\u001b[0m\u001b[0mngram1\u001b[0m\u001b[0;34m,\u001b[0m \u001b[0mmodel\u001b[0m\u001b[0;34m)\u001b[0m\u001b[0;34m\u001b[0m\u001b[0;34m\u001b[0m\u001b[0m\n\u001b[0m\u001b[1;32m     25\u001b[0m     \u001b[0mvec2\u001b[0m \u001b[0;34m=\u001b[0m \u001b[0mget_ngram_vector\u001b[0m\u001b[0;34m(\u001b[0m\u001b[0mngram2\u001b[0m\u001b[0;34m,\u001b[0m \u001b[0mmodel\u001b[0m\u001b[0;34m)\u001b[0m\u001b[0;34m\u001b[0m\u001b[0;34m\u001b[0m\u001b[0m\n\u001b[1;32m     26\u001b[0m \u001b[0;34m\u001b[0m\u001b[0m\n",
            "\u001b[0;32m<ipython-input-8-85de73009cc4>\u001b[0m in \u001b[0;36mget_ngram_vector\u001b[0;34m(ngram, model)\u001b[0m\n\u001b[1;32m      9\u001b[0m \u001b[0;32mdef\u001b[0m \u001b[0mget_ngram_vector\u001b[0m\u001b[0;34m(\u001b[0m\u001b[0mngram\u001b[0m\u001b[0;34m,\u001b[0m \u001b[0mmodel\u001b[0m\u001b[0;34m)\u001b[0m\u001b[0;34m:\u001b[0m\u001b[0;34m\u001b[0m\u001b[0;34m\u001b[0m\u001b[0m\n\u001b[1;32m     10\u001b[0m     \u001b[0;31m# ngram 문자열을 단어로 토큰화\u001b[0m\u001b[0;34m\u001b[0m\u001b[0;34m\u001b[0m\u001b[0m\n\u001b[0;32m---> 11\u001b[0;31m     \u001b[0mwords\u001b[0m \u001b[0;34m=\u001b[0m \u001b[0mword_tokenize\u001b[0m\u001b[0;34m(\u001b[0m\u001b[0mngram\u001b[0m\u001b[0;34m)\u001b[0m\u001b[0;34m\u001b[0m\u001b[0;34m\u001b[0m\u001b[0m\n\u001b[0m\u001b[1;32m     12\u001b[0m \u001b[0;34m\u001b[0m\u001b[0m\n\u001b[1;32m     13\u001b[0m     \u001b[0;31m# 각 단어 벡터를 가져와서 평균을 구함\u001b[0m\u001b[0;34m\u001b[0m\u001b[0;34m\u001b[0m\u001b[0m\n",
            "\u001b[0;32m/usr/local/lib/python3.11/dist-packages/nltk/tokenize/__init__.py\u001b[0m in \u001b[0;36mword_tokenize\u001b[0;34m(text, language, preserve_line)\u001b[0m\n\u001b[1;32m    140\u001b[0m     \u001b[0;34m:\u001b[0m\u001b[0mtype\u001b[0m \u001b[0mpreserve_line\u001b[0m\u001b[0;34m:\u001b[0m \u001b[0mbool\u001b[0m\u001b[0;34m\u001b[0m\u001b[0;34m\u001b[0m\u001b[0m\n\u001b[1;32m    141\u001b[0m     \"\"\"\n\u001b[0;32m--> 142\u001b[0;31m     \u001b[0msentences\u001b[0m \u001b[0;34m=\u001b[0m \u001b[0;34m[\u001b[0m\u001b[0mtext\u001b[0m\u001b[0;34m]\u001b[0m \u001b[0;32mif\u001b[0m \u001b[0mpreserve_line\u001b[0m \u001b[0;32melse\u001b[0m \u001b[0msent_tokenize\u001b[0m\u001b[0;34m(\u001b[0m\u001b[0mtext\u001b[0m\u001b[0;34m,\u001b[0m \u001b[0mlanguage\u001b[0m\u001b[0;34m)\u001b[0m\u001b[0;34m\u001b[0m\u001b[0;34m\u001b[0m\u001b[0m\n\u001b[0m\u001b[1;32m    143\u001b[0m     return [\n\u001b[1;32m    144\u001b[0m         \u001b[0mtoken\u001b[0m \u001b[0;32mfor\u001b[0m \u001b[0msent\u001b[0m \u001b[0;32min\u001b[0m \u001b[0msentences\u001b[0m \u001b[0;32mfor\u001b[0m \u001b[0mtoken\u001b[0m \u001b[0;32min\u001b[0m \u001b[0m_treebank_word_tokenizer\u001b[0m\u001b[0;34m.\u001b[0m\u001b[0mtokenize\u001b[0m\u001b[0;34m(\u001b[0m\u001b[0msent\u001b[0m\u001b[0;34m)\u001b[0m\u001b[0;34m\u001b[0m\u001b[0;34m\u001b[0m\u001b[0m\n",
            "\u001b[0;32m/usr/local/lib/python3.11/dist-packages/nltk/tokenize/__init__.py\u001b[0m in \u001b[0;36msent_tokenize\u001b[0;34m(text, language)\u001b[0m\n\u001b[1;32m    117\u001b[0m     \u001b[0;34m:\u001b[0m\u001b[0mparam\u001b[0m \u001b[0mlanguage\u001b[0m\u001b[0;34m:\u001b[0m \u001b[0mthe\u001b[0m \u001b[0mmodel\u001b[0m \u001b[0mname\u001b[0m \u001b[0;32min\u001b[0m \u001b[0mthe\u001b[0m \u001b[0mPunkt\u001b[0m \u001b[0mcorpus\u001b[0m\u001b[0;34m\u001b[0m\u001b[0;34m\u001b[0m\u001b[0m\n\u001b[1;32m    118\u001b[0m     \"\"\"\n\u001b[0;32m--> 119\u001b[0;31m     \u001b[0mtokenizer\u001b[0m \u001b[0;34m=\u001b[0m \u001b[0m_get_punkt_tokenizer\u001b[0m\u001b[0;34m(\u001b[0m\u001b[0mlanguage\u001b[0m\u001b[0;34m)\u001b[0m\u001b[0;34m\u001b[0m\u001b[0;34m\u001b[0m\u001b[0m\n\u001b[0m\u001b[1;32m    120\u001b[0m     \u001b[0;32mreturn\u001b[0m \u001b[0mtokenizer\u001b[0m\u001b[0;34m.\u001b[0m\u001b[0mtokenize\u001b[0m\u001b[0;34m(\u001b[0m\u001b[0mtext\u001b[0m\u001b[0;34m)\u001b[0m\u001b[0;34m\u001b[0m\u001b[0;34m\u001b[0m\u001b[0m\n\u001b[1;32m    121\u001b[0m \u001b[0;34m\u001b[0m\u001b[0m\n",
            "\u001b[0;32m/usr/local/lib/python3.11/dist-packages/nltk/tokenize/__init__.py\u001b[0m in \u001b[0;36m_get_punkt_tokenizer\u001b[0;34m(language)\u001b[0m\n\u001b[1;32m    103\u001b[0m     \u001b[0;34m:\u001b[0m\u001b[0mtype\u001b[0m \u001b[0mlanguage\u001b[0m\u001b[0;34m:\u001b[0m \u001b[0mstr\u001b[0m\u001b[0;34m\u001b[0m\u001b[0;34m\u001b[0m\u001b[0m\n\u001b[1;32m    104\u001b[0m     \"\"\"\n\u001b[0;32m--> 105\u001b[0;31m     \u001b[0;32mreturn\u001b[0m \u001b[0mPunktTokenizer\u001b[0m\u001b[0;34m(\u001b[0m\u001b[0mlanguage\u001b[0m\u001b[0;34m)\u001b[0m\u001b[0;34m\u001b[0m\u001b[0;34m\u001b[0m\u001b[0m\n\u001b[0m\u001b[1;32m    106\u001b[0m \u001b[0;34m\u001b[0m\u001b[0m\n\u001b[1;32m    107\u001b[0m \u001b[0;34m\u001b[0m\u001b[0m\n",
            "\u001b[0;32m/usr/local/lib/python3.11/dist-packages/nltk/tokenize/punkt.py\u001b[0m in \u001b[0;36m__init__\u001b[0;34m(self, lang)\u001b[0m\n\u001b[1;32m   1742\u001b[0m     \u001b[0;32mdef\u001b[0m \u001b[0m__init__\u001b[0m\u001b[0;34m(\u001b[0m\u001b[0mself\u001b[0m\u001b[0;34m,\u001b[0m \u001b[0mlang\u001b[0m\u001b[0;34m=\u001b[0m\u001b[0;34m\"english\"\u001b[0m\u001b[0;34m)\u001b[0m\u001b[0;34m:\u001b[0m\u001b[0;34m\u001b[0m\u001b[0;34m\u001b[0m\u001b[0m\n\u001b[1;32m   1743\u001b[0m         \u001b[0mPunktSentenceTokenizer\u001b[0m\u001b[0;34m.\u001b[0m\u001b[0m__init__\u001b[0m\u001b[0;34m(\u001b[0m\u001b[0mself\u001b[0m\u001b[0;34m)\u001b[0m\u001b[0;34m\u001b[0m\u001b[0;34m\u001b[0m\u001b[0m\n\u001b[0;32m-> 1744\u001b[0;31m         \u001b[0mself\u001b[0m\u001b[0;34m.\u001b[0m\u001b[0mload_lang\u001b[0m\u001b[0;34m(\u001b[0m\u001b[0mlang\u001b[0m\u001b[0;34m)\u001b[0m\u001b[0;34m\u001b[0m\u001b[0;34m\u001b[0m\u001b[0m\n\u001b[0m\u001b[1;32m   1745\u001b[0m \u001b[0;34m\u001b[0m\u001b[0m\n\u001b[1;32m   1746\u001b[0m     \u001b[0;32mdef\u001b[0m \u001b[0mload_lang\u001b[0m\u001b[0;34m(\u001b[0m\u001b[0mself\u001b[0m\u001b[0;34m,\u001b[0m \u001b[0mlang\u001b[0m\u001b[0;34m=\u001b[0m\u001b[0;34m\"english\"\u001b[0m\u001b[0;34m)\u001b[0m\u001b[0;34m:\u001b[0m\u001b[0;34m\u001b[0m\u001b[0;34m\u001b[0m\u001b[0m\n",
            "\u001b[0;32m/usr/local/lib/python3.11/dist-packages/nltk/tokenize/punkt.py\u001b[0m in \u001b[0;36mload_lang\u001b[0;34m(self, lang)\u001b[0m\n\u001b[1;32m   1747\u001b[0m         \u001b[0;32mfrom\u001b[0m \u001b[0mnltk\u001b[0m\u001b[0;34m.\u001b[0m\u001b[0mdata\u001b[0m \u001b[0;32mimport\u001b[0m \u001b[0mfind\u001b[0m\u001b[0;34m\u001b[0m\u001b[0;34m\u001b[0m\u001b[0m\n\u001b[1;32m   1748\u001b[0m \u001b[0;34m\u001b[0m\u001b[0m\n\u001b[0;32m-> 1749\u001b[0;31m         \u001b[0mlang_dir\u001b[0m \u001b[0;34m=\u001b[0m \u001b[0mfind\u001b[0m\u001b[0;34m(\u001b[0m\u001b[0;34mf\"tokenizers/punkt_tab/{lang}/\"\u001b[0m\u001b[0;34m)\u001b[0m\u001b[0;34m\u001b[0m\u001b[0;34m\u001b[0m\u001b[0m\n\u001b[0m\u001b[1;32m   1750\u001b[0m         \u001b[0mself\u001b[0m\u001b[0;34m.\u001b[0m\u001b[0m_params\u001b[0m \u001b[0;34m=\u001b[0m \u001b[0mload_punkt_params\u001b[0m\u001b[0;34m(\u001b[0m\u001b[0mlang_dir\u001b[0m\u001b[0;34m)\u001b[0m\u001b[0;34m\u001b[0m\u001b[0;34m\u001b[0m\u001b[0m\n\u001b[1;32m   1751\u001b[0m         \u001b[0mself\u001b[0m\u001b[0;34m.\u001b[0m\u001b[0m_lang\u001b[0m \u001b[0;34m=\u001b[0m \u001b[0mlang\u001b[0m\u001b[0;34m\u001b[0m\u001b[0;34m\u001b[0m\u001b[0m\n",
            "\u001b[0;32m/usr/local/lib/python3.11/dist-packages/nltk/data.py\u001b[0m in \u001b[0;36mfind\u001b[0;34m(resource_name, paths)\u001b[0m\n\u001b[1;32m    577\u001b[0m     \u001b[0msep\u001b[0m \u001b[0;34m=\u001b[0m \u001b[0;34m\"*\"\u001b[0m \u001b[0;34m*\u001b[0m \u001b[0;36m70\u001b[0m\u001b[0;34m\u001b[0m\u001b[0;34m\u001b[0m\u001b[0m\n\u001b[1;32m    578\u001b[0m     \u001b[0mresource_not_found\u001b[0m \u001b[0;34m=\u001b[0m \u001b[0;34mf\"\\n{sep}\\n{msg}\\n{sep}\\n\"\u001b[0m\u001b[0;34m\u001b[0m\u001b[0;34m\u001b[0m\u001b[0m\n\u001b[0;32m--> 579\u001b[0;31m     \u001b[0;32mraise\u001b[0m \u001b[0mLookupError\u001b[0m\u001b[0;34m(\u001b[0m\u001b[0mresource_not_found\u001b[0m\u001b[0;34m)\u001b[0m\u001b[0;34m\u001b[0m\u001b[0;34m\u001b[0m\u001b[0m\n\u001b[0m\u001b[1;32m    580\u001b[0m \u001b[0;34m\u001b[0m\u001b[0m\n\u001b[1;32m    581\u001b[0m \u001b[0;34m\u001b[0m\u001b[0m\n",
            "\u001b[0;31mLookupError\u001b[0m: \n**********************************************************************\n  Resource \u001b[93mpunkt_tab\u001b[0m not found.\n  Please use the NLTK Downloader to obtain the resource:\n\n  \u001b[31m>>> import nltk\n  >>> nltk.download('punkt_tab')\n  \u001b[0m\n  For more information see: https://www.nltk.org/data.html\n\n  Attempted to load \u001b[93mtokenizers/punkt_tab/english/\u001b[0m\n\n  Searched in:\n    - '/root/nltk_data'\n    - '/usr/nltk_data'\n    - '/usr/share/nltk_data'\n    - '/usr/lib/nltk_data'\n    - '/usr/share/nltk_data'\n    - '/usr/local/share/nltk_data'\n    - '/usr/lib/nltk_data'\n    - '/usr/local/lib/nltk_data'\n**********************************************************************\n"
          ]
        }
      ]
    },
    {
      "cell_type": "code",
      "source": [
        "model = Word2Vec.load(\"/content/drive/MyDrive/BOK-TEAM-2/모델링/ngram2vec_final/ngram2vec_filtered.model\")\n",
        "word = '외국 은행'\n",
        "similar_words = model.wv.most_similar(word, topn=5)\n",
        "print(f\"{word}와(과) 유사한 단어들: {similar_words}\")"
      ],
      "metadata": {
        "id": "-uIPSnXNGyCU",
        "colab": {
          "base_uri": "https://localhost:8080/"
        },
        "outputId": "9d7ce996-540b-4a62-94c7-68670f89a19d"
      },
      "execution_count": null,
      "outputs": [
        {
          "output_type": "stream",
          "name": "stdout",
          "text": [
            "외국 은행와(과) 유사한 단어들: [('백스톱', 0.25422170758247375), ('건설 대신', 0.2490011304616928), ('높 오름 지속 금리 인상', 0.24105282127857208), ('월중 신규', 0.24071644246578217), ('비은행 가계 대출', 0.23970414698123932)]\n"
          ]
        }
      ]
    },
    {
      "cell_type": "code",
      "source": [
        "# hawkish와 dovish 사전 구해서 만들어봐야할 듯 -> 어떻게?"
      ],
      "metadata": {
        "id": "6KryGTwTC3Sr"
      },
      "execution_count": null,
      "outputs": []
    },
    {
      "cell_type": "markdown",
      "source": [
        "## + 시각화\n",
        "    - 다음 단계로 넘어가기 전, 현재 나오는 결과를 시각화 해 보자\n",
        "    - 시각화를 통해 직관적으로 이해하고, 또한 생기는 문제를 한 번 확인해 볼 수 있음\n",
        "    - matplotlib이나 seaborn 통해서 표현 (dimension이 300개나 되기 때문에 우선 2개로 줄여서 2차원 그래프로 만들어 보기) = t-SNE\n",
        "    - google 통해서도 진행 가능"
      ],
      "metadata": {
        "id": "pTJuE3ns3mg3"
      }
    },
    {
      "cell_type": "code",
      "source": [
        "from gensim.models import KeyedVectors\n",
        "\n",
        "file_path = \"ngram2vec.model\"\n",
        "try:\n",
        "    model = Word2Vec.load(\"/content/drive/MyDrive/BOK-TEAM-2/모델링/ngram2vec_final/ngram2vec_filtered.model\")\n",
        "    print(\"Gensim 모델이 정상적으로 로드되었습니다.\")\n",
        "except Exception as e:\n",
        "    print(f\"오류 발생: {e}\")"
      ],
      "metadata": {
        "id": "eiZSJ7KK6Xf4",
        "colab": {
          "base_uri": "https://localhost:8080/"
        },
        "outputId": "741ebf72-1b19-4bc8-9d12-c09e1c2057a1"
      },
      "execution_count": null,
      "outputs": [
        {
          "output_type": "stream",
          "name": "stdout",
          "text": [
            "Gensim 모델이 정상적으로 로드되었습니다.\n"
          ]
        }
      ]
    },
    {
      "cell_type": "code",
      "source": [
        "# 자체 폰트 경로 설정 후 사용해야 할 듯\n",
        "# 하나 업로드 해 놓자"
      ],
      "metadata": {
        "id": "d5AGBTN8BLJr"
      },
      "execution_count": null,
      "outputs": []
    },
    {
      "cell_type": "code",
      "source": [
        "import matplotlib.pyplot as plt\n",
        "import gensim\n",
        "import numpy as np\n",
        "from sklearn.manifold import TSNE\n",
        "from matplotlib import font_manager\n",
        "import warnings\n",
        "# 'findfont' 경고 메시지 숨기기\n",
        "warnings.filterwarnings('ignore', category=UserWarning, module='matplotlib.font_manager')\n",
        "\n",
        "# 모델 불러오기\n",
        "model = Word2Vec.load(\"/content/drive/MyDrive/BOK-TEAM-2/모델링/ngram2vec_final/ngram2vec_filtered.model\")\n",
        "\n",
        "# 단어 리스트 가져오기 (가장 많이 등장한 1000개 단어 선택)\n",
        "words = list(model.wv.index_to_key)[:1000]\n",
        "word_vectors = np.array([model.wv[word] for word in words])  # 벡터 추출\n",
        "\n",
        "# t-SNE로 2차원 축소\n",
        "tsne = TSNE(n_components=2, random_state=42, perplexity=40, n_iter=3000)\n",
        "word_vectors_2d = tsne.fit_transform(word_vectors)\n",
        "\n",
        "# 업로드한 폰트 경로 지정\n",
        "font_path = '/content/drive/MyDrive/Colab Notebooks/강원교육모두 Light.ttf'  # 업로드한 폰트 파일 경로\n",
        "\n",
        "# 폰트 프로퍼티 설정\n",
        "font_prop = font_manager.FontProperties(fname=font_path)\n",
        "\n",
        "# 시각화\n",
        "plt.figure(figsize=(14, 10))\n",
        "plt.scatter(word_vectors_2d[:, 0], word_vectors_2d[:, 1], s=5)\n",
        "\n",
        "\n",
        "# 특정 단어들 선택\n",
        "words_to_plot = ['금리 인상', '금리 인하', '금리 상승', '금리 하락']\n",
        "# 일부 단어에 라벨 표시\n",
        "for i, word in enumerate(words_to_plot):\n",
        "    plt.annotate(word, xy=(word_vectors_2d[i, 0], word_vectors_2d[i, 1]), fontsize=12, fontproperties=font_prop)\n",
        "\n",
        "plt.title(\"t-SNE visualization of Word2Vec word embeddings\", fontproperties=font_prop)\n",
        "plt.show()"
      ],
      "metadata": {
        "id": "PDsr3SsH8WsA",
        "collapsed": true,
        "colab": {
          "base_uri": "https://localhost:8080/",
          "height": 772
        },
        "outputId": "be5724c9-c134-4e1e-8eba-7535ce92b2f7"
      },
      "execution_count": null,
      "outputs": [
        {
          "output_type": "stream",
          "name": "stderr",
          "text": [
            "/usr/local/lib/python3.11/dist-packages/sklearn/manifold/_t_sne.py:1164: FutureWarning: 'n_iter' was renamed to 'max_iter' in version 1.5 and will be removed in 1.7.\n",
            "  warnings.warn(\n"
          ]
        },
        {
          "output_type": "display_data",
          "data": {
            "text/plain": [
              "<Figure size 1400x1000 with 1 Axes>"
            ],
            "image/png": "[encoded data removed]"
          },
          "metadata": {}
        }
      ]
    },
    {
      "cell_type": "markdown",
      "metadata": {
        "id": "Y9JWJp3UgC1U"
      },
      "source": [
        "## 5. 최적화\n",
        "    5-1. 우리가 처리해야 할 데이터는 text만 총 25만 개 정도\n",
        "    5-2. 어떻게 하면 멈추거나 메모리 문제 없이 제대로 해결할 수 있을까 -> 지금 모델로는 빠르게 돌리지는 못해도 메모리 충돌이나 과다는 없었음\n"
      ]
    },
    {
      "cell_type": "code",
      "execution_count": null,
      "metadata": {
        "id": "swaA7_FTcA-h"
      },
      "outputs": [],
      "source": [
        "# 계속해서 token불러오고 학습시키고... 지금 처럼 반복하면 Ram에 큰 무리는 없을 것\n",
        "# min_count는 기본 5로 설정해야 메모리 문제 X, 그리고 가장 많은 수의 데이터로 시작하고 있으니 중요도가 많이 떨어지는 단어만 걸러질 것이라고 추측함\n",
        "\n",
        "# 예측 결과가 나쁘지 않다면? -> 이대로 먼저 ngram2vec모델을 구글 드라이브에 저장"
      ]
    },
    {
      "cell_type": "code",
      "source": [],
      "metadata": {
        "id": "C1hihTx3KyeH"
      },
      "execution_count": null,
      "outputs": []
    },
    {
      "cell_type": "markdown",
      "source": [
        "### 6. 벡터를 활용한 분류 모델 제작\n",
        "    6-1. 어떤 모델을 사용하는가? (논문을 다시 읽어보고 구축하기)\n",
        "    - 딥러닝 분류모델 다시 복습 & 공부\n",
        "    - propagation을 수행할 수 있는 모델을 찾아서 내가 직접 구축해 보기\n",
        "    6-2. 최적화를 다시 해야 할 것인가? (Deep Learning Model의 메모리 문제가 있다면)\n"
      ],
      "metadata": {
        "id": "KqvKlKwDLFso"
      }
    }
  ],
  "metadata": {
    "colab": {
      "provenance": [],
      "collapsed_sections": [
        "-IPpGm03f15O"
      ]
    },
    "kernelspec": {
      "display_name": "Python 3",
      "name": "python3"
    },
    "language_info": {
      "name": "python"
    }
  },
  "nbformat": 4,
  "nbformat_minor": 0
}