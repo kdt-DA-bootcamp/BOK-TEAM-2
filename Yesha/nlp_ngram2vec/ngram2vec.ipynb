{
  "cells": [
    {
      "cell_type": "markdown",
      "metadata": {
        "id": "yZik-wgdcHos"
      },
      "source": [
        "# Ngram2Vec 실행 코드 정리\n",
        "* ngram2vec의 목적: 이를 바탕으로 한 감성사전 만들기!!!\n",
        "\n",
        "## 1. 기사에 대한 라벨링\n",
        "    1-1. 토큰화한 기사 파일\n",
        "    1-2. 품사 정리"
      ]
    },
    {
      "cell_type": "code",
      "execution_count": null,
      "metadata": {
        "collapsed": true,
        "id": "dHjZVQz0gKU9"
      },
      "outputs": [],
      "source": [
        "# 1. 토큰화한 기사 파일 가져오기 (test용 chunck 1만)\n",
        "import pandas as pd\n",
        "import ast\n",
        "from tqdm import tqdm\n",
        "tqdm.pandas()\n",
        "test = pd.read_csv(r'/content/drive/MyDrive/BOK-TEAM-2/데이터 전처리/이데일리/토큰자료/chunk_1.csv')\n",
        "test['stopwords'] = test['stopwords'].apply(lambda x: ast.literal_eval(x))\n",
        "# 2. 품사 정리해서 리스트 새로 만들기\n",
        "ALLOWED_TAGS = {'NNG', 'VA', 'VAX', 'MAG', 'negations'}\n",
        "test['stopwords'] = test['stopwords'].apply(lambda x: [word for word in x if word[1] in ALLOWED_TAGS])\n",
        "test.head()\n",
        "# 5000개에 13초 정도\n",
        "\n",
        "def processChunk(chunk_num):\n",
        "    chunk = pd.read_csv(f'/content/drive/MyDrive/BOK-TEAM-2/데이터 전처리/이데일리/토큰자료/chunk_{chunk_num}.csv')\n",
        "    chunk['stopwords'] = chunk['stopwords'].apply(lambda x: ast.literal_eval(x))\n",
        "    return chunk\n",
        "\n",
        "def processChunckHK(chunk_num):\n",
        "    chunk = pd.read_csv()\n",
        "    chunk['tagged'] = chunk['tagged'].apply(lambda x: ast.literal_eval(x))\n",
        "    chunk['tagged'] = chunk['tagged'].apply(lambda x: [word for word in x if word[1] in ALLOWED_TAGS])\n",
        "    return chunk\n"
      ]
    },
    {
      "cell_type": "markdown",
      "metadata": {
        "id": "-IPpGm03f15O"
      },
      "source": [
        "## 2. ngram 데이터 준비\n",
        "    2-1. 각 text에 대한 n-gram 추출 (1~5 gram)"
      ]
    },
    {
      "cell_type": "code",
      "execution_count": null,
      "metadata": {
        "colab": {
          "base_uri": "https://localhost:8080/"
        },
        "id": "izGp-nBuiKUh",
        "outputId": "df083b46-4f35-45d5-d445-aaac3153eb6e"
      },
      "outputs": [
        {
          "output_type": "stream",
          "name": "stderr",
          "text": [
            "100%|██████████| 5000/5000 [00:02<00:00, 1770.53it/s]\n"
          ]
        }
      ],
      "source": [
        "from collections import Counter\n",
        "from tqdm import tqdm\n",
        "\n",
        "def generate_ngrams(token_list, max_n=5):\n",
        "    words = [token[0] for token in token_list]\n",
        "    ngram_counter = Counter()\n",
        "    for n in range(1, max_n + 1):\n",
        "        ngrams = [tuple(words[i:i+n]) for i in range(len(words) - n + 1)]\n",
        "        ngram_counter.update(ngrams)\n",
        "    return ngram_counter\n",
        "\n",
        "ngram_total = [generate_ngrams(text) for text in tqdm(test['stopwords'])]\n",
        "\n",
        "# 5000개 2초"
      ]
    },
    {
      "cell_type": "markdown",
      "metadata": {
        "id": "xqa3kFnmf9HR"
      },
      "source": [
        "## 3. N-gram 데이터를 통해 Word2Vec 데이터 학습 모델 형성\n",
        "    3-1. 메모리를 잡아먹지 않도록 하나씩 문서를 처리하고 다음 문서를 불러옴\n",
        "    3-2. 위의 N-gram과 합쳐서 코드 적어야 함\n",
        "    3-3. 금리 상승 / 하락의 데이터 비율을 맞추어야 하지 않을까? (반반)\n",
        "    3-4. 우선 벡터화가 목적이므로 **test set는 필요 없는가?**\n",
        "    3-5. 분류 모델을 만들 때 (lexicon 형성 작업) 에서는 train , test가 필요한 것 아닌가? **-> 미리 라벨링 해 두어야 하나?**"
      ]
    },
    {
      "cell_type": "markdown",
      "source": [
        "### 이데일리 파일을 활용한 모델 학습\n",
        "* 무조건 처음에 해야 함. 모델 초기화 해야 하기 때문에"
      ],
      "metadata": {
        "id": "xqxxQpCMldZC"
      }
    },
    {
      "cell_type": "code",
      "source": [
        "import pandas as pd\n",
        "from tqdm import tqdm\n",
        "import ast\n",
        "from gensim.models import Word2Vec\n",
        "ALLOWED_TAGS = {'NNG', 'VA', 'VAX', 'MAG', 'negations'}\n",
        "\n",
        "# n-gram 생성 함수\n",
        "def generate_ngrams(token_list, max_n=5):\n",
        "    words = [token[0] for token in token_list]  # 단어 리스트 추출\n",
        "    ngram_list = []  # n-gram을 저장할 리스트\n",
        "    for n in range(1, max_n + 1):  # 1-gram부터 max_n-gram까지\n",
        "        ngrams = [' '.join(words[i:i+n]) for i in range(len(words) - n + 1)]  # n-gram을 문자열로 변환\n",
        "        ngram_list.extend(ngrams)  # n-gram 리스트에 추가\n",
        "    return ngram_list\n",
        "\n",
        "# Word2Vec 모델 초기화\n",
        "model = Word2Vec(vector_size=300,\n",
        "                 window=5,\n",
        "                 sg=1,\n",
        "                 negative=5,\n",
        "                 min_count= 5, # 모델 초기화할 때 다시 한 번 체크\n",
        "                 # min_count 너무 작으면 RAM문제 생기는 듯, 따라서 빈도수 5 이하는 우선 버리고 진행한 뒤, 이후에 15개 이하인 vector를 다시 제거한다.\n",
        "                 alpha=0.025,\n",
        "                 min_alpha=0.0001, workers=3, epochs=10)\n",
        "                # 해결법 1. worker 수 줄여 봄\n",
        "                # 해결법 2. vector 수 조금 줄여봄\n",
        "                # 해결법 3. 안 되면 min_count를 5로 해 두었다가, 나중에 15 이하 제거하는 것도 방법\n",
        "\n",
        "# CSV 파일 처리 함수 (각 chunk를 읽고 n-gram 리스트로 변환)\n",
        "def processChunk(chunk_num):\n",
        "    chunk = pd.read_csv(f'/content/drive/MyDrive/BOK-TEAM-2/데이터 전처리/이데일리/토큰자료/chunk_{chunk_num}.csv')\n",
        "    chunk['stopwords'] = chunk['stopwords'].apply(lambda x: ast.literal_eval(x))\n",
        "    chunk['stopwords'] = chunk['stopwords'].apply(lambda x: [word for word in x if word[1] in ALLOWED_TAGS])\n",
        "    return chunk\n",
        "\n",
        "# 첫 번째 CSV 파일에서 vocab 구축\n",
        "first_chunk = processChunk(1)  # 첫 번째 CSV 파일 읽기\n",
        "first_ngrams = []\n",
        "\n",
        "# 첫 번째 CSV에서 n-gram 생성\n",
        "for text in first_chunk['stopwords']:\n",
        "    first_ngrams.extend(generate_ngrams(text))\n",
        "\n",
        "# 모델에 vocab을 먼저 구축 (여기서 한번만 호출)\n",
        "model.build_vocab([first_ngrams], update=False)\n",
        "\n",
        "# 첫 번째 문서를 기준으로 학습 (초기 vocab 기반)\n",
        "model.train([first_ngrams], total_examples=1, epochs=model.epochs, compute_loss=True)\n",
        "\n",
        "# 문서별로 n-gram을 생성하고 모델에 추가 (반복문 최적화)\n",
        "for chunk_num in tqdm(range(2,22)):  # 2번부터 21번까지 처리\n",
        "    df = processChunk(chunk_num)  # 각 chunk 파일 읽기\n",
        "    chunk_ngrams = []\n",
        "\n",
        "    # 각 문서별로 n-gram을 생성\n",
        "    for text in df['stopwords']:\n",
        "        chunk_ngrams.extend(generate_ngrams(text))\n",
        "\n",
        "\n",
        "    # 모델에 n-gram을 추가하고 학습 (한 번에 n-gram을 추가하고 학습)\n",
        "    model.build_vocab([chunk_ngrams], update=True)\n",
        "    model.train([chunk_ngrams], total_examples=1, epochs=model.epochs, compute_loss=True)\n",
        "    # csv 파일 하나의 모든 ngram을 넣은 형태라서, totla_examples의 수가 1이 맞음\n",
        "    # 그리고 어휘를 구분하여 벡터화 하는 우리의 목적에 따라, 굳이 문장, 텍스트 단위로 나누지 않아도 될 것 같음\n",
        "\n",
        "    # total examples 수가 잘못된 것 같아서 수정 / 메모리 문제 없는지 확인하여 돌려볼 것\n",
        "    # batch_size = 10000 # 한 번에 학습할 n-gram 개수\n",
        "    # # epochs = 5  # 에포크 줄이기\n",
        "    # for i in range(0, len(chunk_ngrams), batch_size):\n",
        "    #     batch = chunk_ngrams[i:i+batch_size]  # 일부 데이터 선택\n",
        "    #     model.train(batch, total_examples=len(batch), epochs=model.ephochs, compute_loss=True)\n",
        "\n",
        "# 학습된 모델 저장\n",
        "model.save(\"ngram2vec.model\")\n"
      ],
      "metadata": {
        "colab": {
          "base_uri": "https://localhost:8080/"
        },
        "collapsed": true,
        "id": "IJni6LSurkkR",
        "outputId": "b10f1e80-b142-43ab-ae89-15592279d822"
      },
      "execution_count": 3,
      "outputs": [
        {
          "output_type": "stream",
          "name": "stderr",
          "text": [
            "  0%|          | 0/20 [00:00<?, ?it/s]WARNING:gensim.models.word2vec:Effective 'alpha' higher than previous training cycles\n",
            "  5%|▌         | 1/20 [00:30<09:31, 30.06s/it]WARNING:gensim.models.word2vec:Effective 'alpha' higher than previous training cycles\n",
            " 10%|█         | 2/20 [01:04<09:49, 32.76s/it]WARNING:gensim.models.word2vec:Effective 'alpha' higher than previous training cycles\n",
            " 15%|█▌        | 3/20 [01:40<09:36, 33.94s/it]WARNING:gensim.models.word2vec:Effective 'alpha' higher than previous training cycles\n",
            " 20%|██        | 4/20 [02:11<08:45, 32.85s/it]WARNING:gensim.models.word2vec:Effective 'alpha' higher than previous training cycles\n",
            " 25%|██▌       | 5/20 [02:41<07:57, 31.83s/it]WARNING:gensim.models.word2vec:Effective 'alpha' higher than previous training cycles\n",
            " 30%|███       | 6/20 [03:17<07:44, 33.19s/it]WARNING:gensim.models.word2vec:Effective 'alpha' higher than previous training cycles\n",
            " 35%|███▌      | 7/20 [03:52<07:20, 33.90s/it]WARNING:gensim.models.word2vec:Effective 'alpha' higher than previous training cycles\n",
            " 40%|████      | 8/20 [04:30<07:03, 35.28s/it]WARNING:gensim.models.word2vec:Effective 'alpha' higher than previous training cycles\n",
            " 45%|████▌     | 9/20 [05:09<06:41, 36.51s/it]WARNING:gensim.models.word2vec:Effective 'alpha' higher than previous training cycles\n",
            " 50%|█████     | 10/20 [05:57<06:38, 39.80s/it]WARNING:gensim.models.word2vec:Effective 'alpha' higher than previous training cycles\n",
            " 55%|█████▌    | 11/20 [06:56<06:52, 45.81s/it]WARNING:gensim.models.word2vec:Effective 'alpha' higher than previous training cycles\n",
            " 60%|██████    | 12/20 [07:44<06:13, 46.63s/it]WARNING:gensim.models.word2vec:Effective 'alpha' higher than previous training cycles\n",
            " 65%|██████▌   | 13/20 [08:31<05:25, 46.47s/it]WARNING:gensim.models.word2vec:Effective 'alpha' higher than previous training cycles\n",
            " 70%|███████   | 14/20 [09:19<04:42, 47.07s/it]WARNING:gensim.models.word2vec:Effective 'alpha' higher than previous training cycles\n",
            " 75%|███████▌  | 15/20 [10:03<03:51, 46.24s/it]WARNING:gensim.models.word2vec:Effective 'alpha' higher than previous training cycles\n",
            " 80%|████████  | 16/20 [10:46<03:00, 45.24s/it]WARNING:gensim.models.word2vec:Effective 'alpha' higher than previous training cycles\n",
            " 85%|████████▌ | 17/20 [11:29<02:13, 44.56s/it]WARNING:gensim.models.word2vec:Effective 'alpha' higher than previous training cycles\n",
            " 90%|█████████ | 18/20 [12:24<01:35, 47.50s/it]WARNING:gensim.models.word2vec:Effective 'alpha' higher than previous training cycles\n",
            " 95%|█████████▌| 19/20 [13:15<00:48, 48.76s/it]WARNING:gensim.models.word2vec:Effective 'alpha' higher than previous training cycles\n",
            "100%|██████████| 20/20 [13:35<00:00, 40.77s/it]\n"
          ]
        }
      ]
    },
    {
      "cell_type": "markdown",
      "source": [
        "* 우선, 알파값이 예상보다 높다는 얘기일 뿐, 학습 자체가 중단되지 않으므로 그대로 지속해 볼 것\n",
        "* 다양한 자료를 통해서 먼저 모델을 학습시켜볼 것\n",
        "* 시각화 자료가 이상하다 싶으면 자료의 비율을 다시 조정해 보는 것이 좋을 것 같음"
      ],
      "metadata": {
        "id": "arXn3bUIjRzD"
      }
    },
    {
      "cell_type": "markdown",
      "source": [
        "### 한경 파일을 통한 학습 코드\n"
      ],
      "metadata": {
        "id": "dep8Fj9lkwWq"
      }
    },
    {
      "cell_type": "code",
      "source": [
        "\n",
        "# 토큰자료를 5000개씩 나누어 처리할 문서 만들기\n",
        "import pandas as pd\n",
        "import os\n",
        "\n",
        "file_path = r'/content/drive/MyDrive/BOK-TEAM-2/데이터 전처리/한국경제/hk_results_real.csv'\n",
        "\n",
        "# 디렉터리 생성\n",
        "output_dir = r'/content/drive/MyDrive/BOK-TEAM-2/데이터 전처리/한국경제/토큰자료'\n",
        "os.makedirs(output_dir, exist_ok=True)\n",
        "\n",
        "# 파일을 일정 크기로 나누어 저장\n",
        "chunck_size = 5000\n",
        "chunk_count = 0\n",
        "\n",
        "for chunk in pd.read_csv(file_path, chunksize=chunck_size):\n",
        "    chunk_count += 1\n",
        "    output_file = os.path.join(output_dir, f'chunk_{chunk_count}.csv')\n",
        "    chunk.to_csv(output_file, index=False, encoding = 'utf-8-sig')\n",
        "    print(f'{chunk_count} 저장 완료')\n"
      ],
      "metadata": {
        "id": "0D6QpD87avvE",
        "colab": {
          "base_uri": "https://localhost:8080/"
        },
        "outputId": "c00261f3-6d0b-4ae0-d8a9-ad1d7b2a8538"
      },
      "execution_count": 4,
      "outputs": [
        {
          "output_type": "stream",
          "name": "stdout",
          "text": [
            "1 저장 완료\n",
            "2 저장 완료\n",
            "3 저장 완료\n",
            "4 저장 완료\n",
            "5 저장 완료\n",
            "6 저장 완료\n",
            "7 저장 완료\n",
            "8 저장 완료\n",
            "9 저장 완료\n",
            "10 저장 완료\n",
            "11 저장 완료\n",
            "12 저장 완료\n",
            "13 저장 완료\n",
            "14 저장 완료\n",
            "15 저장 완료\n"
          ]
        }
      ]
    },
    {
      "cell_type": "code",
      "source": [
        "import pandas as pd\n",
        "from tqdm import tqdm\n",
        "import ast\n",
        "from gensim.models import Word2Vec\n",
        "\n",
        "\n",
        "# n-gram 생성 함수\n",
        "def generate_ngrams(token_list, max_n=5):\n",
        "    words = [token[0] for token in token_list]  # 단어 리스트 추출\n",
        "    ngram_list = []  # n-gram을 저장할 리스트\n",
        "    for n in range(1, max_n + 1):  # 1-gram부터 max_n-gram까지\n",
        "        ngrams = [' '.join(words[i:i+n]) for i in range(len(words) - n + 1)]  # n-gram을 문자열로 변환\n",
        "        ngram_list.extend(ngrams)  # n-gram 리스트에 추가\n",
        "    return ngram_list\n",
        "\n",
        "# 기존 모델 불러오기\n",
        "model = Word2Vec.load(\"ngram2vec.model\")\n",
        "\n",
        "# CSV 파일 처리 함수 (각 chunk를 읽고 n-gram 리스트로 변환)\n",
        "def processChunkHK(chunk_num):\n",
        "    chunk = pd.read_csv(f'/content/drive/MyDrive/BOK-TEAM-2/데이터 전처리/한국경제/토큰자료/chunk_{chunk_num}.csv')\n",
        "    chunk['tagged'] = chunk['tagged'].apply(lambda x: ast.literal_eval(x))\n",
        "    chunk['tagged'] = chunk['tagged'].apply(lambda x: [word for word in x if word[1] in ALLOWED_TAGS])\n",
        "    return chunk\n",
        "\n",
        "# 문서별로 n-gram을 생성하고 모델에 추가 (반복문 최적화)\n",
        "for chunk_num in tqdm(range(1,16)):  # 2번부터 15번까지 처리\n",
        "    df = processChunkHK(chunk_num)  # 각 chunk 파일 읽기\n",
        "    chunk_ngrams = []\n",
        "\n",
        "    # 각 문서별로 n-gram을 생성\n",
        "    for text in df['tagged']:\n",
        "        chunk_ngrams.extend(generate_ngrams(text))\n",
        "\n",
        "    # 모델에 n-gram을 추가하고 학습 (한 번에 n-gram을 추가하고 학습)\n",
        "    model.build_vocab([chunk_ngrams], update=True)\n",
        "    model.train([chunk_ngrams], total_examples=1, epochs=model.epochs, compute_loss=True)\n",
        "\n",
        "# 학습된 모델 저장\n",
        "model.save(\"ngram2vec.model\")\n"
      ],
      "metadata": {
        "id": "Ghx209IsaQUE",
        "colab": {
          "base_uri": "https://localhost:8080/"
        },
        "outputId": "201d22d1-1c6e-4dfa-c6c7-1cdcf2b748b1"
      },
      "execution_count": 5,
      "outputs": [
        {
          "output_type": "stream",
          "name": "stderr",
          "text": [
            "  0%|          | 0/15 [00:00<?, ?it/s]WARNING:gensim.models.word2vec:Effective 'alpha' higher than previous training cycles\n",
            "  7%|▋         | 1/15 [00:29<06:55, 29.69s/it]WARNING:gensim.models.word2vec:Effective 'alpha' higher than previous training cycles\n",
            " 13%|█▎        | 2/15 [01:12<08:03, 37.22s/it]WARNING:gensim.models.word2vec:Effective 'alpha' higher than previous training cycles\n",
            " 20%|██        | 3/15 [02:02<08:39, 43.28s/it]WARNING:gensim.models.word2vec:Effective 'alpha' higher than previous training cycles\n",
            " 27%|██▋       | 4/15 [02:39<07:28, 40.78s/it]WARNING:gensim.models.word2vec:Effective 'alpha' higher than previous training cycles\n",
            " 33%|███▎      | 5/15 [03:18<06:42, 40.21s/it]WARNING:gensim.models.word2vec:Effective 'alpha' higher than previous training cycles\n",
            " 40%|████      | 6/15 [03:57<05:57, 39.70s/it]WARNING:gensim.models.word2vec:Effective 'alpha' higher than previous training cycles\n",
            " 47%|████▋     | 7/15 [04:36<05:14, 39.34s/it]WARNING:gensim.models.word2vec:Effective 'alpha' higher than previous training cycles\n",
            " 53%|█████▎    | 8/15 [05:08<04:20, 37.16s/it]WARNING:gensim.models.word2vec:Effective 'alpha' higher than previous training cycles\n",
            " 60%|██████    | 9/15 [05:41<03:35, 35.87s/it]WARNING:gensim.models.word2vec:Effective 'alpha' higher than previous training cycles\n",
            " 67%|██████▋   | 10/15 [06:13<02:52, 34.56s/it]WARNING:gensim.models.word2vec:Effective 'alpha' higher than previous training cycles\n",
            " 73%|███████▎  | 11/15 [06:43<02:13, 33.35s/it]WARNING:gensim.models.word2vec:Effective 'alpha' higher than previous training cycles\n",
            " 80%|████████  | 12/15 [07:15<01:38, 32.70s/it]WARNING:gensim.models.word2vec:Effective 'alpha' higher than previous training cycles\n",
            " 87%|████████▋ | 13/15 [07:45<01:04, 32.12s/it]WARNING:gensim.models.word2vec:Effective 'alpha' higher than previous training cycles\n",
            " 93%|█████████▎| 14/15 [08:12<00:30, 30.58s/it]WARNING:gensim.models.word2vec:Effective 'alpha' higher than previous training cycles\n",
            "100%|██████████| 15/15 [08:37<00:00, 34.50s/it]\n"
          ]
        }
      ]
    },
    {
      "cell_type": "markdown",
      "source": [
        "### 인포맥스 파일을 통한 학습 코드\n"
      ],
      "metadata": {
        "id": "lm2dTrOxlAJT"
      }
    },
    {
      "cell_type": "code",
      "source": [
        "\n",
        "# 토큰자료를 5000개씩 나누어 처리할 문서 만들기\n",
        "import pandas as pd\n",
        "import os\n",
        "\n",
        "file_path = r'/content/drive/MyDrive/BOK-TEAM-2/데이터 전처리/인포맥스/infomax_processed.csv'\n",
        "\n",
        "# 디렉터리 생성\n",
        "output_dir = r'/content/drive/MyDrive/BOK-TEAM-2/데이터 전처리/인포맥스/토큰자료'\n",
        "os.makedirs(output_dir, exist_ok=True)\n",
        "\n",
        "# 파일을 일정 크기로 나누어 저장\n",
        "chunck_size = 5000\n",
        "chunk_count = 0\n",
        "\n",
        "for chunk in pd.read_csv(file_path, chunksize=chunck_size):\n",
        "    chunk_count += 1\n",
        "    output_file = os.path.join(output_dir, f'chunk_{chunk_count}.csv')\n",
        "    chunk.to_csv(output_file, index=False, encoding = 'utf-8-sig')\n",
        "    print(f'{chunk_count} 저장 완료')\n"
      ],
      "metadata": {
        "id": "Ny0MGFFXlAJT"
      },
      "execution_count": null,
      "outputs": []
    },
    {
      "cell_type": "code",
      "source": [
        "import pandas as pd\n",
        "from tqdm import tqdm\n",
        "import ast\n",
        "from gensim.models import Word2Vec\n",
        "\n",
        "\n",
        "# n-gram 생성 함수\n",
        "def generate_ngrams(token_list, max_n=5):\n",
        "    words = [token[0] for token in token_list]  # 단어 리스트 추출\n",
        "    ngram_list = []  # n-gram을 저장할 리스트\n",
        "    for n in range(1, max_n + 1):  # 1-gram부터 max_n-gram까지\n",
        "        ngrams = [' '.join(words[i:i+n]) for i in range(len(words) - n + 1)]  # n-gram을 문자열로 변환\n",
        "        ngram_list.extend(ngrams)  # n-gram 리스트에 추가\n",
        "    return ngram_list\n",
        "\n",
        "# 기존 모델 불러오기\n",
        "model = Word2Vec.load(\"ngram2vec.model\")\n",
        "\n",
        "# CSV 파일 처리 함수 (각 chunk를 읽고 n-gram 리스트로 변환)\n",
        "def processChunkHK(chunk_num):\n",
        "    chunk = pd.read_csv(f'/content/drive/MyDrive/BOK-TEAM-2/데이터 전처리/인포맥스/토큰자료/chunk_{chunk_num}.csv')\n",
        "    chunk['tagged'] = chunk['tagged'].apply(lambda x: ast.literal_eval(x))\n",
        "    chunk['tagged'] = chunk['tagged'].apply(lambda x: [word for word in x if word[1] in ALLOWED_TAGS])\n",
        "    return chunk\n",
        "\n",
        "# 문서별로 n-gram을 생성하고 모델에 추가 (반복문 최적화)\n",
        "for chunk_num in tqdm(range(1,17)):  # 갯수 확인\n",
        "    df = processChunkHK(chunk_num)  # 각 chunk 파일 읽기\n",
        "    chunk_ngrams = []\n",
        "\n",
        "    # 각 문서별로 n-gram을 생성\n",
        "    for text in df['tagged']:\n",
        "        chunk_ngrams.extend(generate_ngrams(text))\n",
        "\n",
        "    # 모델에 n-gram을 추가하고 학습 (한 번에 n-gram을 추가하고 학습)\n",
        "    model.build_vocab([chunk_ngrams], update=True)\n",
        "    model.train([chunk_ngrams], total_examples=1, epochs=model.epochs, compute_loss=True)\n",
        "\n",
        "# 학습된 모델 저장\n",
        "model.save(\"ngram2vec.model\")\n"
      ],
      "metadata": {
        "id": "Q0G6DDTrlAJU",
        "colab": {
          "base_uri": "https://localhost:8080/"
        },
        "outputId": "158cabba-8d86-4ed8-b82e-c175192cc9c3"
      },
      "execution_count": 6,
      "outputs": [
        {
          "output_type": "stream",
          "name": "stderr",
          "text": [
            "  0%|          | 0/16 [00:00<?, ?it/s]WARNING:gensim.models.word2vec:Effective 'alpha' higher than previous training cycles\n",
            "  6%|▋         | 1/16 [00:31<07:57, 31.82s/it]WARNING:gensim.models.word2vec:Effective 'alpha' higher than previous training cycles\n",
            " 12%|█▎        | 2/16 [01:04<07:32, 32.31s/it]WARNING:gensim.models.word2vec:Effective 'alpha' higher than previous training cycles\n",
            " 19%|█▉        | 3/16 [01:39<07:14, 33.46s/it]WARNING:gensim.models.word2vec:Effective 'alpha' higher than previous training cycles\n",
            " 25%|██▌       | 4/16 [02:11<06:34, 32.86s/it]WARNING:gensim.models.word2vec:Effective 'alpha' higher than previous training cycles\n",
            " 31%|███▏      | 5/16 [02:48<06:18, 34.40s/it]WARNING:gensim.models.word2vec:Effective 'alpha' higher than previous training cycles\n",
            " 38%|███▊      | 6/16 [03:20<05:34, 33.48s/it]WARNING:gensim.models.word2vec:Effective 'alpha' higher than previous training cycles\n",
            " 44%|████▍     | 7/16 [03:51<04:55, 32.80s/it]WARNING:gensim.models.word2vec:Effective 'alpha' higher than previous training cycles\n",
            " 50%|█████     | 8/16 [04:25<04:26, 33.29s/it]WARNING:gensim.models.word2vec:Effective 'alpha' higher than previous training cycles\n",
            " 56%|█████▋    | 9/16 [04:59<03:54, 33.47s/it]WARNING:gensim.models.word2vec:Effective 'alpha' higher than previous training cycles\n",
            " 62%|██████▎   | 10/16 [05:37<03:28, 34.67s/it]WARNING:gensim.models.word2vec:Effective 'alpha' higher than previous training cycles\n",
            " 69%|██████▉   | 11/16 [06:13<02:56, 35.21s/it]WARNING:gensim.models.word2vec:Effective 'alpha' higher than previous training cycles\n",
            " 75%|███████▌  | 12/16 [06:52<02:25, 36.39s/it]WARNING:gensim.models.word2vec:Effective 'alpha' higher than previous training cycles\n",
            " 81%|████████▏ | 13/16 [07:32<01:52, 37.55s/it]WARNING:gensim.models.word2vec:Effective 'alpha' higher than previous training cycles\n",
            " 88%|████████▊ | 14/16 [08:10<01:15, 37.59s/it]WARNING:gensim.models.word2vec:Effective 'alpha' higher than previous training cycles\n",
            " 94%|█████████▍| 15/16 [08:52<00:39, 39.03s/it]WARNING:gensim.models.word2vec:Effective 'alpha' higher than previous training cycles\n",
            "100%|██████████| 16/16 [09:32<00:00, 35.79s/it]\n"
          ]
        }
      ]
    },
    {
      "cell_type": "markdown",
      "source": [
        "### 금통위 의사록을 통한 학습 코드\n"
      ],
      "metadata": {
        "id": "-j613JGNt9OE"
      }
    },
    {
      "cell_type": "code",
      "source": [
        "# 토큰자료를 5000개씩 나누어 처리할 문서 만들기\n",
        "\"\"\"\n",
        "import pandas as pd\n",
        "import os\n",
        "\n",
        "file_path = r'/content/drive/MyDrive/BOK-TEAM-2/데이터 전처리/인포맥스/infomax_processed.csv'\n",
        "\n",
        "# 디렉터리 생성\n",
        "output_dir = r'/content/drive/MyDrive/BOK-TEAM-2/데이터 전처리/인포맥스/토큰자료'\n",
        "os.makedirs(output_dir, exist_ok=True)\n",
        "\n",
        "# 파일을 일정 크기로 나누어 저장\n",
        "chunck_size = 5000\n",
        "chunk_count = 0\n",
        "\n",
        "for chunk in pd.read_csv(file_path, chunksize=chunck_size):\n",
        "    chunk_count += 1\n",
        "    output_file = os.path.join(output_dir, f'chunk_{chunk_count}.csv')\n",
        "    chunk.to_csv(output_file, index=False, encoding = 'utf-8-sig')\n",
        "    print(f'{chunk_count} 저장 완료')\n",
        "\"\"\"\n",
        "# 자료가 크지 않아서 안 해도 됨\n"
      ],
      "metadata": {
        "id": "lQBfm9KRt9OF",
        "collapsed": true
      },
      "execution_count": null,
      "outputs": []
    },
    {
      "cell_type": "code",
      "source": [
        "import pandas as pd\n",
        "from tqdm import tqdm\n",
        "import ast\n",
        "from gensim.models import Word2Vec\n",
        "\n",
        "\n",
        "# n-gram 생성 함수\n",
        "def generate_ngrams(token_list, max_n=5):\n",
        "    words = [token[0] for token in token_list]  # 단어 리스트 추출\n",
        "    ngram_list = []  # n-gram을 저장할 리스트\n",
        "    for n in range(1, max_n + 1):  # 1-gram부터 max_n-gram까지-\n",
        "        ngrams = [' '.join(words[i:i+n]) for i in range(len(words) - n + 1)]  # n-gram을 문자열로 변환\n",
        "        ngram_list.extend(ngrams)  # n-gram 리스트에 추가\n",
        "    return ngram_list\n",
        "\n",
        "# 기존 모델 불러오기\n",
        "model = Word2Vec.load(\"ngram2vec.model\")\n",
        "\n",
        "# CSV 파일 처리 함수 (각 chunk를 읽고 n-gram 리스트로 변환)\n",
        "def processChunkmpb(chunk_num=1):\n",
        "    chunk = pd.read_csv(f'/content/drive/MyDrive/BOK-TEAM-2/데이터 전처리/금통위 의사록/tokenized_MPB_results.csv')\n",
        "    chunk['tagged'] = chunk['tagged'].apply(lambda x: ast.literal_eval(x))\n",
        "    chunk['tagged'] = chunk['tagged'].apply(lambda x: [word for word in x if word[1] in ALLOWED_TAGS])\n",
        "    return chunk\n",
        "\n",
        "# 반복할 필요 없이 한 번만 하면 됨\n",
        "\n",
        "df = processChunkmpb(1)\n",
        "ngrams = []\n",
        "    # 각 문서별로 n-gram을 생성\n",
        "for text in df['tagged']:\n",
        "        ngrams.extend(generate_ngrams(text))\n",
        "\n",
        "# 모델에 n-gram을 추가하고 학습\n",
        "model.build_vocab([chunk_ngrams], update=True)\n",
        "model.train([chunk_ngrams], total_examples=1, epochs=model.epochs, compute_loss=True)\n",
        "\n",
        "# 학습된 모델 저장\n",
        "model.save(\"ngram2vec.model\")\n"
      ],
      "metadata": {
        "id": "L0Y88lkIt9OF",
        "colab": {
          "base_uri": "https://localhost:8080/"
        },
        "outputId": "fd233caa-4e69-4d36-dfb6-6771606fc915"
      },
      "execution_count": 7,
      "outputs": [
        {
          "output_type": "stream",
          "name": "stderr",
          "text": [
            "WARNING:gensim.models.word2vec:Effective 'alpha' higher than previous training cycles\n"
          ]
        }
      ]
    },
    {
      "cell_type": "markdown",
      "source": [
        "### 리서치 파일을 통한 학습 코드\n"
      ],
      "metadata": {
        "id": "m591EwqBxqIK"
      }
    },
    {
      "cell_type": "code",
      "source": [
        "import pandas as pd\n",
        "# 파일 경로 지정\n",
        "file_path1 = r'/content/drive/MyDrive/BOK-TEAM-2/데이터 전처리/리서치/경제/tokenized_economy_results.csv'\n",
        "file_path2 = r'/content/drive/MyDrive/BOK-TEAM-2/데이터 전처리/리서치/채권/tokenized_bond_results.csv'\n",
        "\n",
        "df1 = pd.read_csv(file_path1, encoding='utf-8')"
      ],
      "metadata": {
        "id": "pOKmfxcZyyXR"
      },
      "execution_count": null,
      "outputs": []
    },
    {
      "cell_type": "code",
      "source": [
        "# 토큰자료를 5000개씩 나누어 처리할 문서 만들기\n",
        "import pandas as pd\n",
        "import os\n",
        "# encoding 문제 해결하기\n",
        "file_path1 = r'/content/drive/MyDrive/BOK-TEAM-2/데이터 전처리/리서치/경제/tokenized_economy_results.csv'\n",
        "\n",
        "# 디렉터리 생성\n",
        "output_dir = r'/content/drive/MyDrive/BOK-TEAM-2/데이터 전처리/리서치/토큰자료'\n",
        "os.makedirs(output_dir, exist_ok=True)\n",
        "\n",
        "# 파일을 일정 크기로 나누어 저장\n",
        "chunck_size = 3000 # 아래서 소요 시간이 너무 길어서 chunk size 조정함\n",
        "chunk_count = 0\n",
        "\n",
        "for chunk in pd.read_csv(file_path1, chunksize=chunck_size,  encoding='utf-8'):\n",
        "    chunk_count += 1\n",
        "    output_file = os.path.join(output_dir, f'chunk_{chunk_count}.csv')\n",
        "    chunk.to_csv(output_file, index=False, encoding = 'utf-8-sig')\n",
        "    print(f'경제, {chunk_count} 저장 완료')\n",
        "\n",
        "file_path2 = r'/content/drive/MyDrive/BOK-TEAM-2/데이터 전처리/리서치/채권/tokenized_bond_results.csv'\n",
        "# 디렉터리 생성\n",
        "\n",
        "for chunk in pd.read_csv(file_path2, chunksize=chunck_size, encoding='utf-8'):\n",
        "    chunk_count += 1\n",
        "    output_file = os.path.join(output_dir, f'chunk_{chunk_count}.csv')\n",
        "    chunk.to_csv(output_file, index=False, encoding = 'utf-8-sig')\n",
        "    print(f'채권, {chunk_count} 저장 완료')\n"
      ],
      "metadata": {
        "id": "E_mln1kMxqIL",
        "colab": {
          "base_uri": "https://localhost:8080/"
        },
        "outputId": "e9390d19-67df-422a-b808-30e369f783e9"
      },
      "execution_count": 8,
      "outputs": [
        {
          "output_type": "stream",
          "name": "stdout",
          "text": [
            "경제, 1 저장 완료\n",
            "경제, 2 저장 완료\n",
            "경제, 3 저장 완료\n",
            "채권, 4 저장 완료\n",
            "채권, 5 저장 완료\n"
          ]
        }
      ]
    },
    {
      "cell_type": "code",
      "source": [
        "import pandas as pd\n",
        "from tqdm import tqdm\n",
        "import ast\n",
        "from gensim.models import Word2Vec\n",
        "\n",
        "# n-gram 생성 함수\n",
        "def generate_ngrams(token_list, max_n=5):\n",
        "    words = [token[0] for token in token_list]  # 단어 리스트 추출\n",
        "    ngram_list = []  # n-gram을 저장할 리스트\n",
        "    for n in range(1, max_n + 1):  # 1-gram부터 max_n-gram까지\n",
        "        ngrams = [' '.join(words[i:i+n]) for i in range(len(words) - n + 1)]  # n-gram을 문자열로 변환\n",
        "        ngram_list.extend(ngrams)  # n-gram 리스트에 추가\n",
        "    return ngram_list\n",
        "\n",
        "# 기존 모델 불러오기\n",
        "model = Word2Vec.load(\"ngram2vec.model\")\n",
        "\n",
        "# CSV 파일 처리 함수 (각 chunk를 읽고 n-gram 리스트로 변환)\n",
        "def processChunk_research(chunk_num):\n",
        "    chunk = pd.read_csv(f'/content/drive/MyDrive/BOK-TEAM-2/데이터 전처리/리서치/토큰자료/chunk_{chunk_num}.csv')\n",
        "    chunk['tagged'] = chunk['tagged'].apply(lambda x: ast.literal_eval(x))\n",
        "    chunk['tagged'] = chunk['tagged'].apply(lambda x: [word for word in x if word[1] in ALLOWED_TAGS])\n",
        "    return chunk\n",
        "\n",
        "# 문서별로 n-gram을 생성하고 모델에 추가 (반복문 최적화)\n",
        "for chunk_num in tqdm(range(1,6)):  # 갯수 확인\n",
        "    df = processChunk_research(chunk_num)  # 각 chunk 파일 읽기\n",
        "    chunk_ngrams = []\n",
        "\n",
        "    # 각 문서별로 n-gram을 생성\n",
        "    for text in df['tagged']:\n",
        "        chunk_ngrams.extend(generate_ngrams(text))\n",
        "\n",
        "    # 모델에 n-gram을 추가하고 학습 (한 번에 n-gram을 추가하고 학습)\n",
        "    model.build_vocab([chunk_ngrams], update=True)\n",
        "    model.train([chunk_ngrams], total_examples=1, epochs=model.epochs, compute_loss=True)\n",
        "\n",
        "# 학습된 모델 저장\n",
        "model.save(\"ngram2vec.model\")\n"
      ],
      "metadata": {
        "id": "hmeoEeicxqIL",
        "colab": {
          "base_uri": "https://localhost:8080/",
          "height": 356
        },
        "outputId": "5f9f046c-4f01-4de8-b87f-0f734fd59e4f"
      },
      "execution_count": 4,
      "outputs": [
        {
          "output_type": "error",
          "ename": "KeyboardInterrupt",
          "evalue": "",
          "traceback": [
            "\u001b[0;31m---------------------------------------------------------------------------\u001b[0m",
            "\u001b[0;31mKeyboardInterrupt\u001b[0m                         Traceback (most recent call last)",
            "\u001b[0;32m<ipython-input-4-c683988e3438>\u001b[0m in \u001b[0;36m<cell line: 0>\u001b[0;34m()\u001b[0m\n\u001b[1;32m     14\u001b[0m \u001b[0;34m\u001b[0m\u001b[0m\n\u001b[1;32m     15\u001b[0m \u001b[0;31m# 기존 모델 불러오기\u001b[0m\u001b[0;34m\u001b[0m\u001b[0;34m\u001b[0m\u001b[0m\n\u001b[0;32m---> 16\u001b[0;31m \u001b[0mmodel\u001b[0m \u001b[0;34m=\u001b[0m \u001b[0mWord2Vec\u001b[0m\u001b[0;34m.\u001b[0m\u001b[0mload\u001b[0m\u001b[0;34m(\u001b[0m\u001b[0;34m\"ngram2vec.model\"\u001b[0m\u001b[0;34m)\u001b[0m\u001b[0;34m\u001b[0m\u001b[0;34m\u001b[0m\u001b[0m\n\u001b[0m\u001b[1;32m     17\u001b[0m \u001b[0;34m\u001b[0m\u001b[0m\n\u001b[1;32m     18\u001b[0m \u001b[0;31m# CSV 파일 처리 함수 (각 chunk를 읽고 n-gram 리스트로 변환)\u001b[0m\u001b[0;34m\u001b[0m\u001b[0;34m\u001b[0m\u001b[0m\n",
            "\u001b[0;32m/usr/local/lib/python3.11/dist-packages/gensim/models/word2vec.py\u001b[0m in \u001b[0;36mload\u001b[0;34m(cls, rethrow, *args, **kwargs)\u001b[0m\n\u001b[1;32m   1951\u001b[0m         \"\"\"\n\u001b[1;32m   1952\u001b[0m         \u001b[0;32mtry\u001b[0m\u001b[0;34m:\u001b[0m\u001b[0;34m\u001b[0m\u001b[0;34m\u001b[0m\u001b[0m\n\u001b[0;32m-> 1953\u001b[0;31m             \u001b[0mmodel\u001b[0m \u001b[0;34m=\u001b[0m \u001b[0msuper\u001b[0m\u001b[0;34m(\u001b[0m\u001b[0mWord2Vec\u001b[0m\u001b[0;34m,\u001b[0m \u001b[0mcls\u001b[0m\u001b[0;34m)\u001b[0m\u001b[0;34m.\u001b[0m\u001b[0mload\u001b[0m\u001b[0;34m(\u001b[0m\u001b[0;34m*\u001b[0m\u001b[0margs\u001b[0m\u001b[0;34m,\u001b[0m \u001b[0;34m**\u001b[0m\u001b[0mkwargs\u001b[0m\u001b[0;34m)\u001b[0m\u001b[0;34m\u001b[0m\u001b[0;34m\u001b[0m\u001b[0m\n\u001b[0m\u001b[1;32m   1954\u001b[0m             \u001b[0;32mif\u001b[0m \u001b[0;32mnot\u001b[0m \u001b[0misinstance\u001b[0m\u001b[0;34m(\u001b[0m\u001b[0mmodel\u001b[0m\u001b[0;34m,\u001b[0m \u001b[0mWord2Vec\u001b[0m\u001b[0;34m)\u001b[0m\u001b[0;34m:\u001b[0m\u001b[0;34m\u001b[0m\u001b[0;34m\u001b[0m\u001b[0m\n\u001b[1;32m   1955\u001b[0m                 \u001b[0mrethrow\u001b[0m \u001b[0;34m=\u001b[0m \u001b[0;32mTrue\u001b[0m\u001b[0;34m\u001b[0m\u001b[0;34m\u001b[0m\u001b[0m\n",
            "\u001b[0;32m/usr/local/lib/python3.11/dist-packages/gensim/utils.py\u001b[0m in \u001b[0;36mload\u001b[0;34m(cls, fname, mmap)\u001b[0m\n\u001b[1;32m    484\u001b[0m \u001b[0;34m\u001b[0m\u001b[0m\n\u001b[1;32m    485\u001b[0m         \u001b[0mobj\u001b[0m \u001b[0;34m=\u001b[0m \u001b[0munpickle\u001b[0m\u001b[0;34m(\u001b[0m\u001b[0mfname\u001b[0m\u001b[0;34m)\u001b[0m\u001b[0;34m\u001b[0m\u001b[0;34m\u001b[0m\u001b[0m\n\u001b[0;32m--> 486\u001b[0;31m         \u001b[0mobj\u001b[0m\u001b[0;34m.\u001b[0m\u001b[0m_load_specials\u001b[0m\u001b[0;34m(\u001b[0m\u001b[0mfname\u001b[0m\u001b[0;34m,\u001b[0m \u001b[0mmmap\u001b[0m\u001b[0;34m,\u001b[0m \u001b[0mcompress\u001b[0m\u001b[0;34m,\u001b[0m \u001b[0msubname\u001b[0m\u001b[0;34m)\u001b[0m\u001b[0;34m\u001b[0m\u001b[0;34m\u001b[0m\u001b[0m\n\u001b[0m\u001b[1;32m    487\u001b[0m         \u001b[0mobj\u001b[0m\u001b[0;34m.\u001b[0m\u001b[0madd_lifecycle_event\u001b[0m\u001b[0;34m(\u001b[0m\u001b[0;34m\"loaded\"\u001b[0m\u001b[0;34m,\u001b[0m \u001b[0mfname\u001b[0m\u001b[0;34m=\u001b[0m\u001b[0mfname\u001b[0m\u001b[0;34m)\u001b[0m\u001b[0;34m\u001b[0m\u001b[0;34m\u001b[0m\u001b[0m\n\u001b[1;32m    488\u001b[0m         \u001b[0;32mreturn\u001b[0m \u001b[0mobj\u001b[0m\u001b[0;34m\u001b[0m\u001b[0;34m\u001b[0m\u001b[0m\n",
            "\u001b[0;32m/usr/local/lib/python3.11/dist-packages/gensim/models/word2vec.py\u001b[0m in \u001b[0;36m_load_specials\u001b[0;34m(self, *args, **kwargs)\u001b[0m\n\u001b[1;32m   1967\u001b[0m     \u001b[0;32mdef\u001b[0m \u001b[0m_load_specials\u001b[0m\u001b[0;34m(\u001b[0m\u001b[0mself\u001b[0m\u001b[0;34m,\u001b[0m \u001b[0;34m*\u001b[0m\u001b[0margs\u001b[0m\u001b[0;34m,\u001b[0m \u001b[0;34m**\u001b[0m\u001b[0mkwargs\u001b[0m\u001b[0;34m)\u001b[0m\u001b[0;34m:\u001b[0m\u001b[0;34m\u001b[0m\u001b[0;34m\u001b[0m\u001b[0m\n\u001b[1;32m   1968\u001b[0m         \u001b[0;34m\"\"\"Handle special requirements of `.load()` protocol, usually up-converting older versions.\"\"\"\u001b[0m\u001b[0;34m\u001b[0m\u001b[0;34m\u001b[0m\u001b[0m\n\u001b[0;32m-> 1969\u001b[0;31m         \u001b[0msuper\u001b[0m\u001b[0;34m(\u001b[0m\u001b[0mWord2Vec\u001b[0m\u001b[0;34m,\u001b[0m \u001b[0mself\u001b[0m\u001b[0;34m)\u001b[0m\u001b[0;34m.\u001b[0m\u001b[0m_load_specials\u001b[0m\u001b[0;34m(\u001b[0m\u001b[0;34m*\u001b[0m\u001b[0margs\u001b[0m\u001b[0;34m,\u001b[0m \u001b[0;34m**\u001b[0m\u001b[0mkwargs\u001b[0m\u001b[0;34m)\u001b[0m\u001b[0;34m\u001b[0m\u001b[0;34m\u001b[0m\u001b[0m\n\u001b[0m\u001b[1;32m   1970\u001b[0m         \u001b[0;31m# for backward compatibility, add/rearrange properties from prior versions\u001b[0m\u001b[0;34m\u001b[0m\u001b[0;34m\u001b[0m\u001b[0m\n\u001b[1;32m   1971\u001b[0m         \u001b[0;32mif\u001b[0m \u001b[0;32mnot\u001b[0m \u001b[0mhasattr\u001b[0m\u001b[0;34m(\u001b[0m\u001b[0mself\u001b[0m\u001b[0;34m,\u001b[0m \u001b[0;34m'ns_exponent'\u001b[0m\u001b[0;34m)\u001b[0m\u001b[0;34m:\u001b[0m\u001b[0;34m\u001b[0m\u001b[0;34m\u001b[0m\u001b[0m\n",
            "\u001b[0;32m/usr/local/lib/python3.11/dist-packages/gensim/utils.py\u001b[0m in \u001b[0;36m_load_specials\u001b[0;34m(self, fname, mmap, compress, subname)\u001b[0m\n\u001b[1;32m    526\u001b[0m                 \u001b[0mval\u001b[0m \u001b[0;34m=\u001b[0m \u001b[0mnp\u001b[0m\u001b[0;34m.\u001b[0m\u001b[0mload\u001b[0m\u001b[0;34m(\u001b[0m\u001b[0msubname\u001b[0m\u001b[0;34m(\u001b[0m\u001b[0mfname\u001b[0m\u001b[0;34m,\u001b[0m \u001b[0mattrib\u001b[0m\u001b[0;34m)\u001b[0m\u001b[0;34m)\u001b[0m\u001b[0;34m[\u001b[0m\u001b[0;34m'val'\u001b[0m\u001b[0;34m]\u001b[0m\u001b[0;34m\u001b[0m\u001b[0;34m\u001b[0m\u001b[0m\n\u001b[1;32m    527\u001b[0m             \u001b[0;32melse\u001b[0m\u001b[0;34m:\u001b[0m\u001b[0;34m\u001b[0m\u001b[0;34m\u001b[0m\u001b[0m\n\u001b[0;32m--> 528\u001b[0;31m                 \u001b[0mval\u001b[0m \u001b[0;34m=\u001b[0m \u001b[0mnp\u001b[0m\u001b[0;34m.\u001b[0m\u001b[0mload\u001b[0m\u001b[0;34m(\u001b[0m\u001b[0msubname\u001b[0m\u001b[0;34m(\u001b[0m\u001b[0mfname\u001b[0m\u001b[0;34m,\u001b[0m \u001b[0mattrib\u001b[0m\u001b[0;34m)\u001b[0m\u001b[0;34m,\u001b[0m \u001b[0mmmap_mode\u001b[0m\u001b[0;34m=\u001b[0m\u001b[0mmmap\u001b[0m\u001b[0;34m)\u001b[0m\u001b[0;34m\u001b[0m\u001b[0;34m\u001b[0m\u001b[0m\n\u001b[0m\u001b[1;32m    529\u001b[0m \u001b[0;34m\u001b[0m\u001b[0m\n\u001b[1;32m    530\u001b[0m             \u001b[0;32mwith\u001b[0m \u001b[0mignore_deprecation_warning\u001b[0m\u001b[0;34m(\u001b[0m\u001b[0;34m)\u001b[0m\u001b[0;34m:\u001b[0m\u001b[0;34m\u001b[0m\u001b[0;34m\u001b[0m\u001b[0m\n",
            "\u001b[0;32m/usr/local/lib/python3.11/dist-packages/numpy/lib/npyio.py\u001b[0m in \u001b[0;36mload\u001b[0;34m(file, mmap_mode, allow_pickle, fix_imports, encoding, max_header_size)\u001b[0m\n\u001b[1;32m    454\u001b[0m                                           max_header_size=max_header_size)\n\u001b[1;32m    455\u001b[0m             \u001b[0;32melse\u001b[0m\u001b[0;34m:\u001b[0m\u001b[0;34m\u001b[0m\u001b[0;34m\u001b[0m\u001b[0m\n\u001b[0;32m--> 456\u001b[0;31m                 return format.read_array(fid, allow_pickle=allow_pickle,\n\u001b[0m\u001b[1;32m    457\u001b[0m                                          \u001b[0mpickle_kwargs\u001b[0m\u001b[0;34m=\u001b[0m\u001b[0mpickle_kwargs\u001b[0m\u001b[0;34m,\u001b[0m\u001b[0;34m\u001b[0m\u001b[0;34m\u001b[0m\u001b[0m\n\u001b[1;32m    458\u001b[0m                                          max_header_size=max_header_size)\n",
            "\u001b[0;32m/usr/local/lib/python3.11/dist-packages/numpy/lib/format.py\u001b[0m in \u001b[0;36mread_array\u001b[0;34m(fp, allow_pickle, pickle_kwargs, max_header_size)\u001b[0m\n\u001b[1;32m    807\u001b[0m         \u001b[0;32mif\u001b[0m \u001b[0misfileobj\u001b[0m\u001b[0;34m(\u001b[0m\u001b[0mfp\u001b[0m\u001b[0;34m)\u001b[0m\u001b[0;34m:\u001b[0m\u001b[0;34m\u001b[0m\u001b[0;34m\u001b[0m\u001b[0m\n\u001b[1;32m    808\u001b[0m             \u001b[0;31m# We can use the fast fromfile() function.\u001b[0m\u001b[0;34m\u001b[0m\u001b[0;34m\u001b[0m\u001b[0m\n\u001b[0;32m--> 809\u001b[0;31m             \u001b[0marray\u001b[0m \u001b[0;34m=\u001b[0m \u001b[0mnumpy\u001b[0m\u001b[0;34m.\u001b[0m\u001b[0mfromfile\u001b[0m\u001b[0;34m(\u001b[0m\u001b[0mfp\u001b[0m\u001b[0;34m,\u001b[0m \u001b[0mdtype\u001b[0m\u001b[0;34m=\u001b[0m\u001b[0mdtype\u001b[0m\u001b[0;34m,\u001b[0m \u001b[0mcount\u001b[0m\u001b[0;34m=\u001b[0m\u001b[0mcount\u001b[0m\u001b[0;34m)\u001b[0m\u001b[0;34m\u001b[0m\u001b[0;34m\u001b[0m\u001b[0m\n\u001b[0m\u001b[1;32m    810\u001b[0m         \u001b[0;32melse\u001b[0m\u001b[0;34m:\u001b[0m\u001b[0;34m\u001b[0m\u001b[0;34m\u001b[0m\u001b[0m\n\u001b[1;32m    811\u001b[0m             \u001b[0;31m# This is not a real file. We have to read it the\u001b[0m\u001b[0;34m\u001b[0m\u001b[0;34m\u001b[0m\u001b[0m\n",
            "\u001b[0;31mKeyboardInterrupt\u001b[0m: "
          ]
        }
      ]
    },
    {
      "cell_type": "code",
      "source": [
        "### 빈도수 15이하 짜리를 버리는 코드 작성\n",
        "# 학습된 모델에서 단어의 빈도를 확인하고 제거\n",
        "word_counts = {word: model.wv.get_vecattr(word, \"count\") for word in model.wv.index_to_key}\n",
        "words_to_remove = [word for word, count in word_counts.items() if count <= 15]\n",
        "# 제거된 단어들 삭제\n",
        "for word in words_to_remove:\n",
        "    del model.wv.key_to_index[word]  # 단어의 인덱스에서 제거\n",
        "    del model.wv.index_to_key[model.wv.key_to_index[word]]  # 단어 목록에서 제거"
      ],
      "metadata": {
        "id": "yKMOl8ju1ZQB"
      },
      "execution_count": null,
      "outputs": []
    },
    {
      "cell_type": "markdown",
      "metadata": {
        "id": "z1eiWAJSgAU1"
      },
      "source": [
        "## 4. ngram2vec 모델 테스트\n",
        "    4-1. 유사도 구해지는지 확인\n",
        "    4-2. 의문점이 생김; hawkish와 dovish를 어떻게 구분할 것인가? (Clustering? or 또 다른 정리법)"
      ]
    },
    {
      "cell_type": "markdown",
      "source": [
        "### 학습 모델 테스트"
      ],
      "metadata": {
        "id": "F1AjOnHwuGzR"
      }
    },
    {
      "cell_type": "code",
      "source": [
        "# 전체 vocabulary 확인\n",
        "model = gensim.models.Word2Vec.load('ngram2vec.model')\n",
        "vocab = model.wv.key_to_index  # 모든 단어의 목록\n",
        "print(f\"전체 vocabulary에 포함된 단어 수: {len(vocab)}\")\n",
        "print(f\"전체 vocabulary: {list(vocab.keys())[60000]}\")  # 처음 10개 단어 보기 # 빈도를 25개 이상으로 높이니 단어가 확 줄어듦 / 이건 좀 고려해 볼 사항\n",
        "type(list(vocab.keys())[1])"
      ],
      "metadata": {
        "id": "RbT6JTwt3xD5"
      },
      "execution_count": null,
      "outputs": []
    },
    {
      "cell_type": "code",
      "source": [
        "# 예외 처리로 KeyError 방지\n",
        "model = gensim.models.Word2Vec.load('ngram2vec.model')\n",
        "word = '미국'\n",
        "try:\n",
        "    vector = model.wv[word]\n",
        "    print(f\"'{word}'의 벡터: {vector}\")\n",
        "except KeyError:\n",
        "    print(f\"'{word}'는 모델 vocab에 없습니다.\")"
      ],
      "metadata": {
        "collapsed": true,
        "id": "_Lw5Cayd9SWM",
        "colab": {
          "base_uri": "https://localhost:8080/"
        },
        "outputId": "2772c6c4-3965-4643-c234-044367a8e4b0"
      },
      "execution_count": 10,
      "outputs": [
        {
          "output_type": "stream",
          "name": "stdout",
          "text": [
            "'미국'의 벡터: [ 0.2939418   0.37713772 -0.00171352  0.4079608   0.43135825 -0.9520227\n",
            "  0.13058862  1.5246304   0.23921071 -0.25360096  0.1933729  -0.4379281\n",
            "  0.5296459   0.43791202 -0.46650553 -0.49961218  0.5351539  -0.19063842\n",
            "  0.33258364 -0.4797815  -0.32422635 -0.10328605  0.7061832   0.7506429\n",
            "  0.19752917  0.21329725 -0.7742537  -0.1356434  -0.21581092 -0.53996015\n",
            " -0.0578954   0.41846448  0.43877828  0.1766387   0.02325077  0.37712985\n",
            "  0.11280572 -0.24028845  0.03747813 -0.2294232  -1.1437941   0.11870578\n",
            " -0.0386237  -0.40198785  0.91637516  0.5302893   0.07188284  0.4844072\n",
            "  0.10306457  0.19020438  0.5014024  -0.22060919 -0.47706148 -0.2985152\n",
            " -0.21779451  0.38156843  0.58688295  0.43499702 -0.3579145   0.10216195\n",
            "  0.29719576  0.21950395  0.17694145  0.3983797   0.38189656  0.56187046\n",
            " -0.363909    0.01710273 -0.8269132   0.05308753  0.40039596  0.3850759\n",
            "  0.5958921  -0.45026404 -0.08831631  0.27466238 -0.08633387 -0.18912634\n",
            " -0.7463434   0.04621189 -0.27325988 -0.7498988  -0.4708439   0.3604002\n",
            " -0.35439408 -0.2682584  -0.37946746 -0.20061737  0.4373676   0.5762103\n",
            "  0.49878347  0.11909069 -0.47257435  0.07316973  0.70233554  0.01455094\n",
            "  0.4971581  -0.23538984 -0.5898536   0.4422936  -0.08110709  0.09598655\n",
            " -0.08754165  0.84358335  0.03013922  0.02726313 -0.14501551  0.07078033\n",
            " -0.35628617 -0.3035136  -0.96680975 -0.39950815  0.19360106 -0.1833048\n",
            " -0.11780762  0.9793914   0.03035332 -0.51997757  0.3158424  -0.9181268\n",
            "  0.56635374  1.2390559   0.6912982  -0.29245046 -0.42193347  0.34062448\n",
            "  0.17440547 -0.82327765 -0.21485974  0.7725715   0.61240274  0.7821245\n",
            " -0.14857541 -0.45140418  0.13927539  0.03314781  0.31163663 -0.23987101\n",
            " -1.0652729  -0.5626604  -0.03000305 -0.83950275 -0.40214694  0.8719187\n",
            "  0.6297894  -1.3636111  -0.39231095 -0.3405692   0.5307652  -1.0687494\n",
            " -0.27291316 -0.54063976 -0.09062389 -0.76715946 -0.04814177  0.1964211\n",
            " -1.0418333  -0.4495552  -0.13086101  0.89685225  0.61668885 -0.09482414\n",
            " -0.0128461   0.62879044  0.18496266 -0.3473807   0.15712243  0.33864623\n",
            " -0.16716547  0.6291526  -0.4199648   0.13980475  0.74077076  0.29702225\n",
            " -0.38442254  0.7750194   0.31720242 -0.52749604  0.12277665  0.01363727\n",
            " -0.44284293  0.56530917 -0.37928247 -0.6675861  -0.46169975 -0.19397436\n",
            "  0.667079    0.79021156  0.23960617 -0.509049    0.23581296  0.19221771\n",
            " -0.9414027  -0.19096424  0.40022364 -0.6989665  -0.25466788 -0.4866902\n",
            "  0.6102803  -0.4117391  -0.24906188  0.37905306  0.1028771  -0.32939056\n",
            "  0.5283644   0.04191392  0.31836614 -0.2527214  -0.06936483 -0.34231475\n",
            " -0.03913387 -0.68752635 -0.8151289  -0.11347958  0.5579626  -0.48654962\n",
            " -0.3094407  -0.97789735 -0.364183   -0.17337014  0.18988034 -0.1337351\n",
            "  0.02805389 -0.46112072 -0.01728978 -0.14548048  0.0608383  -0.08268341\n",
            " -1.0583194   0.5401707   0.79073864 -0.4344498  -0.4487236   0.4206632\n",
            " -0.1644411   0.64208883 -0.10194701  0.5800375  -0.18403703 -1.0009536\n",
            " -0.51908535  0.13018    -0.80200857  0.24079466  0.17762008 -0.4316722\n",
            " -0.12528884  0.40623155 -0.38954964  0.45709503  0.31191078  0.07940351\n",
            "  0.4363773  -0.08351652 -0.6364173  -1.628122    0.8608199   0.26464164\n",
            " -0.45494318 -1.0056396   0.34724924  0.10703823  0.36116752 -1.2601166\n",
            " -0.6294159   0.61435604 -0.4726904   0.77363086 -0.587904    0.1437889\n",
            " -0.7493349   0.17752011 -0.04288     0.1021044   0.4080064   0.2019094\n",
            "  0.29476318  0.6489092  -0.6521603   0.15635404 -0.22885185 -0.12407392\n",
            " -0.05240549  0.0581218   0.06821179  0.254594   -0.9585727   1.0590584\n",
            " -0.01590524  0.10348827  0.19890837  0.92161715 -0.02728299  0.66278833\n",
            "  0.4810044   1.4671061   0.21499333 -1.0304538   0.64181894  0.1820174 ]\n"
          ]
        }
      ]
    },
    {
      "cell_type": "code",
      "source": [
        "import numpy as np\n",
        "from sklearn.metrics.pairwise import cosine_similarity\n",
        "import gensim\n",
        "from nltk.tokenize import word_tokenize\n",
        "\n",
        "model = gensim.models.Word2Vec.load('ngram2vec.model')\n",
        "\n",
        "# n-gram 문자열을 벡터로 변환하는 함수 (각 단어의 벡터 평균 계산)\n",
        "def get_ngram_vector(ngram, model):\n",
        "    # ngram 문자열을 단어로 토큰화\n",
        "    words = word_tokenize(ngram)\n",
        "\n",
        "    # 각 단어 벡터를 가져와서 평균을 구함\n",
        "    vectors = [model.wv[word] for word in words if word in model.wv]\n",
        "\n",
        "    if len(vectors) == 0:\n",
        "        return np.zeros(model.vector_size)  # 벡터가 없으면 0으로 대체\n",
        "\n",
        "    # 벡터들의 평균을 계산\n",
        "    return np.mean(vectors, axis=0)\n",
        "\n",
        "# 두 n-gram 간의 유사도 계산\n",
        "def calculate_similarity(ngram1, ngram2, model):\n",
        "    vec1 = get_ngram_vector(ngram1, model)\n",
        "    vec2 = get_ngram_vector(ngram2, model)\n",
        "\n",
        "    # 벡터가 NaN인 경우를 처리\n",
        "    if np.isnan(vec1).any() or np.isnan(vec2).any():\n",
        "        return 0  # NaN이 있을 경우 유사도를 0으로 처리\n",
        "\n",
        "    # 벡터를 2D 배열로 reshape하여 cosine similarity 계산\n",
        "    similarity = cosine_similarity([vec1], [vec2])[0][0]\n",
        "    return similarity\n",
        "\n",
        "# 예시 n-gram 문자열\n",
        "ngram1 = '아파트 담보대출 금리'\n",
        "ngram2 = '미국 금리'\n",
        "\n",
        "# 두 n-gram 문자열 간의 유사도 계산\n",
        "similarity = calculate_similarity(ngram1, ngram2, model)\n",
        "print(f\"'{ngram1}'와 '{ngram2}'의 유사도: {similarity}\")\n"
      ],
      "metadata": {
        "id": "ft02goIi3L-T",
        "colab": {
          "base_uri": "https://localhost:8080/",
          "height": 356
        },
        "outputId": "bca17837-cda9-4079-f4d5-b5c3c1d65fe6"
      },
      "execution_count": 8,
      "outputs": [
        {
          "output_type": "error",
          "ename": "KeyboardInterrupt",
          "evalue": "",
          "traceback": [
            "\u001b[0;31m---------------------------------------------------------------------------\u001b[0m",
            "\u001b[0;31mKeyboardInterrupt\u001b[0m                         Traceback (most recent call last)",
            "\u001b[0;32m<ipython-input-8-e0521c0bb06b>\u001b[0m in \u001b[0;36m<cell line: 0>\u001b[0;34m()\u001b[0m\n\u001b[1;32m      4\u001b[0m \u001b[0;32mfrom\u001b[0m \u001b[0mnltk\u001b[0m\u001b[0;34m.\u001b[0m\u001b[0mtokenize\u001b[0m \u001b[0;32mimport\u001b[0m \u001b[0mword_tokenize\u001b[0m\u001b[0;34m\u001b[0m\u001b[0;34m\u001b[0m\u001b[0m\n\u001b[1;32m      5\u001b[0m \u001b[0;34m\u001b[0m\u001b[0m\n\u001b[0;32m----> 6\u001b[0;31m \u001b[0mmodel\u001b[0m \u001b[0;34m=\u001b[0m \u001b[0mgensim\u001b[0m\u001b[0;34m.\u001b[0m\u001b[0mmodels\u001b[0m\u001b[0;34m.\u001b[0m\u001b[0mWord2Vec\u001b[0m\u001b[0;34m.\u001b[0m\u001b[0mload\u001b[0m\u001b[0;34m(\u001b[0m\u001b[0;34m'ngram2vec.model'\u001b[0m\u001b[0;34m)\u001b[0m\u001b[0;34m\u001b[0m\u001b[0;34m\u001b[0m\u001b[0m\n\u001b[0m\u001b[1;32m      7\u001b[0m \u001b[0;34m\u001b[0m\u001b[0m\n\u001b[1;32m      8\u001b[0m \u001b[0;31m# n-gram 문자열을 벡터로 변환하는 함수 (각 단어의 벡터 평균 계산)\u001b[0m\u001b[0;34m\u001b[0m\u001b[0;34m\u001b[0m\u001b[0m\n",
            "\u001b[0;32m/usr/local/lib/python3.11/dist-packages/gensim/models/word2vec.py\u001b[0m in \u001b[0;36mload\u001b[0;34m(cls, rethrow, *args, **kwargs)\u001b[0m\n\u001b[1;32m   1951\u001b[0m         \"\"\"\n\u001b[1;32m   1952\u001b[0m         \u001b[0;32mtry\u001b[0m\u001b[0;34m:\u001b[0m\u001b[0;34m\u001b[0m\u001b[0;34m\u001b[0m\u001b[0m\n\u001b[0;32m-> 1953\u001b[0;31m             \u001b[0mmodel\u001b[0m \u001b[0;34m=\u001b[0m \u001b[0msuper\u001b[0m\u001b[0;34m(\u001b[0m\u001b[0mWord2Vec\u001b[0m\u001b[0;34m,\u001b[0m \u001b[0mcls\u001b[0m\u001b[0;34m)\u001b[0m\u001b[0;34m.\u001b[0m\u001b[0mload\u001b[0m\u001b[0;34m(\u001b[0m\u001b[0;34m*\u001b[0m\u001b[0margs\u001b[0m\u001b[0;34m,\u001b[0m \u001b[0;34m**\u001b[0m\u001b[0mkwargs\u001b[0m\u001b[0;34m)\u001b[0m\u001b[0;34m\u001b[0m\u001b[0;34m\u001b[0m\u001b[0m\n\u001b[0m\u001b[1;32m   1954\u001b[0m             \u001b[0;32mif\u001b[0m \u001b[0;32mnot\u001b[0m \u001b[0misinstance\u001b[0m\u001b[0;34m(\u001b[0m\u001b[0mmodel\u001b[0m\u001b[0;34m,\u001b[0m \u001b[0mWord2Vec\u001b[0m\u001b[0;34m)\u001b[0m\u001b[0;34m:\u001b[0m\u001b[0;34m\u001b[0m\u001b[0;34m\u001b[0m\u001b[0m\n\u001b[1;32m   1955\u001b[0m                 \u001b[0mrethrow\u001b[0m \u001b[0;34m=\u001b[0m \u001b[0;32mTrue\u001b[0m\u001b[0;34m\u001b[0m\u001b[0;34m\u001b[0m\u001b[0m\n",
            "\u001b[0;32m/usr/local/lib/python3.11/dist-packages/gensim/utils.py\u001b[0m in \u001b[0;36mload\u001b[0;34m(cls, fname, mmap)\u001b[0m\n\u001b[1;32m    484\u001b[0m \u001b[0;34m\u001b[0m\u001b[0m\n\u001b[1;32m    485\u001b[0m         \u001b[0mobj\u001b[0m \u001b[0;34m=\u001b[0m \u001b[0munpickle\u001b[0m\u001b[0;34m(\u001b[0m\u001b[0mfname\u001b[0m\u001b[0;34m)\u001b[0m\u001b[0;34m\u001b[0m\u001b[0;34m\u001b[0m\u001b[0m\n\u001b[0;32m--> 486\u001b[0;31m         \u001b[0mobj\u001b[0m\u001b[0;34m.\u001b[0m\u001b[0m_load_specials\u001b[0m\u001b[0;34m(\u001b[0m\u001b[0mfname\u001b[0m\u001b[0;34m,\u001b[0m \u001b[0mmmap\u001b[0m\u001b[0;34m,\u001b[0m \u001b[0mcompress\u001b[0m\u001b[0;34m,\u001b[0m \u001b[0msubname\u001b[0m\u001b[0;34m)\u001b[0m\u001b[0;34m\u001b[0m\u001b[0;34m\u001b[0m\u001b[0m\n\u001b[0m\u001b[1;32m    487\u001b[0m         \u001b[0mobj\u001b[0m\u001b[0;34m.\u001b[0m\u001b[0madd_lifecycle_event\u001b[0m\u001b[0;34m(\u001b[0m\u001b[0;34m\"loaded\"\u001b[0m\u001b[0;34m,\u001b[0m \u001b[0mfname\u001b[0m\u001b[0;34m=\u001b[0m\u001b[0mfname\u001b[0m\u001b[0;34m)\u001b[0m\u001b[0;34m\u001b[0m\u001b[0;34m\u001b[0m\u001b[0m\n\u001b[1;32m    488\u001b[0m         \u001b[0;32mreturn\u001b[0m \u001b[0mobj\u001b[0m\u001b[0;34m\u001b[0m\u001b[0;34m\u001b[0m\u001b[0m\n",
            "\u001b[0;32m/usr/local/lib/python3.11/dist-packages/gensim/models/word2vec.py\u001b[0m in \u001b[0;36m_load_specials\u001b[0;34m(self, *args, **kwargs)\u001b[0m\n\u001b[1;32m   1972\u001b[0m             \u001b[0mself\u001b[0m\u001b[0;34m.\u001b[0m\u001b[0mns_exponent\u001b[0m \u001b[0;34m=\u001b[0m \u001b[0;36m0.75\u001b[0m\u001b[0;34m\u001b[0m\u001b[0;34m\u001b[0m\u001b[0m\n\u001b[1;32m   1973\u001b[0m         \u001b[0;32mif\u001b[0m \u001b[0mself\u001b[0m\u001b[0;34m.\u001b[0m\u001b[0mnegative\u001b[0m \u001b[0;32mand\u001b[0m \u001b[0mhasattr\u001b[0m\u001b[0;34m(\u001b[0m\u001b[0mself\u001b[0m\u001b[0;34m.\u001b[0m\u001b[0mwv\u001b[0m\u001b[0;34m,\u001b[0m \u001b[0;34m'index_to_key'\u001b[0m\u001b[0;34m)\u001b[0m\u001b[0;34m:\u001b[0m\u001b[0;34m\u001b[0m\u001b[0;34m\u001b[0m\u001b[0m\n\u001b[0;32m-> 1974\u001b[0;31m             \u001b[0mself\u001b[0m\u001b[0;34m.\u001b[0m\u001b[0mmake_cum_table\u001b[0m\u001b[0;34m(\u001b[0m\u001b[0;34m)\u001b[0m  \u001b[0;31m# rebuild cum_table from vocabulary\u001b[0m\u001b[0;34m\u001b[0m\u001b[0;34m\u001b[0m\u001b[0m\n\u001b[0m\u001b[1;32m   1975\u001b[0m         \u001b[0;32mif\u001b[0m \u001b[0;32mnot\u001b[0m \u001b[0mhasattr\u001b[0m\u001b[0;34m(\u001b[0m\u001b[0mself\u001b[0m\u001b[0;34m,\u001b[0m \u001b[0;34m'corpus_count'\u001b[0m\u001b[0;34m)\u001b[0m\u001b[0;34m:\u001b[0m\u001b[0;34m\u001b[0m\u001b[0;34m\u001b[0m\u001b[0m\n\u001b[1;32m   1976\u001b[0m             \u001b[0mself\u001b[0m\u001b[0;34m.\u001b[0m\u001b[0mcorpus_count\u001b[0m \u001b[0;34m=\u001b[0m \u001b[0;32mNone\u001b[0m\u001b[0;34m\u001b[0m\u001b[0;34m\u001b[0m\u001b[0m\n",
            "\u001b[0;32m/usr/local/lib/python3.11/dist-packages/gensim/models/word2vec.py\u001b[0m in \u001b[0;36mmake_cum_table\u001b[0;34m(self, domain)\u001b[0m\n\u001b[1;32m    843\u001b[0m             \u001b[0mcount\u001b[0m \u001b[0;34m=\u001b[0m \u001b[0mself\u001b[0m\u001b[0;34m.\u001b[0m\u001b[0mwv\u001b[0m\u001b[0;34m.\u001b[0m\u001b[0mget_vecattr\u001b[0m\u001b[0;34m(\u001b[0m\u001b[0mword_index\u001b[0m\u001b[0;34m,\u001b[0m \u001b[0;34m'count'\u001b[0m\u001b[0;34m)\u001b[0m\u001b[0;34m\u001b[0m\u001b[0;34m\u001b[0m\u001b[0m\n\u001b[1;32m    844\u001b[0m             \u001b[0mcumulative\u001b[0m \u001b[0;34m+=\u001b[0m \u001b[0mcount\u001b[0m\u001b[0;34m**\u001b[0m\u001b[0mfloat\u001b[0m\u001b[0;34m(\u001b[0m\u001b[0mself\u001b[0m\u001b[0;34m.\u001b[0m\u001b[0mns_exponent\u001b[0m\u001b[0;34m)\u001b[0m\u001b[0;34m\u001b[0m\u001b[0;34m\u001b[0m\u001b[0m\n\u001b[0;32m--> 845\u001b[0;31m             \u001b[0mself\u001b[0m\u001b[0;34m.\u001b[0m\u001b[0mcum_table\u001b[0m\u001b[0;34m[\u001b[0m\u001b[0mword_index\u001b[0m\u001b[0;34m]\u001b[0m \u001b[0;34m=\u001b[0m \u001b[0mround\u001b[0m\u001b[0;34m(\u001b[0m\u001b[0mcumulative\u001b[0m \u001b[0;34m/\u001b[0m \u001b[0mtrain_words_pow\u001b[0m \u001b[0;34m*\u001b[0m \u001b[0mdomain\u001b[0m\u001b[0;34m)\u001b[0m\u001b[0;34m\u001b[0m\u001b[0;34m\u001b[0m\u001b[0m\n\u001b[0m\u001b[1;32m    846\u001b[0m         \u001b[0;32mif\u001b[0m \u001b[0mlen\u001b[0m\u001b[0;34m(\u001b[0m\u001b[0mself\u001b[0m\u001b[0;34m.\u001b[0m\u001b[0mcum_table\u001b[0m\u001b[0;34m)\u001b[0m \u001b[0;34m>\u001b[0m \u001b[0;36m0\u001b[0m\u001b[0;34m:\u001b[0m\u001b[0;34m\u001b[0m\u001b[0;34m\u001b[0m\u001b[0m\n\u001b[1;32m    847\u001b[0m             \u001b[0;32massert\u001b[0m \u001b[0mself\u001b[0m\u001b[0;34m.\u001b[0m\u001b[0mcum_table\u001b[0m\u001b[0;34m[\u001b[0m\u001b[0;34m-\u001b[0m\u001b[0;36m1\u001b[0m\u001b[0;34m]\u001b[0m \u001b[0;34m==\u001b[0m \u001b[0mdomain\u001b[0m\u001b[0;34m\u001b[0m\u001b[0;34m\u001b[0m\u001b[0m\n",
            "\u001b[0;31mKeyboardInterrupt\u001b[0m: "
          ]
        }
      ]
    },
    {
      "cell_type": "code",
      "source": [
        "word = '외국 은행'\n",
        "similar_words = model.wv.most_similar(word, topn=5)\n",
        "print(f\"{word}와(과) 유사한 단어들: {similar_words}\")"
      ],
      "metadata": {
        "id": "-uIPSnXNGyCU"
      },
      "execution_count": null,
      "outputs": []
    },
    {
      "cell_type": "code",
      "source": [
        "# hawkish와 dovish 사전 구해서 만들어봐야할 듯 -> 어떻게?"
      ],
      "metadata": {
        "id": "6KryGTwTC3Sr"
      },
      "execution_count": null,
      "outputs": []
    },
    {
      "cell_type": "markdown",
      "source": [
        "## + 시각화\n",
        "    - 다음 단계로 넘어가기 전, 현재 나오는 결과를 시각화 해 보자\n",
        "    - 시각화를 통해 직관적으로 이해하고, 또한 생기는 문제를 한 번 확인해 볼 수 있음\n",
        "    - matplotlib이나 seaborn 통해서 표현 (dimension이 300개나 되기 때문에 우선 2개로 줄여서 2차원 그래프로 만들어 보기) = t-SNE\n",
        "    - google 통해서도 진행 가능"
      ],
      "metadata": {
        "id": "pTJuE3ns3mg3"
      }
    },
    {
      "cell_type": "code",
      "source": [
        "from gensim.models import KeyedVectors\n",
        "\n",
        "file_path = \"ngram2vec.model\"\n",
        "\n",
        "try:\n",
        "    model = KeyedVectors.load(file_path)\n",
        "    print(\"Gensim 모델이 정상적으로 로드되었습니다.\")\n",
        "except Exception as e:\n",
        "    print(f\"오류 발생: {e}\")"
      ],
      "metadata": {
        "id": "eiZSJ7KK6Xf4",
        "colab": {
          "base_uri": "https://localhost:8080/"
        },
        "outputId": "f62215ee-52e3-494d-8997-4e2f3e27dfef"
      },
      "execution_count": 1,
      "outputs": [
        {
          "output_type": "stream",
          "name": "stdout",
          "text": [
            "Gensim 모델이 정상적으로 로드되었습니다.\n"
          ]
        }
      ]
    },
    {
      "cell_type": "code",
      "source": [
        "# 자체 폰트 경로 설정 후 사용해야 할 듯\n",
        "# 하나 업로드 해 놓자"
      ],
      "metadata": {
        "id": "d5AGBTN8BLJr"
      },
      "execution_count": 3,
      "outputs": []
    },
    {
      "cell_type": "code",
      "source": [
        "import matplotlib.pyplot as plt\n",
        "import gensim\n",
        "import numpy as np\n",
        "from sklearn.manifold import TSNE\n",
        "from matplotlib import font_manager\n",
        "import warnings\n",
        "# 'findfont' 경고 메시지 숨기기\n",
        "warnings.filterwarnings('ignore', category=UserWarning, module='matplotlib.font_manager')\n",
        "\n",
        "# 모델 불러오기\n",
        "model = gensim.models.Word2Vec.load(\"ngram2vec.model\")\n",
        "\n",
        "# 단어 리스트 가져오기 (가장 많이 등장한 1000개 단어 선택)\n",
        "words = list(model.wv.index_to_key)[:1000]\n",
        "word_vectors = np.array([model.wv[word] for word in words])  # 벡터 추출\n",
        "\n",
        "# t-SNE로 2차원 축소\n",
        "tsne = TSNE(n_components=2, random_state=42, perplexity=40, n_iter=3000)\n",
        "word_vectors_2d = tsne.fit_transform(word_vectors)\n",
        "\n",
        "# 업로드한 폰트 경로 지정\n",
        "font_path = '/content/drive/MyDrive/Colab Notebooks/강원교육모두 Light.ttf'  # 업로드한 폰트 파일 경로\n",
        "\n",
        "# 폰트 프로퍼티 설정\n",
        "font_prop = font_manager.FontProperties(fname=font_path)\n",
        "\n",
        "# 시각화\n",
        "plt.figure(figsize=(14, 10))\n",
        "plt.scatter(word_vectors_2d[:, 0], word_vectors_2d[:, 1], s=5)\n",
        "\n",
        "\n",
        "# 특정 단어들 선택\n",
        "words_to_plot = ['금리 인상', '금리 인하', '금리 상승', '금리 하락']\n",
        "# 일부 단어에 라벨 표시\n",
        "for i, word in enumerate(words_to_plot):\n",
        "    plt.annotate(word, xy=(word_vectors_2d[i, 0], word_vectors_2d[i, 1]), fontsize=12, fontproperties=font_prop)\n",
        "\n",
        "plt.title(\"t-SNE visualization of Word2Vec word embeddings\", fontproperties=font_prop)\n",
        "plt.show()"
      ],
      "metadata": {
        "id": "PDsr3SsH8WsA",
        "collapsed": true,
        "colab": {
          "base_uri": "https://localhost:8080/",
          "height": 884
        },
        "outputId": "1fb74d67-0b80-49ee-c54a-2d25ccebab16"
      },
      "execution_count": 4,
      "outputs": [
        {
          "output_type": "stream",
          "name": "stderr",
          "text": [
            "/usr/local/lib/python3.11/dist-packages/sklearn/manifold/_t_sne.py:1164: FutureWarning: 'n_iter' was renamed to 'max_iter' in version 1.5 and will be removed in 1.7.\n",
            "  warnings.warn(\n"
          ]
        },
        {
          "output_type": "display_data",
          "data": {
            "text/plain": [
              "<Figure size 1400x1000 with 1 Axes>"
            ],
            "image/png": "[encoded data removed]"
          },
          "metadata": {}
        }
      ]
    },
    {
      "cell_type": "markdown",
      "metadata": {
        "id": "Y9JWJp3UgC1U"
      },
      "source": [
        "## 5. 최적화\n",
        "    5-1. 우리가 처리해야 할 데이터는 text만 총 25만 개 정도\n",
        "    5-2. 어떻게 하면 멈추거나 메모리 문제 없이 제대로 해결할 수 있을까 -> 지금 모델로는 빠르게 돌리지는 못해도 메모리 충돌이나 과다는 없었음\n"
      ]
    },
    {
      "cell_type": "code",
      "execution_count": null,
      "metadata": {
        "id": "swaA7_FTcA-h"
      },
      "outputs": [],
      "source": [
        "# 계속해서 token불러오고 학습시키고... 지금 처럼 반복하면 Ram에 큰 무리는 없을 것\n",
        "# min_count는 기본 5로 설정해야 메모리 문제 X, 그리고 가장 많은 수의 데이터로 시작하고 있으니 중요도가 많이 떨어지는 단어만 걸러질 것이라고 추측함\n",
        "\n",
        "# 예측 결과가 나쁘지 않다면? -> 이대로 먼저 ngram2vec모델을 구글 드라이브에 저장"
      ]
    },
    {
      "cell_type": "code",
      "source": [],
      "metadata": {
        "id": "C1hihTx3KyeH"
      },
      "execution_count": null,
      "outputs": []
    },
    {
      "cell_type": "markdown",
      "source": [
        "### 6. 벡터를 활용한 분류 모델 제작\n",
        "    6-1. 어떤 모델을 사용하는가? (논문을 다시 읽어보고 구축하기)\n",
        "    - 딥러닝 분류모델 다시 복습 & 공부\n",
        "    - propagation을 수행할 수 있는 모델을 찾아서 내가 직접 구축해 보기\n",
        "    6-2. 최적화를 다시 해야 할 것인가? (Deep Learning Model의 메모리 문제가 있다면)\n"
      ],
      "metadata": {
        "id": "KqvKlKwDLFso"
      }
    }
  ],
  "metadata": {
    "colab": {
      "provenance": [],
      "collapsed_sections": [
        "-IPpGm03f15O"
      ]
    },
    "kernelspec": {
      "display_name": "Python 3",
      "name": "python3"
    },
    "language_info": {
      "name": "python"
    }
  },
  "nbformat": 4,
  "nbformat_minor": 0
}